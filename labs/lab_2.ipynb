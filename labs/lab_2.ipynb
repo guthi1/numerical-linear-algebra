{
 "cells": [
  {
   "cell_type": "markdown",
   "id": "6afa57bc",
   "metadata": {},
   "source": [
    "# MTH8211: Algèbre linéaire numérique appliquée"
   ]
  },
  {
   "cell_type": "markdown",
   "id": "e40f6bb6",
   "metadata": {},
   "source": [
    "### Laboratoire 2: Méthodes directes"
   ]
  },
  {
   "cell_type": "markdown",
   "id": "8de0196e",
   "metadata": {},
   "source": [
    "Alexis Montoison, Geoffroy Leconte "
   ]
  },
  {
   "cell_type": "markdown",
   "id": "34a6d0e5",
   "metadata": {},
   "source": [
    "## I) Revue et utilisation des principales factorisations matricielles"
   ]
  },
  {
   "cell_type": "markdown",
   "id": "32452fe0",
   "metadata": {},
   "source": [
    "Un système (S) de $m$ équations linéaires à $n$ inconnues $x_1$, $\\cdots$, $x_n$ :\n",
    "<br/><br/>\n",
    "$$(S) \\left\\{\\begin{matrix}\n",
    "a_{1,1}x_1 + \\dots + a_{1,n}x_n = b_1 \\\\\n",
    "\\phantom{a_{1,1}x_1 +} \\vdots \\phantom{\\dots + a_{1,n}x_n =} \\vdots \\\\\n",
    "a_{m,1}x_1 + \\dots + a_{m,n}x_n = b_m\\end{matrix}\\right.$$\n",
    "<br/>"
   ]
  },
  {
   "cell_type": "markdown",
   "id": "5b4e6f68",
   "metadata": {},
   "source": [
    "On peut reformuler (S) sous la forme d'une équation matricielle $Ax = b$ :\n",
    "<br/><br/>\n",
    "$$A=\\begin{pmatrix}\n",
    "a_{1,1} & \\cdots & a_{1,n} \\\\\n",
    "\\vdots & \\ddots & \\vdots \\\\\n",
    "a_{m,1} & \\cdots & a_{m,n} \\end{pmatrix}, \\quad x=\\begin{pmatrix} x_1 \\\\ \\vdots \\\\ x_n \\end{pmatrix}\\quad\\text{et}\\quad b=\\begin{pmatrix} b_1 \\\\ \\vdots \\\\ b_m \\end{pmatrix}$$\n",
    "<br/>"
   ]
  },
  {
   "cell_type": "markdown",
   "id": "361efeb8",
   "metadata": {},
   "source": [
    "Il existe différents types de systèmes linéaires:\n",
    "+ $Ax = b~~~~~$ Systèmes carrés\n",
    "<br/><br/>\n",
    "+ $\\begin{bmatrix} M & A \\\\ A^T & 0 \\end{bmatrix} \\begin{bmatrix} x \\\\ y \\end{bmatrix} = \\begin{bmatrix} b \\\\ c \\end{bmatrix}~~~~~$ Systèmes de point de selle ($M \\succ 0$)\n",
    "<br/><br/>\n",
    "+ $\\begin{bmatrix} M & \\phantom{-}A \\\\ A^T & -N \\end{bmatrix} \\begin{bmatrix} x \\\\ y \\end{bmatrix} = \\begin{bmatrix} b \\\\ c \\end{bmatrix}~~~~~$ Systèmes symétriques quasi-définis ($M \\succ 0$ et $N \\succ 0$)\n",
    "<br/><br/>\n",
    "+ $\\min\\limits_{x \\in \\mathbb{R}^n} \\|Ax - b\\|~~~~~$ Problèmes de moindres carrés\n",
    "<br/><br/>\n",
    "+ $\\min\\limits_{x \\in \\mathbb{R}^n} \\|x\\|~\\text{ s.c. }~Ax = b~~~~~$ Problèmes de moindre norme\n",
    "<br/><br/>\n",
    "+ $Ax = b ~~~~~\\text{et}~~~~~ A^T y = c~~~~~$ Systèmes adjoints"
   ]
  },
  {
   "cell_type": "markdown",
   "id": "a64ac451",
   "metadata": {},
   "source": [
    "En fonction du type de système linéaire que l'on va résoudre (problèmes de moindres carrés, problèmes de moindre norme, ...), de la structure (carré, rectangulaire, creux, dense, etc...) et des caractéristiques (symétrique, défini positif, ...) on va adapter la factorisation."
   ]
  },
  {
   "cell_type": "markdown",
   "id": "6ce67be2",
   "metadata": {},
   "source": [
    "**Question** : Est-ce que déterminer $A^{-1}$ et faire le produit $A^{-1} b$ est pertinent pour résoudre un système carré $Ax = b$ ?"
   ]
  },
  {
   "cell_type": "markdown",
   "id": "9f5e8130",
   "metadata": {},
   "source": [
    "**Remarque** : On a besoin de déterminer une décomposition de $A$ une seule fois même si on résout plusieurs systèmes."
   ]
  },
  {
   "cell_type": "markdown",
   "id": "65a3b6e4",
   "metadata": {},
   "source": [
    "### Factorisation LU"
   ]
  },
  {
   "cell_type": "markdown",
   "id": "020fbe66",
   "metadata": {},
   "source": [
    "Décomposition de A en un produit de deux matrices triangulaires $L$ et $U$.\n",
    "<br/><br/>\n",
    "$$A \\in \\mathbb{R}^{n \\times n},~L \\in \\mathbb{R}^{n \\times n} \\text{ et } U \\in \\mathbb{R}^{n \\times n}$$\n",
    "<br/><br/>\n",
    "$$L=\\begin{pmatrix}\n",
    "l_{1,1} & 0 & \\cdots & 0 \\\\\n",
    "\\vdots & \\ddots & \\ddots & \\vdots \\\\\n",
    "\\vdots & & \\ddots & 0 \\\\\n",
    "l_{n,1} & \\cdots & \\cdots & l_{n,n} \\end{pmatrix}\n",
    "\\quad\\text{et}\\quad\n",
    "U=\\begin{pmatrix}\n",
    "u_{1,1} & \\cdots & \\cdots & u_{1,n} \\\\\n",
    "0 & \\ddots & & \\vdots \\\\\n",
    "\\vdots & \\ddots & \\ddots & \\vdots \\\\\n",
    "0 & \\cdots & 0 & u_{n,n} \\end{pmatrix}$$\n",
    "<br/><br/>\n",
    "$$Ax = b \\Longleftrightarrow LU x = b \\Longleftrightarrow \\left\\{\\begin{matrix} Ly = b \\\\ Ux = y\\end{matrix}\\right.$$\n",
    "<br/><br/>\n",
    "La factorisation n'existe pas toujours sans permutation, même si $A$ est inversible. En pratique on fait la factorisation $PA = LU$ qui existe si $A$ est inversible."
   ]
  },
  {
   "cell_type": "code",
   "execution_count": 1,
   "id": "0f583db4",
   "metadata": {},
   "outputs": [],
   "source": [
    "using LinearAlgebra"
   ]
  },
  {
   "cell_type": "code",
   "execution_count": 2,
   "id": "d8f5a66f",
   "metadata": {},
   "outputs": [
    {
     "data": {
      "text/plain": [
       "6.377745716588144e-16"
      ]
     },
     "metadata": {},
     "output_type": "display_data"
    }
   ],
   "source": [
    "A = rand(10, 10)\n",
    "b = ones(10)\n",
    "F = lu(A);\n",
    "x = F \\ b;\n",
    "norm(A*x - b)"
   ]
  },
  {
   "cell_type": "markdown",
   "id": "cee77bd2",
   "metadata": {},
   "source": [
    "**Exercice** : À l'aide de la factoration $LU$ avec pivotage de $A$, décrire une méthode permettant de résoudre un système adjoint $Ax = b$ et $A^T y = c$."
   ]
  },
  {
   "cell_type": "markdown",
   "id": "7674cee6",
   "metadata": {},
   "source": [
    "### Factorisations de Cholesky, $\\mathbf{LDL^T}$ et de Bunch–Kaufman"
   ]
  },
  {
   "cell_type": "markdown",
   "id": "3b9a8d99",
   "metadata": {},
   "source": [
    "Lorsque $A$ est symétrique et définie positive alors on peut simplifier la factorisation afin d'obtenir $A=LL^T$. Il s'agit de la factorisation de _Cholesky_."
   ]
  },
  {
   "cell_type": "markdown",
   "id": "3fa4f052",
   "metadata": {},
   "source": [
    "**Exercice** : Est-ce que la factorisation $A=LL^T$ est un cas particulier de la décomposition $LU$ ? Est-ce que la complexité en temps et en mémoire est différente ?"
   ]
  },
  {
   "cell_type": "markdown",
   "id": "c3889985",
   "metadata": {},
   "source": [
    "Lorsque $A$ est symétrique et indéfinie, on fait la décomposition _$LDL^T$_ ($D$ est une matrice diagonale) ou de _Bunch–Kaufman_ ($D$ est une matrice bloc-diagonale)."
   ]
  },
  {
   "cell_type": "code",
   "execution_count": 3,
   "id": "676e6069",
   "metadata": {},
   "outputs": [],
   "source": [
    "A = rand(10, 10)\n",
    "As = A' * A\n",
    "b = ones(10);"
   ]
  },
  {
   "cell_type": "markdown",
   "id": "1dd1bae2",
   "metadata": {},
   "source": [
    "**Question**: Pourquoi As est symétrique définie positive?"
   ]
  },
  {
   "cell_type": "code",
   "execution_count": 4,
   "id": "bbb83ac4",
   "metadata": {},
   "outputs": [
    {
     "name": "stdout",
     "output_type": "stream",
     "text": [
      "5.0292000132872715e-15\n",
      "6.3467479840346516e-15\n",
      "6.3467479840346516e-15\n"
     ]
    },
    {
     "data": {
      "text/plain": [
       "Cholesky{Float64, Matrix{Float64}}\n",
       "L factor:\n",
       "10×10 LowerTriangular{Float64, Matrix{Float64}}:\n",
       " 2.18163    ⋅          ⋅         …    ⋅          ⋅          ⋅ \n",
       " 1.00654   0.815848    ⋅              ⋅          ⋅          ⋅ \n",
       " 1.51431   1.09362    0.849522        ⋅          ⋅          ⋅ \n",
       " 1.64925   0.485824   0.436884        ⋅          ⋅          ⋅ \n",
       " 1.33197   0.466623   0.510766        ⋅          ⋅          ⋅ \n",
       " 1.60525   0.68974    0.362252   …    ⋅          ⋅          ⋅ \n",
       " 1.60826   0.513401   0.0931892       ⋅          ⋅          ⋅ \n",
       " 1.45234   0.353157   0.0833973      0.524169    ⋅          ⋅ \n",
       " 0.763767  0.467013   0.251821       0.0379289  0.385067    ⋅ \n",
       " 1.3677    0.542492  -0.0969962     -0.0311905  0.0479511  0.354228"
      ]
     },
     "metadata": {},
     "output_type": "display_data"
    }
   ],
   "source": [
    "F = cholesky(As)\n",
    "println(norm(As * (F \\ b) - b))\n",
    "F = cholesky(Symmetric(As, :L))\n",
    "println(norm(As * (F \\ b) - b))\n",
    "F = cholesky(Symmetric(tril(As), :L)) # factorisation avec matrice d'entrée qui stocke uniquement le triangle inférieur\n",
    "println(norm(As * (F \\ b) - b))\n",
    "F"
   ]
  },
  {
   "cell_type": "code",
   "execution_count": 5,
   "id": "9d909aae",
   "metadata": {},
   "outputs": [
    {
     "data": {
      "text/plain": [
       "BunchKaufman{Float64, Matrix{Float64}, Vector{Int64}}\n",
       "D factor:\n",
       "10×10 Tridiagonal{Float64, Vector{Float64}}:\n",
       " 0.206595  0.0       ⋅         ⋅        …   ⋅       ⋅        ⋅         ⋅ \n",
       " 0.0       0.12079  0.0        ⋅            ⋅       ⋅        ⋅         ⋅ \n",
       "  ⋅        0.0      0.560356  0.0           ⋅       ⋅        ⋅         ⋅ \n",
       "  ⋅         ⋅       0.0       0.101007      ⋅       ⋅        ⋅         ⋅ \n",
       "  ⋅         ⋅        ⋅        0.0           ⋅       ⋅        ⋅         ⋅ \n",
       "  ⋅         ⋅        ⋅         ⋅        …  0.0      ⋅        ⋅         ⋅ \n",
       "  ⋅         ⋅        ⋅         ⋅           0.7432  0.0       ⋅         ⋅ \n",
       "  ⋅         ⋅        ⋅         ⋅           0.0     1.16255  0.0        ⋅ \n",
       "  ⋅         ⋅        ⋅         ⋅            ⋅      0.0      0.896005  0.0\n",
       "  ⋅         ⋅        ⋅         ⋅            ⋅       ⋅       0.0       2.9104\n",
       "U factor:\n",
       "10×10 UnitUpperTriangular{Float64, Matrix{Float64}}:\n",
       " 1.0  0.245884  -0.722991   1.06958    …   0.745366  0.610327  1.02522\n",
       "  ⋅   1.0        0.419679  -0.0619779      0.228958  0.521507  0.625078\n",
       "  ⋅    ⋅         1.0        0.944414       0.344821  1.0185    0.887159\n",
       "  ⋅    ⋅          ⋅         1.0            0.892925  1.00132   0.714116\n",
       "  ⋅    ⋅          ⋅          ⋅            -0.104447  0.672984  0.822552\n",
       "  ⋅    ⋅          ⋅          ⋅         …   0.270489  1.11196   0.847986\n",
       "  ⋅    ⋅          ⋅          ⋅             0.871264  0.241673  0.899291\n",
       "  ⋅    ⋅          ⋅          ⋅             1.0       0.599797  0.661551\n",
       "  ⋅    ⋅          ⋅          ⋅              ⋅        1.0       0.375158\n",
       "  ⋅    ⋅          ⋅          ⋅              ⋅         ⋅        1.0\n",
       "permutation:\n",
       "10-element Vector{Int64}:\n",
       "  1\n",
       "  2\n",
       "  3\n",
       "  4\n",
       "  5\n",
       "  6\n",
       "  7\n",
       "  8\n",
       "  9\n",
       " 10"
      ]
     },
     "metadata": {},
     "output_type": "display_data"
    }
   ],
   "source": [
    "F = bunchkaufman(As)"
   ]
  },
  {
   "cell_type": "markdown",
   "id": "dcbe90da",
   "metadata": {},
   "source": [
    "### Factorisation QR"
   ]
  },
  {
   "cell_type": "markdown",
   "id": "780fecac",
   "metadata": {},
   "source": [
    "Décomposition de $A$ de rang plein en un produit d'une matrice orthogonale $Q$ et d'une matrice trapézoïdale supérieure $R$.\n",
    "<br/><br/>\n",
    "$$A \\in \\mathbb{R}^{m \\times n}~(m > n),~Q \\in \\mathbb{R}^{m \\times m} \\text{ et } R \\in \\mathbb{R}^{m \\times n}$$\n",
    "<br/><br/>\n",
    "$$QQ^T = Q^T Q = I_m \n",
    "\\quad\\text{et}\\quad\n",
    "R=\\begin{pmatrix} \\widetilde{R} \\\\ 0 \\end{pmatrix} \\quad\\text{avec}\\quad\n",
    "\\widetilde{R} = \\begin{pmatrix}\n",
    "r_{1,1} & \\cdots & \\cdots & r_{1,n} \\\\\n",
    "0 & \\ddots & & \\vdots \\\\\n",
    "\\vdots & \\ddots & \\ddots & \\vdots \\\\\n",
    "0 & \\cdots & 0 & r_{n,n} \\\\\n",
    "\\end{pmatrix}$$\n",
    "<br/><br/>\n",
    "$$\\min\\limits_{x \\in \\mathbb{R}^n} \\|Ax - b\\| \\Longleftrightarrow \\min\\limits_{x \\in \\mathbb{R}^n} \\|QRx - b\\| \\Longleftrightarrow \\min\\limits_{x \\in \\mathbb{R}^n} \\|Rx - Q^T b\\| \\Longleftrightarrow \\left\\{\\begin{matrix} z = Q^T b \\\\ \\widetilde{R}x = z_{1:n} \\end{matrix}\\right.$$"
   ]
  },
  {
   "cell_type": "code",
   "execution_count": null,
   "id": "8be7d85e",
   "metadata": {},
   "outputs": [],
   "source": [
    "A = rand(10, 8)\n",
    "F = qr(A)"
   ]
  },
  {
   "cell_type": "markdown",
   "id": "39a6776b",
   "metadata": {},
   "source": [
    "### Factorisation LQ"
   ]
  },
  {
   "cell_type": "markdown",
   "id": "b505891b",
   "metadata": {},
   "source": [
    "Décomposition de $A$ de rang plein en un produit d'une matrice trapézoïdale inférieure $L$ et d'une matrice orthogonale $Q$. On peut l'obtenir avec la factorisation $QR$ de $A^T$.\n",
    "<br/><br/>\n",
    "$$A \\in \\mathbb{R}^{m \\times n}~(m < n),~L \\in \\mathbb{R}^{m \\times n} \\text{ et } Q \\in \\mathbb{R}^{n \\times n}$$\n",
    "<br/><br/>\n",
    "$$L=\\begin{pmatrix} \\widetilde{L} & 0 \\end{pmatrix} \\quad\\text{avec}\\quad\n",
    "\\widetilde{L} =\\begin{pmatrix}\n",
    "l_{1,1} & 0 & \\cdots & 0 \\\\\n",
    "\\vdots & \\ddots & \\ddots & \\vdots \\\\\n",
    "\\vdots & & \\ddots & 0 \\\\\n",
    "l_{m,1} & \\cdots & \\cdots & l_{m,m} \\end{pmatrix}\n",
    "\\quad\\text{et}\\quad\n",
    "QQ^T = Q^T Q = I_n$$\n",
    "<br/><br/>\n",
    "$$\\min\\limits_{x \\in \\mathbb{R}^n} \\|x\\|~\\text{ s.c. }~Ax = b \\Longleftrightarrow \\min\\limits_{x \\in \\mathbb{R}^n} \\|x\\|~\\text{ s.c. }~LQx = b \\Longleftrightarrow \\left\\{\\begin{matrix} \\widetilde{L}~y_{1:m} = b \\\\ y_{m+1:n} = 0 \\\\ x = Q^T y \\end{matrix} \\right.$$"
   ]
  },
  {
   "cell_type": "code",
   "execution_count": 6,
   "id": "9312cf83",
   "metadata": {},
   "outputs": [
    {
     "data": {
      "text/plain": [
       "LQ{Float64, Matrix{Float64}, Vector{Float64}}\n",
       "L factor:\n",
       "8×8 Matrix{Float64}:\n",
       " -1.66503    0.0        0.0        …   0.0         0.0         0.0\n",
       " -1.49478   -1.31891    0.0            0.0         0.0         0.0\n",
       " -1.02589   -0.951612  -1.41658        0.0         0.0         0.0\n",
       " -1.10895   -1.14631   -0.0525558      0.0         0.0         0.0\n",
       " -1.30542   -0.388749  -0.369543       0.0         0.0         0.0\n",
       " -1.42288   -0.769909  -0.905435   …   0.646814    0.0         0.0\n",
       " -1.47628   -0.976312  -0.409317       0.165967   -0.248337    0.0\n",
       " -0.489916  -0.426677  -0.10072       -0.0164703  -0.0329786  -0.359643\n",
       "Q factor:\n",
       "10×10 LinearAlgebra.LQPackedQ{Float64, Matrix{Float64}, Vector{Float64}}:\n",
       " -0.144131   -0.321165  -0.0194939  …  -0.213762    -0.559644    -0.58726\n",
       " -0.0757999  -0.210976  -0.53894       -0.363931     0.456366     0.101253\n",
       " -0.528889   -0.049128  -0.303375       0.371649    -0.196125     0.320922\n",
       " -0.122938    0.727053   0.109739      -0.453026     0.0643303   -0.108978\n",
       " -0.175577    0.335185   0.0777972      0.389428    -0.201273     0.168664\n",
       "  0.468081    0.240415  -0.383546   …   0.492433     0.100807    -0.48153\n",
       " -0.41339    -0.147793   0.309524       0.27669      0.61584     -0.393476\n",
       "  0.135825    0.204466  -0.19291        0.0403281    0.0325981    0.108914\n",
       " -0.291396    0.222719   0.182811       0.00536419   0.00601966  -0.200197\n",
       "  0.393021   -0.194733   0.534309       0.0784014    0.0699571    0.250845"
      ]
     },
     "metadata": {},
     "output_type": "display_data"
    }
   ],
   "source": [
    "A = rand(8, 10)\n",
    "F = lq(A)"
   ]
  },
  {
   "cell_type": "markdown",
   "id": "cf32f3d0",
   "metadata": {},
   "source": [
    "**Exercice** : Trouver un moyen de faire une factorisation _QLP_ afin de résoudre le problème :\n",
    "<br/><br/>\n",
    "$$\\min\\limits_{x \\in \\mathbb{R}^n} \\|x\\|~\\text{ s.c. }~x \\in \\mathop{\\text{argmin}} \\|b- Ax\\|, \\quad A \\in \\mathbb{R}^{m \\times n}, \\quad m \\ge n.$$"
   ]
  },
  {
   "cell_type": "markdown",
   "id": "407f4620",
   "metadata": {},
   "source": [
    "### SVD"
   ]
  },
  {
   "cell_type": "markdown",
   "id": "bea9f315",
   "metadata": {},
   "source": [
    "$$A = U \\Sigma V^T, \\quad A \\in \\mathbb{R}^{m \\times n}, U \\in \\mathbb{R}^{n \\times n}, V \\in \\mathbb{R}^{m \\times m}, \\Sigma \\in \\mathbb{R}^{m \\times n}$$\n",
    "avec $U$ et $V$ orthogonales,\n",
    "    $$ \\Sigma = \\begin{bmatrix} \\tilde \\Sigma \\\\ 0 \\end{bmatrix}, \\quad \\tilde \\Sigma = \\mathrm{diag} ( \\sigma_1, ..., \\sigma_{\\min(m, n)}), \\quad \\sigma_i \\ge 0, \\quad  \\sigma_1 \\ge ... \\ge \\sigma_r > 0, \\quad \\sigma_{r+1} = ... = \\sigma_{\\min(m, n)} = 0, \\quad r = \\mathrm{rank}(A)$$\n",
    "    \n",
    "    \n",
    "$$\\min\\limits_{x \\in \\mathbb{R}^n} \\|Ax - b\\| \\Longleftrightarrow \\min\\limits_{x \\in \\mathbb{R}^n} \\|\\Sigma V^T x - U^T b\\| \n",
    "\\Longleftrightarrow \\min\\limits_{x \\in \\mathbb{R}^n} \\|\\Sigma y - U^T b\\|, \\quad y = V^T x$$\n",
    "\n",
    "$y_i = \\sigma_i^{-1} u_i^T b$, puis\n",
    "$$x = Vy = \\sum_{i=1}^n y_i v_i = \\sum_{i=1}^n \\sigma_i^{-1} v_i u_i^T b.$$"
   ]
  },
  {
   "cell_type": "code",
   "execution_count": 7,
   "id": "ca2b81e1",
   "metadata": {},
   "outputs": [
    {
     "data": {
      "text/plain": [
       "SVD{Float64, Float64, Matrix{Float64}, Vector{Float64}}\n",
       "U factor:\n",
       "10×8 Matrix{Float64}:\n",
       " -0.267739   0.334201   -0.256164   …   0.427095    -0.0500351   0.401705\n",
       " -0.371188   0.357607    0.39684        0.209197    -0.230988   -0.552755\n",
       " -0.283046   0.454873   -0.163457      -0.261491    -0.168606    0.399132\n",
       " -0.311729   0.16432     0.0728851     -0.541657     0.470683   -0.0673572\n",
       " -0.257818  -0.0795953   0.0666286     -0.128614     0.430752   -0.152121\n",
       " -0.297974  -0.0267745   0.458661   …   0.145639    -0.222307    0.0706946\n",
       " -0.450717  -0.300917   -0.0191493     -0.329627    -0.293367    0.218995\n",
       " -0.344666  -0.458733   -0.480517      -0.00251414  -0.309109   -0.318571\n",
       " -0.239031  -0.455863    0.348973       0.342352     0.32078     0.386861\n",
       " -0.280909   0.103275   -0.420728       0.385277     0.41796    -0.204953\n",
       "singular values:\n",
       "8-element Vector{Float64}:\n",
       " 4.479926730610469\n",
       " 1.4577958735875747\n",
       " 0.9946159696410296\n",
       " 0.9214331781754908\n",
       " 0.7686173362638505\n",
       " 0.7383126952459297\n",
       " 0.5133991347046317\n",
       " 0.36530078600579025\n",
       "Vt factor:\n",
       "8×8 Matrix{Float64}:\n",
       " -0.314164   -0.533831   -0.327814   …  -0.359856   -0.303142   -0.350337\n",
       " -0.145765    0.154109    0.134226       0.264951   -0.404883   -0.643818\n",
       "  0.799179   -0.0395928  -0.337124      -0.047334   -0.4676      0.0913781\n",
       " -0.0168199   0.315572    0.18076        0.19233    -0.0684749   0.0536705\n",
       " -0.328556    0.131349   -0.455651      -0.282832    0.028713    0.389664\n",
       " -0.0141642   0.444595    0.379656   …  -0.735058   -0.304795   -0.00192496\n",
       " -0.0205509   0.599052   -0.607121       0.0345432   0.19238    -0.343733\n",
       " -0.36402     0.127832   -0.0885527      0.373599   -0.624582    0.426072"
      ]
     },
     "metadata": {},
     "output_type": "display_data"
    }
   ],
   "source": [
    "A = rand(10, 8)\n",
    "F = svd(A)"
   ]
  },
  {
   "cell_type": "markdown",
   "id": "7357e466",
   "metadata": {},
   "source": [
    "### II) Librairies numériques pour les factorisations"
   ]
  },
  {
   "cell_type": "markdown",
   "id": "3295e106",
   "metadata": {},
   "source": [
    "Dans le langage Julia, les opérations d'algèbre linéaire dense sont basées sur la bibliothèque LAPACK, qui à son tour exploite la librairie d'algèbre linéaire de base connus sous le nom de BLAS. Il existe des implémentations hautement optimisées de BLAS, dévelopées pour tirer profit de l'architecture du processeur.\n",
    "\n",
    "LinearAlgebra.BLAS et LinearAlgebra.LAPACK fournissent une interface directe aux fonctions de BLAS et LAPACK. Les fonctions de BLAS ou LAPACK ont généralement quatre méthodes associées aux types Float32, Float64, ComplexF32 et ComplexF64.\n",
    "\n",
    "Pour les opérations d'algèbre linéaire creuse, Julia utilise les algorithmes de [SuiteSparse](https://people.engr.tamu.edu/davis/suitesparse.html), on peut notamment citer **UMFPACK** et **CHOLMOD**, fonctions permettant respectivement de faire les factorisations $LU$ et $LL^T$ des matrices creuses.\n",
    "\n",
    "Il existe d'autres logiciels permettant la résolution de systèmes linéaires denses et creux, la plupart possède des interfaces en Julia ([HSL.jl](https://github.com/JuliaSmoothOptimizers/HSL.jl), [Pardiso.jl](https://github.com/JuliaSparse/Pardiso.jl), [MUMPS.jl](https://github.com/JuliaSmoothOptimizers/MUMPS.jl), etc...) ou une implémentation en Julia ([LDLFactorizations.jl](https://github.com/JuliaSmoothOptimizers/LDLFactorizations.jl))."
   ]
  },
  {
   "cell_type": "markdown",
   "id": "8bad09c3",
   "metadata": {},
   "source": [
    "**Exemple de factorisation creuse avec LDLFactorizations.jl**"
   ]
  },
  {
   "cell_type": "code",
   "execution_count": 9,
   "id": "bbe1878b",
   "metadata": {},
   "outputs": [],
   "source": [
    "# ]add LDLFactorizations"
   ]
  },
  {
   "cell_type": "code",
   "execution_count": 10,
   "id": "3699d894",
   "metadata": {},
   "outputs": [],
   "source": [
    "using LDLFactorizations, SparseArrays\n",
    "A = sprand(10, 10, 0.2)\n",
    "As = A' * A + I\n",
    "b = rand(10);"
   ]
  },
  {
   "cell_type": "code",
   "execution_count": 11,
   "id": "f75a9ced",
   "metadata": {},
   "outputs": [
    {
     "data": {
      "text/plain": [
       "10×10 Symmetric{Float64, SparseMatrixCSC{Float64, Int64}}:\n",
       " 1.09817    0.0       0.0       0.0       …  0.0152161  0.0  0.0       0.0\n",
       " 0.0        1.51583   0.346143  0.208143     0.0        0.0  0.207577  0.0\n",
       " 0.0        0.346143  1.58754   0.112134     0.0        0.0  0.20962   0.0\n",
       " 0.0        0.208143  0.112134  1.68189      0.0        0.0  0.0       0.0\n",
       " 0.215366   0.0       0.283244  0.145474     0.0333806  0.0  0.0       0.0\n",
       " 0.105155   0.0       0.0       0.16003   …  0.0162985  0.0  0.0       0.0\n",
       " 0.0152161  0.0       0.0       0.0          1.00236    0.0  0.0       0.0\n",
       " 0.0        0.0       0.0       0.0          0.0        1.0  0.0       0.0\n",
       " 0.0        0.207577  0.20962   0.0          0.0        0.0  1.12571   0.0\n",
       " 0.0        0.0       0.0       0.0          0.0        0.0  0.0       1.0"
      ]
     },
     "metadata": {},
     "output_type": "display_data"
    }
   ],
   "source": [
    "Au = Symmetric(triu(As), :U) # optimisé avec matrice symétrique où seul le triangle supérieur est stocké"
   ]
  },
  {
   "cell_type": "code",
   "execution_count": 12,
   "id": "66142000",
   "metadata": {},
   "outputs": [
    {
     "name": "stdout",
     "output_type": "stream",
     "text": [
      "1.5700924586837752e-16\n"
     ]
    }
   ],
   "source": [
    "F = ldl(Au)\n",
    "println(norm(Au * (F \\ b) - b))"
   ]
  },
  {
   "cell_type": "code",
   "execution_count": 13,
   "id": "dfd0f4d0",
   "metadata": {},
   "outputs": [
    {
     "name": "stdout",
     "output_type": "stream",
     "text": [
      "1.5700924586837752e-16\n"
     ]
    }
   ],
   "source": [
    "# fonction ldiv! : résout Au x = b et stocke le résultat dans un x préalloué\n",
    "x = zeros(10)\n",
    "ldiv!(x, F, b)\n",
    "println(norm(Au * x - b))"
   ]
  },
  {
   "cell_type": "markdown",
   "id": "250eb6a8",
   "metadata": {},
   "source": [
    "### III) Collection de systèmes linéaires"
   ]
  },
  {
   "cell_type": "markdown",
   "id": "048df29a",
   "metadata": {},
   "source": [
    "La [Suite Sparse Matrix Collection](https://sparse.tamu.edu/) (anciennement UFL collection) regroupe environ 3000 problèmes venant de multiples domaines et de tailles diverses. La collection est couramment utilisée comme référence dans les articles scientifiques. Elle permet de facilement tester de nouvelles implémentations de méthodes directes ou itératives.\n",
    "<br/><br/>\n",
    "Chaque problème est stocké dans le format *MatrixMarket* (.mtx), *MAT* (.mat) et *Rutherford-Boeing* (.rb). Une interface directe à la SSMC existe en Julia."
   ]
  },
  {
   "cell_type": "code",
   "execution_count": null,
   "id": "b54d2868",
   "metadata": {},
   "outputs": [],
   "source": [
    "# ]add SuiteSparseMatrixCollection, HarwellRutherfordBoeing, MatrixMarket, MAT"
   ]
  },
  {
   "cell_type": "code",
   "execution_count": 14,
   "id": "7dc6e17f",
   "metadata": {},
   "outputs": [],
   "source": [
    "using SuiteSparseMatrixCollection\n",
    "using HarwellRutherfordBoeing\n",
    "using MatrixMarket\n",
    "using MAT"
   ]
  },
  {
   "cell_type": "code",
   "execution_count": 15,
   "id": "7f786167",
   "metadata": {},
   "outputs": [
    {
     "name": "stderr",
     "output_type": "stream",
     "text": [
      "┌ Info: loaded database with revision date\n",
      "│   last_rev_date = 08-Oct-2020 17:09:58\n",
      "└ @ SuiteSparseMatrixCollection /Users/guillaumethibault/.julia/packages/SuiteSparseMatrixCollection/pNX0b/src/SuiteSparseMatrixCollection.jl:25\n",
      "\u001b[32m\u001b[1m Downloading\u001b[22m\u001b[39m"
     ]
    },
    {
     "name": "stderr",
     "output_type": "stream",
     "text": [
      " artifact: HB/bcsstk01.MM\n"
     ]
    },
    {
     "name": "stderr",
     "output_type": "stream",
     "text": [
      "\u001b[32m\u001b[1m Downloading\u001b[22m\u001b[39m artifact: HB/bcsstk02.MM\n",
      "\u001b[32m\u001b[1m Downloading\u001b[22m\u001b[39m artifact: HB/bcsstm02.MM\n"
     ]
    },
    {
     "name": "stderr",
     "output_type": "stream",
     "text": [
      "\u001b[32m\u001b[1m Downloading\u001b[22m\u001b[39m artifact: HB/nos4.MM\n",
      "\u001b[32m\u001b[1m Downloading\u001b[22m\u001b[39m artifact: FIDAP/ex5.MM\n",
      "\u001b[32m\u001b[1m Downloading\u001b[22m\u001b[39m artifact: Pothen/mesh1e1.MM\n"
     ]
    },
    {
     "name": "stderr",
     "output_type": "stream",
     "text": [
      "\u001b[32m\u001b[1m Downloading\u001b[22m\u001b[39m artifact: Pothen/mesh1em1.MM\n",
      "\u001b[32m\u001b[1m Downloading\u001b[22m\u001b[39m artifact: Pothen/mesh1em6.MM\n"
     ]
    },
    {
     "name": "stderr",
     "output_type": "stream",
     "text": [
      "\u001b[32m\u001b[1m Downloading\u001b[22m\u001b[39m artifact: Oberwolfach/LF10.MM\n"
     ]
    },
    {
     "name": "stderr",
     "output_type": "stream",
     "text": [
      "\u001b[32m\u001b[1m Downloading\u001b[22m\u001b[39m artifact: Oberwolfach/LFAT5.MM\n"
     ]
    },
    {
     "name": "stderr",
     "output_type": "stream",
     "text": [
      "\u001b[32m\u001b[1m Downloading\u001b[22m\u001b[39m artifact: JGD_Trefethen/Trefethen_20b.MM\n",
      "\u001b[32m\u001b[1m Downloading\u001b[22m\u001b[39m artifact: JGD_Trefethen/Trefethen_20.MM\n"
     ]
    },
    {
     "data": {
      "text/html": [
       "<div class=\"data-frame\"><p>12 rows × 5 columns</p><table class=\"data-frame\"><thead><tr><th></th><th>name</th><th>nrows</th><th>ncols</th><th>positive_definite</th><th>lower_bandwidth</th></tr><tr><th></th><th title=\"String\">String</th><th title=\"Int64\">Int64</th><th title=\"Int64\">Int64</th><th title=\"Bool\">Bool</th><th title=\"Int64\">Int64</th></tr></thead><tbody><tr><th>1</th><td>bcsstk01</td><td>48</td><td>48</td><td>1</td><td>35</td></tr><tr><th>2</th><td>bcsstk02</td><td>66</td><td>66</td><td>1</td><td>65</td></tr><tr><th>3</th><td>bcsstm02</td><td>66</td><td>66</td><td>1</td><td>0</td></tr><tr><th>4</th><td>nos4</td><td>100</td><td>100</td><td>1</td><td>13</td></tr><tr><th>5</th><td>ex5</td><td>27</td><td>27</td><td>1</td><td>20</td></tr><tr><th>6</th><td>mesh1e1</td><td>48</td><td>48</td><td>1</td><td>47</td></tr><tr><th>7</th><td>mesh1em1</td><td>48</td><td>48</td><td>1</td><td>47</td></tr><tr><th>8</th><td>mesh1em6</td><td>48</td><td>48</td><td>1</td><td>47</td></tr><tr><th>9</th><td>LF10</td><td>18</td><td>18</td><td>1</td><td>3</td></tr><tr><th>10</th><td>LFAT5</td><td>14</td><td>14</td><td>1</td><td>5</td></tr><tr><th>11</th><td>Trefethen_20b</td><td>19</td><td>19</td><td>1</td><td>16</td></tr><tr><th>12</th><td>Trefethen_20</td><td>20</td><td>20</td><td>1</td><td>16</td></tr></tbody></table></div>"
      ],
      "text/latex": [
       "\\begin{tabular}{r|ccccc}\n",
       "\t& name & nrows & ncols & positive\\_definite & lower\\_bandwidth\\\\\n",
       "\t\\hline\n",
       "\t& String & Int64 & Int64 & Bool & Int64\\\\\n",
       "\t\\hline\n",
       "\t1 & bcsstk01 & 48 & 48 & 1 & 35 \\\\\n",
       "\t2 & bcsstk02 & 66 & 66 & 1 & 65 \\\\\n",
       "\t3 & bcsstm02 & 66 & 66 & 1 & 0 \\\\\n",
       "\t4 & nos4 & 100 & 100 & 1 & 13 \\\\\n",
       "\t5 & ex5 & 27 & 27 & 1 & 20 \\\\\n",
       "\t6 & mesh1e1 & 48 & 48 & 1 & 47 \\\\\n",
       "\t7 & mesh1em1 & 48 & 48 & 1 & 47 \\\\\n",
       "\t8 & mesh1em6 & 48 & 48 & 1 & 47 \\\\\n",
       "\t9 & LF10 & 18 & 18 & 1 & 3 \\\\\n",
       "\t10 & LFAT5 & 14 & 14 & 1 & 5 \\\\\n",
       "\t11 & Trefethen\\_20b & 19 & 19 & 1 & 16 \\\\\n",
       "\t12 & Trefethen\\_20 & 20 & 20 & 1 & 16 \\\\\n",
       "\\end{tabular}\n"
      ],
      "text/plain": [
       "\u001b[1m12×5 DataFrame\u001b[0m\n",
       "\u001b[1m Row \u001b[0m│\u001b[1m name          \u001b[0m\u001b[1m nrows \u001b[0m\u001b[1m ncols \u001b[0m\u001b[1m positive_definite \u001b[0m\u001b[1m lower_bandwidth \u001b[0m\n",
       "\u001b[1m     \u001b[0m│\u001b[90m String        \u001b[0m\u001b[90m Int64 \u001b[0m\u001b[90m Int64 \u001b[0m\u001b[90m Bool              \u001b[0m\u001b[90m Int64           \u001b[0m\n",
       "─────┼─────────────────────────────────────────────────────────────────\n",
       "   1 │ bcsstk01          48     48               true               35\n",
       "   2 │ bcsstk02          66     66               true               65\n",
       "   3 │ bcsstm02          66     66               true                0\n",
       "   4 │ nos4             100    100               true               13\n",
       "   5 │ ex5               27     27               true               20\n",
       "   6 │ mesh1e1           48     48               true               47\n",
       "   7 │ mesh1em1          48     48               true               47\n",
       "   8 │ mesh1em6          48     48               true               47\n",
       "   9 │ LF10              18     18               true                3\n",
       "  10 │ LFAT5             14     14               true                5\n",
       "  11 │ Trefethen_20b     19     19               true               16\n",
       "  12 │ Trefethen_20      20     20               true               16"
      ]
     },
     "metadata": {},
     "output_type": "display_data"
    }
   ],
   "source": [
    "# Matrices réelles symétriques et définies positives de taille 100 au maximum\n",
    "ssmc = ssmc_db()\n",
    "tiny = ssmc[(ssmc.numerical_symmetry .== 1) .& (ssmc.positive_definite.== true) .& \n",
    "            (ssmc.real .== true) .& (ssmc.nrows .≤ 100), :]\n",
    "\n",
    "# Téléchargement des matrices au format MatrixMarket \n",
    "paths = fetch_ssmc(tiny, format=\"MM\") # \"mat\" et \"RB\" pour les autres formats\n",
    "downloaded_matrices = installed_ssmc()\n",
    "\n",
    "# Informations sur les matrices\n",
    "tiny[!, [:name, :nrows, :ncols, :positive_definite, :lower_bandwidth]]"
   ]
  },
  {
   "cell_type": "code",
   "execution_count": 16,
   "id": "353a551f",
   "metadata": {},
   "outputs": [
    {
     "data": {
      "text/plain": [
       "\"/Users/guillaumethibault/.julia/artifacts/aed50c210fa42e6390a81908dc4f24f9b638ff14/bcsstk01\""
      ]
     },
     "metadata": {},
     "output_type": "display_data"
    }
   ],
   "source": [
    "paths[1]"
   ]
  },
  {
   "cell_type": "code",
   "execution_count": 17,
   "id": "e64a9ae5",
   "metadata": {},
   "outputs": [
    {
     "data": {
      "text/plain": [
       "14×14 SparseMatrixCSC{Float64, Int64} with 46 stored entries:\n",
       "   1.57088    ⋅           ⋅        …       ⋅        ⋅         ⋅ \n",
       "    ⋅        1.25664e7    ⋅                ⋅        ⋅         ⋅ \n",
       "    ⋅         ⋅          0.608806          ⋅        ⋅         ⋅ \n",
       " -94.2528     ⋅           ⋅                ⋅        ⋅         ⋅ \n",
       "   0.78544    ⋅           ⋅                ⋅        ⋅         ⋅ \n",
       "    ⋅       -6.2832e6     ⋅        …       ⋅        ⋅         ⋅ \n",
       "    ⋅         ⋅         -0.304403          ⋅        ⋅         ⋅ \n",
       "    ⋅         ⋅           ⋅           -7540.22    94.2528     ⋅ \n",
       "    ⋅         ⋅           ⋅             -94.2528   0.78544    ⋅ \n",
       "    ⋅         ⋅           ⋅                ⋅        ⋅         ⋅ \n",
       "    ⋅         ⋅           ⋅        …       ⋅        ⋅         ⋅ \n",
       "    ⋅         ⋅           ⋅           15080.4       ⋅       94.2528\n",
       "    ⋅         ⋅           ⋅                ⋅       3.14176   0.78544\n",
       "    ⋅         ⋅           ⋅              94.2528   0.78544   1.57088"
      ]
     },
     "metadata": {},
     "output_type": "display_data"
    }
   ],
   "source": [
    "# Informations sur la matrice dwt_592\n",
    "pb = ssmc_matrices(tiny, \"\", \"LFAT5\")\n",
    "\n",
    "# Téléchargement de la matrice dwt_592\n",
    "path2 = fetch_ssmc(pb, format=\"MM\")\n",
    "\n",
    "# Emplacement de la matrice dwt_592\n",
    "path_mtx = path2[1]\n",
    "\n",
    "# Lecture de la matrice\n",
    "dwt_592 = MatrixMarket.mmread(joinpath(path_mtx, \"LFAT5.mtx\"))"
   ]
  },
  {
   "cell_type": "markdown",
   "id": "b50fd9c8",
   "metadata": {},
   "source": [
    "### IV) Heuristiques de renumérotation de degrés de liberté pour limiter le remplissage"
   ]
  },
  {
   "cell_type": "markdown",
   "id": "9839825b",
   "metadata": {},
   "source": [
    "Les méthodes directes ont deux principaux défauts. La complexité temporelle est le premier défaut avec $\\mathcal{O}(n^3)$ opérations pour des matrices carrées denses où $n$ est la dimension de la matrice. Le second défaut est le coût mémoire nécessaire au stockage des facteurs de la décomposition. Ces derniers peuvent être denses même si la matrice est creuse. Afin de limiter ce phénomène de \"fill-in\" on utilise des heuristiques de renumérotation de degrés de liberté qui ont pour but de réduire la largeur de bande de la matrice (Cuthill–McKee ou Reverse Cuthill–McKee) ou le nombre de coefficients non nuls lors d'une factorisation (AMD, COLAMD, METIS, etc...)."
   ]
  },
  {
   "cell_type": "code",
   "execution_count": null,
   "id": "a4e5067c",
   "metadata": {},
   "outputs": [],
   "source": [
    "# ]add AMD, Metis, SymRCM, UnicodePlots"
   ]
  },
  {
   "cell_type": "code",
   "execution_count": 18,
   "id": "3270bd96",
   "metadata": {},
   "outputs": [],
   "source": [
    "using AMD\n",
    "using Metis\n",
    "using SymRCM\n",
    "using UnicodePlots"
   ]
  },
  {
   "cell_type": "code",
   "execution_count": 19,
   "id": "4560d8ab",
   "metadata": {},
   "outputs": [
    {
     "data": {
      "text/plain": [
       "      \u001b[38;5;8m┌───────┐\u001b[0m    \n",
       "    \u001b[38;5;8m1\u001b[0m \u001b[38;5;8m│\u001b[0m\u001b[38;5;1m⠢\u001b[0m\u001b[38;5;5m⡐\u001b[0m\u001b[38;5;5m⠢\u001b[0m\u001b[38;5;5m⡐\u001b[0m\u001b[38;5;5m⠢\u001b[0m\u001b[38;5;1m⡀\u001b[0m⠀\u001b[38;5;8m│\u001b[0m \u001b[38;5;1m> 0\u001b[0m\n",
       "     \u001b[38;5;8m\u001b[0m \u001b[38;5;8m│\u001b[0m\u001b[38;5;5m⠣\u001b[0m\u001b[38;5;5m⡘\u001b[0m\u001b[38;5;1m⠣\u001b[0m\u001b[38;5;5m⡘\u001b[0m\u001b[38;5;5m⠣\u001b[0m\u001b[38;5;5m⡘\u001b[0m\u001b[38;5;4m⠃\u001b[0m\u001b[38;5;8m│\u001b[0m \u001b[38;5;4m< 0\u001b[0m\n",
       "     \u001b[38;5;8m\u001b[0m \u001b[38;5;8m│\u001b[0m\u001b[38;5;5m⠣\u001b[0m\u001b[38;5;5m⡘\u001b[0m\u001b[38;5;5m⠣\u001b[0m\u001b[38;5;5m⡘\u001b[0m\u001b[38;5;5m⠣\u001b[0m\u001b[38;5;5m⡘\u001b[0m\u001b[38;5;5m⠛\u001b[0m\u001b[38;5;8m│\u001b[0m \u001b[38;5;8m\u001b[0m   \n",
       "   \u001b[38;5;8m14\u001b[0m \u001b[38;5;8m│\u001b[0m⠀\u001b[38;5;5m⠘\u001b[0m\u001b[38;5;5m⠃\u001b[0m\u001b[38;5;5m⠸\u001b[0m\u001b[38;5;5m⠇\u001b[0m\u001b[38;5;5m⠸\u001b[0m\u001b[38;5;5m⠿\u001b[0m\u001b[38;5;8m│\u001b[0m \u001b[38;5;8m\u001b[0m   \n",
       "      \u001b[38;5;8m└───────┘\u001b[0m    \n",
       "      ⠀\u001b[38;5;8m1\u001b[0m⠀⠀\u001b[38;5;8m\u001b[0m⠀⠀\u001b[38;5;8m14\u001b[0m⠀    \n",
       "      ⠀⠀72 ≠ 0⠀    "
      ]
     },
     "metadata": {},
     "output_type": "display_data"
    }
   ],
   "source": [
    "M = dwt_592 * dwt_592'\n",
    "F = lu(Matrix(M), Val(false))\n",
    "spy(M)"
   ]
  },
  {
   "cell_type": "code",
   "execution_count": 20,
   "id": "20370759",
   "metadata": {},
   "outputs": [
    {
     "data": {
      "text/plain": [
       "      \u001b[38;5;8m┌───────┐\u001b[0m    \n",
       "    \u001b[38;5;8m1\u001b[0m \u001b[38;5;8m│\u001b[0m\u001b[38;5;1m⠢\u001b[0m\u001b[38;5;1m⡀\u001b[0m⠀⠀⠀⠀⠀\u001b[38;5;8m│\u001b[0m \u001b[38;5;1m> 0\u001b[0m\n",
       "     \u001b[38;5;8m\u001b[0m \u001b[38;5;8m│\u001b[0m\u001b[38;5;5m⠣\u001b[0m\u001b[38;5;5m⡘\u001b[0m\u001b[38;5;1m⠢\u001b[0m\u001b[38;5;1m⡀\u001b[0m⠀⠀⠀\u001b[38;5;8m│\u001b[0m \u001b[38;5;4m< 0\u001b[0m\n",
       "     \u001b[38;5;8m\u001b[0m \u001b[38;5;8m│\u001b[0m\u001b[38;5;5m⠣\u001b[0m\u001b[38;5;5m⡘\u001b[0m\u001b[38;5;4m⠣\u001b[0m\u001b[38;5;5m⡘\u001b[0m\u001b[38;5;1m⠢\u001b[0m\u001b[38;5;1m⡀\u001b[0m⠀\u001b[38;5;8m│\u001b[0m \u001b[38;5;8m\u001b[0m   \n",
       "   \u001b[38;5;8m14\u001b[0m \u001b[38;5;8m│\u001b[0m⠀\u001b[38;5;5m⠘\u001b[0m\u001b[38;5;5m⠃\u001b[0m\u001b[38;5;5m⠸\u001b[0m\u001b[38;5;5m⠇\u001b[0m\u001b[38;5;1m⠸\u001b[0m\u001b[38;5;5m⠦\u001b[0m\u001b[38;5;8m│\u001b[0m \u001b[38;5;8m\u001b[0m   \n",
       "      \u001b[38;5;8m└───────┘\u001b[0m    \n",
       "      ⠀\u001b[38;5;8m1\u001b[0m⠀⠀\u001b[38;5;8m\u001b[0m⠀⠀\u001b[38;5;8m14\u001b[0m⠀    \n",
       "      ⠀⠀43 ≠ 0⠀    "
      ]
     },
     "metadata": {},
     "output_type": "display_data"
    }
   ],
   "source": [
    "spy(sparse(F.L))"
   ]
  },
  {
   "cell_type": "code",
   "execution_count": 21,
   "id": "5849e7df",
   "metadata": {},
   "outputs": [
    {
     "data": {
      "text/plain": [
       "      \u001b[38;5;8m┌───────┐\u001b[0m    \n",
       "    \u001b[38;5;8m1\u001b[0m \u001b[38;5;8m│\u001b[0m\u001b[38;5;5m⣶\u001b[0m\u001b[38;5;5m⡆\u001b[0m\u001b[38;5;5m⣴\u001b[0m\u001b[38;5;5m⣦\u001b[0m⠀⠀⠀\u001b[38;5;8m│\u001b[0m \u001b[38;5;1m> 0\u001b[0m\n",
       "     \u001b[38;5;8m\u001b[0m \u001b[38;5;8m│\u001b[0m\u001b[38;5;5m⣴\u001b[0m\u001b[38;5;5m⣾\u001b[0m\u001b[38;5;5m⣿\u001b[0m\u001b[38;5;5m⣿\u001b[0m⠀⠀⠀\u001b[38;5;8m│\u001b[0m \u001b[38;5;4m< 0\u001b[0m\n",
       "     \u001b[38;5;8m\u001b[0m \u001b[38;5;8m│\u001b[0m\u001b[38;5;1m⠈\u001b[0m\u001b[38;5;4m⠉\u001b[0m\u001b[38;5;5m⠉\u001b[0m\u001b[38;5;1m⠉\u001b[0m\u001b[38;5;5m⣶\u001b[0m\u001b[38;5;5m⡆\u001b[0m⠀\u001b[38;5;8m│\u001b[0m \u001b[38;5;8m\u001b[0m   \n",
       "   \u001b[38;5;8m14\u001b[0m \u001b[38;5;8m│\u001b[0m⠀⠀⠀⠀⠀\u001b[38;5;5m⠸\u001b[0m\u001b[38;5;5m⠿\u001b[0m\u001b[38;5;8m│\u001b[0m \u001b[38;5;8m\u001b[0m   \n",
       "      \u001b[38;5;8m└───────┘\u001b[0m    \n",
       "      ⠀\u001b[38;5;8m1\u001b[0m⠀⠀\u001b[38;5;8m\u001b[0m⠀⠀\u001b[38;5;8m14\u001b[0m⠀    \n",
       "      ⠀⠀72 ≠ 0⠀    "
      ]
     },
     "metadata": {},
     "output_type": "display_data"
    }
   ],
   "source": [
    "p1 = amd(M)\n",
    "F1 = lu(Matrix(M[p1, p1]), Val(false))\n",
    "spy(M[p1, p1])"
   ]
  },
  {
   "cell_type": "code",
   "execution_count": 22,
   "id": "a8edce85",
   "metadata": {},
   "outputs": [
    {
     "data": {
      "text/plain": [
       "      \u001b[38;5;8m┌───────┐\u001b[0m    \n",
       "    \u001b[38;5;8m1\u001b[0m \u001b[38;5;8m│\u001b[0m\u001b[38;5;5m⣦\u001b[0m\u001b[38;5;1m⡀\u001b[0m⠀⠀⠀⠀⠀\u001b[38;5;8m│\u001b[0m \u001b[38;5;1m> 0\u001b[0m\n",
       "     \u001b[38;5;8m\u001b[0m \u001b[38;5;8m│\u001b[0m\u001b[38;5;5m⣴\u001b[0m\u001b[38;5;5m⣾\u001b[0m\u001b[38;5;5m⣦\u001b[0m\u001b[38;5;1m⡀\u001b[0m⠀⠀⠀\u001b[38;5;8m│\u001b[0m \u001b[38;5;4m< 0\u001b[0m\n",
       "     \u001b[38;5;8m\u001b[0m \u001b[38;5;8m│\u001b[0m\u001b[38;5;1m⠈\u001b[0m\u001b[38;5;4m⠉\u001b[0m\u001b[38;5;5m⠉\u001b[0m\u001b[38;5;1m⠉\u001b[0m\u001b[38;5;5m⣦\u001b[0m\u001b[38;5;1m⡀\u001b[0m⠀\u001b[38;5;8m│\u001b[0m \u001b[38;5;8m\u001b[0m   \n",
       "   \u001b[38;5;8m14\u001b[0m \u001b[38;5;8m│\u001b[0m⠀⠀⠀⠀⠀\u001b[38;5;5m⠸\u001b[0m\u001b[38;5;5m⠦\u001b[0m\u001b[38;5;8m│\u001b[0m \u001b[38;5;8m\u001b[0m   \n",
       "      \u001b[38;5;8m└───────┘\u001b[0m    \n",
       "      ⠀\u001b[38;5;8m1\u001b[0m⠀⠀\u001b[38;5;8m\u001b[0m⠀⠀\u001b[38;5;8m14\u001b[0m⠀    \n",
       "      ⠀⠀43 ≠ 0⠀    "
      ]
     },
     "metadata": {},
     "output_type": "display_data"
    }
   ],
   "source": [
    "spy(sparse(F1.L))"
   ]
  },
  {
   "cell_type": "code",
   "execution_count": 23,
   "id": "b4ecfb6b",
   "metadata": {},
   "outputs": [
    {
     "data": {
      "text/plain": [
       "      \u001b[38;5;8m┌───────┐\u001b[0m    \n",
       "    \u001b[38;5;8m1\u001b[0m \u001b[38;5;8m│\u001b[0m\u001b[38;5;5m⣶\u001b[0m\u001b[38;5;5m⣶\u001b[0m\u001b[38;5;5m⣦\u001b[0m\u001b[38;5;5m⡄\u001b[0m⠀⠀⠀\u001b[38;5;8m│\u001b[0m \u001b[38;5;1m> 0\u001b[0m\n",
       "     \u001b[38;5;8m\u001b[0m \u001b[38;5;8m│\u001b[0m\u001b[38;5;5m⢻\u001b[0m\u001b[38;5;5m⣿\u001b[0m\u001b[38;5;5m⣿\u001b[0m\u001b[38;5;5m⣿\u001b[0m⠀⠀⠀\u001b[38;5;8m│\u001b[0m \u001b[38;5;4m< 0\u001b[0m\n",
       "     \u001b[38;5;8m\u001b[0m \u001b[38;5;8m│\u001b[0m⠀\u001b[38;5;4m⠈\u001b[0m\u001b[38;5;1m⠉\u001b[0m\u001b[38;5;5m⠉\u001b[0m\u001b[38;5;5m⣶\u001b[0m\u001b[38;5;5m⡆\u001b[0m⠀\u001b[38;5;8m│\u001b[0m \u001b[38;5;8m\u001b[0m   \n",
       "   \u001b[38;5;8m14\u001b[0m \u001b[38;5;8m│\u001b[0m⠀⠀⠀⠀⠀\u001b[38;5;5m⠸\u001b[0m\u001b[38;5;5m⠿\u001b[0m\u001b[38;5;8m│\u001b[0m \u001b[38;5;8m\u001b[0m   \n",
       "      \u001b[38;5;8m└───────┘\u001b[0m    \n",
       "      ⠀\u001b[38;5;8m1\u001b[0m⠀⠀\u001b[38;5;8m\u001b[0m⠀⠀\u001b[38;5;8m14\u001b[0m⠀    \n",
       "      ⠀⠀72 ≠ 0⠀    "
      ]
     },
     "metadata": {},
     "output_type": "display_data"
    }
   ],
   "source": [
    "p2 = symrcm(M)\n",
    "F2 = lu(Matrix(M[p2, p2]), Val(false))\n",
    "spy(M[p2, p2])"
   ]
  },
  {
   "cell_type": "code",
   "execution_count": 24,
   "id": "c782e170",
   "metadata": {},
   "outputs": [
    {
     "data": {
      "text/plain": [
       "      \u001b[38;5;8m┌───────┐\u001b[0m    \n",
       "    \u001b[38;5;8m1\u001b[0m \u001b[38;5;8m│\u001b[0m\u001b[38;5;5m⣦\u001b[0m\u001b[38;5;1m⡀\u001b[0m⠀⠀⠀⠀⠀\u001b[38;5;8m│\u001b[0m \u001b[38;5;1m> 0\u001b[0m\n",
       "     \u001b[38;5;8m\u001b[0m \u001b[38;5;8m│\u001b[0m\u001b[38;5;5m⢻\u001b[0m\u001b[38;5;5m⣿\u001b[0m\u001b[38;5;5m⣦\u001b[0m\u001b[38;5;1m⡀\u001b[0m⠀⠀⠀\u001b[38;5;8m│\u001b[0m \u001b[38;5;4m< 0\u001b[0m\n",
       "     \u001b[38;5;8m\u001b[0m \u001b[38;5;8m│\u001b[0m⠀\u001b[38;5;4m⠈\u001b[0m\u001b[38;5;1m⠉\u001b[0m\u001b[38;5;5m⠉\u001b[0m\u001b[38;5;5m⣦\u001b[0m\u001b[38;5;1m⡀\u001b[0m⠀\u001b[38;5;8m│\u001b[0m \u001b[38;5;8m\u001b[0m   \n",
       "   \u001b[38;5;8m14\u001b[0m \u001b[38;5;8m│\u001b[0m⠀⠀⠀⠀⠀\u001b[38;5;5m⠸\u001b[0m\u001b[38;5;5m⠦\u001b[0m\u001b[38;5;8m│\u001b[0m \u001b[38;5;8m\u001b[0m   \n",
       "      \u001b[38;5;8m└───────┘\u001b[0m    \n",
       "      ⠀\u001b[38;5;8m1\u001b[0m⠀⠀\u001b[38;5;8m\u001b[0m⠀⠀\u001b[38;5;8m14\u001b[0m⠀    \n",
       "      ⠀⠀43 ≠ 0⠀    "
      ]
     },
     "metadata": {},
     "output_type": "display_data"
    }
   ],
   "source": [
    "spy(sparse(F2.L))"
   ]
  },
  {
   "cell_type": "code",
   "execution_count": 25,
   "id": "25153281",
   "metadata": {},
   "outputs": [
    {
     "data": {
      "text/plain": [
       "      \u001b[38;5;8m┌───────┐\u001b[0m    \n",
       "    \u001b[38;5;8m1\u001b[0m \u001b[38;5;8m│\u001b[0m\u001b[38;5;5m⣢\u001b[0m\u001b[38;5;5m⣦\u001b[0m\u001b[38;5;5m⣔\u001b[0m\u001b[38;5;5m⣲\u001b[0m⠀⠀⠀\u001b[38;5;8m│\u001b[0m \u001b[38;5;1m> 0\u001b[0m\n",
       "     \u001b[38;5;8m\u001b[0m \u001b[38;5;8m│\u001b[0m\u001b[38;5;5m⡜\u001b[0m\u001b[38;5;5m⣿\u001b[0m\u001b[38;5;5m⣿\u001b[0m\u001b[38;5;5m⣿\u001b[0m⠀⠀⠀\u001b[38;5;8m│\u001b[0m \u001b[38;5;4m< 0\u001b[0m\n",
       "     \u001b[38;5;8m\u001b[0m \u001b[38;5;8m│\u001b[0m\u001b[38;5;5m⠉\u001b[0m\u001b[38;5;4m⠉\u001b[0m\u001b[38;5;4m⠉\u001b[0m\u001b[38;5;1m⠉\u001b[0m\u001b[38;5;5m⣶\u001b[0m\u001b[38;5;5m⡆\u001b[0m⠀\u001b[38;5;8m│\u001b[0m \u001b[38;5;8m\u001b[0m   \n",
       "   \u001b[38;5;8m14\u001b[0m \u001b[38;5;8m│\u001b[0m⠀⠀⠀⠀⠀\u001b[38;5;5m⠸\u001b[0m\u001b[38;5;5m⠿\u001b[0m\u001b[38;5;8m│\u001b[0m \u001b[38;5;8m\u001b[0m   \n",
       "      \u001b[38;5;8m└───────┘\u001b[0m    \n",
       "      ⠀\u001b[38;5;8m1\u001b[0m⠀⠀\u001b[38;5;8m\u001b[0m⠀⠀\u001b[38;5;8m14\u001b[0m⠀    \n",
       "      ⠀⠀72 ≠ 0⠀    "
      ]
     },
     "metadata": {},
     "output_type": "display_data"
    }
   ],
   "source": [
    "p3, _ = Metis.permutation(M)\n",
    "F3 = lu(Matrix(M[p3, p3]), Val(false))\n",
    "spy(M[p3, p3])"
   ]
  },
  {
   "cell_type": "code",
   "execution_count": 26,
   "id": "619b8a9a",
   "metadata": {},
   "outputs": [
    {
     "data": {
      "text/plain": [
       "      \u001b[38;5;8m┌───────┐\u001b[0m    \n",
       "    \u001b[38;5;8m1\u001b[0m \u001b[38;5;8m│\u001b[0m\u001b[38;5;5m⣢\u001b[0m\u001b[38;5;1m⡀\u001b[0m⠀⠀⠀⠀⠀\u001b[38;5;8m│\u001b[0m \u001b[38;5;1m> 0\u001b[0m\n",
       "     \u001b[38;5;8m\u001b[0m \u001b[38;5;8m│\u001b[0m\u001b[38;5;5m⡜\u001b[0m\u001b[38;5;5m⣿\u001b[0m\u001b[38;5;5m⣦\u001b[0m\u001b[38;5;1m⡀\u001b[0m⠀⠀⠀\u001b[38;5;8m│\u001b[0m \u001b[38;5;4m< 0\u001b[0m\n",
       "     \u001b[38;5;8m\u001b[0m \u001b[38;5;8m│\u001b[0m\u001b[38;5;5m⠉\u001b[0m\u001b[38;5;4m⠈\u001b[0m\u001b[38;5;4m⠉\u001b[0m\u001b[38;5;1m⠉\u001b[0m\u001b[38;5;5m⣦\u001b[0m\u001b[38;5;1m⡀\u001b[0m⠀\u001b[38;5;8m│\u001b[0m \u001b[38;5;8m\u001b[0m   \n",
       "   \u001b[38;5;8m14\u001b[0m \u001b[38;5;8m│\u001b[0m⠀⠀⠀⠀⠀\u001b[38;5;5m⠸\u001b[0m\u001b[38;5;5m⠦\u001b[0m\u001b[38;5;8m│\u001b[0m \u001b[38;5;8m\u001b[0m   \n",
       "      \u001b[38;5;8m└───────┘\u001b[0m    \n",
       "      ⠀\u001b[38;5;8m1\u001b[0m⠀⠀\u001b[38;5;8m\u001b[0m⠀⠀\u001b[38;5;8m14\u001b[0m⠀    \n",
       "      ⠀⠀42 ≠ 0⠀    "
      ]
     },
     "metadata": {},
     "output_type": "display_data"
    }
   ],
   "source": [
    "spy(sparse(F3.L))"
   ]
  },
  {
   "cell_type": "markdown",
   "id": "872cd7ea",
   "metadata": {},
   "source": [
    "### V) Analyse symbolique pour les factorisations de matrices creuses"
   ]
  },
  {
   "cell_type": "markdown",
   "id": "6d24a13a",
   "metadata": {},
   "source": [
    "On peut souvent décomposer les factorisations creuses en deux étapes:\n",
    "\n",
    "- Une étape qui va déterminer la position des éléments non nuls sur les facteurs (analyse symbolique)\n",
    "- Une étape qui va déterminer la valeur des éléments non nuls sur les facteurs\n",
    "\n",
    "Avantage: Si deux matrices ont des éléments non nuls au même endroit (mais pas forcément avec des valeurs indentiques), on peut effectuer une seule fois l'analyse symbolique pour ces deux matrices.\n",
    "\n",
    "**Exemple avec LDLFactorizations**"
   ]
  },
  {
   "cell_type": "code",
   "execution_count": 27,
   "id": "e8ccb703",
   "metadata": {},
   "outputs": [
    {
     "data": {
      "text/plain": [
       "10×10 SparseMatrixCSC{Float64, Int64} with 37 stored entries:\n",
       " 2.0015   ⋅        ⋅        0.166271  …  0.631001    ⋅         0.00697854\n",
       "  ⋅      1.71216  0.846609   ⋅           0.0904323  0.0570512   ⋅ \n",
       "  ⋅       ⋅       2.27432    ⋅           0.463044   0.292121    ⋅ \n",
       "  ⋅       ⋅        ⋅        1.30517       ⋅         0.453893   0.00363842\n",
       "  ⋅       ⋅        ⋅         ⋅           0.52854    0.333441    ⋅ \n",
       "  ⋅       ⋅        ⋅         ⋅        …   ⋅         0.751133    ⋅ \n",
       "  ⋅       ⋅        ⋅         ⋅           0.422251   0.704108   0.169875\n",
       "  ⋅       ⋅        ⋅         ⋅           2.11019    0.304952   0.176159\n",
       "  ⋅       ⋅        ⋅         ⋅            ⋅         2.81977     ⋅ \n",
       "  ⋅       ⋅        ⋅         ⋅            ⋅          ⋅         1.71368"
      ]
     },
     "metadata": {},
     "output_type": "display_data"
    }
   ],
   "source": [
    "A = sprand(10, 10, 0.2)\n",
    "As = A' * A + I\n",
    "Asu = Symmetric(triu(As), :U) # même matrice que As mais avec le triangle supérieur seul et dans le \"wrapper\" Symmetric\n",
    "Asu.data # matrice triangulaire supérieur à l'intérieur du \"wrapper\""
   ]
  },
  {
   "cell_type": "code",
   "execution_count": 28,
   "id": "b4a884c9",
   "metadata": {},
   "outputs": [
    {
     "data": {
      "text/plain": [
       "10×10 SparseMatrixCSC{Float64, Int64} with 30 stored entries:\n",
       "  ⋅    ⋅    ⋅    ⋅    ⋅    ⋅    ⋅    ⋅    ⋅    ⋅ \n",
       "  ⋅    ⋅    ⋅    ⋅    ⋅    ⋅    ⋅    ⋅    ⋅    ⋅ \n",
       "  ⋅    ⋅    ⋅    ⋅    ⋅    ⋅    ⋅    ⋅    ⋅    ⋅ \n",
       "  ⋅    ⋅    ⋅    ⋅    ⋅    ⋅    ⋅    ⋅    ⋅    ⋅ \n",
       "  ⋅    ⋅    ⋅    ⋅    ⋅    ⋅    ⋅    ⋅    ⋅    ⋅ \n",
       "  ⋅    ⋅    ⋅    ⋅    ⋅    ⋅    ⋅    ⋅    ⋅    ⋅ \n",
       "  ⋅    ⋅    ⋅    ⋅    ⋅    ⋅    ⋅    ⋅    ⋅    ⋅ \n",
       "  ⋅    ⋅    ⋅    ⋅    ⋅    ⋅    ⋅    ⋅    ⋅    ⋅ \n",
       "  ⋅    ⋅    ⋅    ⋅    ⋅    ⋅    ⋅    ⋅    ⋅    ⋅ \n",
       "  ⋅    ⋅    ⋅    ⋅    ⋅    ⋅    ⋅    ⋅    ⋅    ⋅ "
      ]
     },
     "metadata": {},
     "output_type": "display_data"
    }
   ],
   "source": [
    "F = ldl_analyze(Asu)\n",
    "F.L # F contient des entrées non nuls initialisées à une valeur arbitraire"
   ]
  },
  {
   "cell_type": "code",
   "execution_count": 29,
   "id": "5b4b0344",
   "metadata": {},
   "outputs": [
    {
     "data": {
      "text/plain": [
       "10×10 SparseMatrixCSC{Float64, Int64} with 30 stored entries:\n",
       "  ⋅           ⋅           ⋅         ⋅          …   ⋅         ⋅          ⋅ \n",
       " 0.00348666   ⋅           ⋅         ⋅              ⋅         ⋅          ⋅ \n",
       " 0.0830731   0.0017849    ⋅         ⋅              ⋅         ⋅          ⋅ \n",
       "  ⋅           ⋅          0.237593   ⋅              ⋅         ⋅          ⋅ \n",
       "  ⋅           ⋅           ⋅         ⋅              ⋅         ⋅          ⋅ \n",
       "  ⋅           ⋅           ⋅         ⋅          …   ⋅         ⋅          ⋅ \n",
       " 0.263999    0.0980554   0.275191  0.152264        ⋅         ⋅          ⋅ \n",
       " 0.315265    0.101513   -0.040833  0.00487229      ⋅         ⋅          ⋅ \n",
       "  ⋅           ⋅          0.351487  0.250179       0.118753   ⋅          ⋅ \n",
       "  ⋅           ⋅           ⋅        0.0279179      0.242309  0.0947254   ⋅ "
      ]
     },
     "metadata": {},
     "output_type": "display_data"
    },
    {
     "data": {
      "text/plain": [
       "10×10 Diagonal{Float64, Vector{Float64}}:\n",
       " 2.0015   ⋅        ⋅        ⋅       …   ⋅        ⋅        ⋅        ⋅ \n",
       "  ⋅      1.71365   ⋅        ⋅           ⋅        ⋅        ⋅        ⋅ \n",
       "  ⋅       ⋅       1.29135   ⋅           ⋅        ⋅        ⋅        ⋅ \n",
       "  ⋅       ⋅        ⋅       2.57132      ⋅        ⋅        ⋅        ⋅ \n",
       "  ⋅       ⋅        ⋅        ⋅           ⋅        ⋅        ⋅        ⋅ \n",
       "  ⋅       ⋅        ⋅        ⋅       …   ⋅        ⋅        ⋅        ⋅ \n",
       "  ⋅       ⋅        ⋅        ⋅          1.65199   ⋅        ⋅        ⋅ \n",
       "  ⋅       ⋅        ⋅        ⋅           ⋅       1.77284   ⋅        ⋅ \n",
       "  ⋅       ⋅        ⋅        ⋅           ⋅        ⋅       2.31984   ⋅ \n",
       "  ⋅       ⋅        ⋅        ⋅           ⋅        ⋅        ⋅       1.33666"
      ]
     },
     "metadata": {},
     "output_type": "display_data"
    }
   ],
   "source": [
    "ldl_factorize!(Asu, F)\n",
    "display(F.L)\n",
    "display(F.D)"
   ]
  },
  {
   "cell_type": "code",
   "execution_count": 30,
   "id": "7ba5c946",
   "metadata": {},
   "outputs": [
    {
     "data": {
      "text/plain": [
       "10×10 SparseMatrixCSC{Float64, Int64} with 37 stored entries:\n",
       " 10.0   ⋅        ⋅        0.166271  …  0.631001    ⋅         0.00697854\n",
       "   ⋅   1.71216  0.846609   ⋅           0.0904323  0.0570512   ⋅ \n",
       "   ⋅    ⋅       2.27432    ⋅           0.463044   0.292121    ⋅ \n",
       "   ⋅    ⋅        ⋅        1.30517       ⋅         0.453893   0.00363842\n",
       "   ⋅    ⋅        ⋅         ⋅           0.52854    0.333441    ⋅ \n",
       "   ⋅    ⋅        ⋅         ⋅        …   ⋅         0.751133    ⋅ \n",
       "   ⋅    ⋅        ⋅         ⋅           0.422251   0.704108   0.169875\n",
       "   ⋅    ⋅        ⋅         ⋅           2.11019    0.304952   0.176159\n",
       "   ⋅    ⋅        ⋅         ⋅            ⋅         2.81977     ⋅ \n",
       "   ⋅    ⋅        ⋅         ⋅            ⋅          ⋅         1.71368"
      ]
     },
     "metadata": {},
     "output_type": "display_data"
    }
   ],
   "source": [
    "# motifications de la matrice Asu sans changer la position des éléments non nuls\n",
    "Asu2 = copy(Asu)\n",
    "Asu2.data.nzval[1] = 10.0\n",
    "Asu2.data"
   ]
  },
  {
   "cell_type": "code",
   "execution_count": 31,
   "id": "903d4713",
   "metadata": {},
   "outputs": [
    {
     "data": {
      "text/plain": [
       "10×10 SparseMatrixCSC{Float64, Int64} with 30 stored entries:\n",
       "  ⋅            ⋅            ⋅        …   ⋅          ⋅          ⋅ \n",
       " 0.000697854   ⋅            ⋅            ⋅          ⋅          ⋅ \n",
       " 0.0166271    0.00205546    ⋅            ⋅          ⋅          ⋅ \n",
       "  ⋅            ⋅           0.235578      ⋅          ⋅          ⋅ \n",
       "  ⋅            ⋅            ⋅            ⋅          ⋅          ⋅ \n",
       "  ⋅            ⋅            ⋅        …   ⋅          ⋅          ⋅ \n",
       " 0.0528393    0.0989142    0.299777      ⋅          ⋅          ⋅ \n",
       " 0.0631001    0.102539    -0.008333      ⋅          ⋅          ⋅ \n",
       "  ⋅            ⋅           0.348506     0.0903336   ⋅          ⋅ \n",
       "  ⋅            ⋅            ⋅           0.229173   0.0980647   ⋅ "
      ]
     },
     "metadata": {},
     "output_type": "display_data"
    },
    {
     "data": {
      "text/plain": [
       "10×10 Diagonal{Float64, Vector{Float64}}:\n",
       " 10.0   ⋅        ⋅       ⋅       …   ⋅        ⋅        ⋅        ⋅ \n",
       "   ⋅   1.71367   ⋅       ⋅           ⋅        ⋅        ⋅        ⋅ \n",
       "   ⋅    ⋅       1.3024   ⋅           ⋅        ⋅        ⋅        ⋅ \n",
       "   ⋅    ⋅        ⋅      2.57194      ⋅        ⋅        ⋅        ⋅ \n",
       "   ⋅    ⋅        ⋅       ⋅           ⋅        ⋅        ⋅        ⋅ \n",
       "   ⋅    ⋅        ⋅       ⋅       …   ⋅        ⋅        ⋅        ⋅ \n",
       "   ⋅    ⋅        ⋅       ⋅          1.74631   ⋅        ⋅        ⋅ \n",
       "   ⋅    ⋅        ⋅       ⋅           ⋅       1.90078   ⋅        ⋅ \n",
       "   ⋅    ⋅        ⋅       ⋅           ⋅        ⋅       2.34112   ⋅ \n",
       "   ⋅    ⋅        ⋅       ⋅           ⋅        ⋅        ⋅       1.33951"
      ]
     },
     "metadata": {},
     "output_type": "display_data"
    }
   ],
   "source": [
    "ldl_factorize!(Asu2, F) # ici on n'a pas fait l'analyse symbolique\n",
    "display(F.L)\n",
    "display(F.D)"
   ]
  },
  {
   "cell_type": "markdown",
   "id": "2f380247",
   "metadata": {},
   "source": [
    "### V) Applications"
   ]
  },
  {
   "attachments": {},
   "cell_type": "markdown",
   "id": "efc5ecf5",
   "metadata": {},
   "source": [
    "### 1)\n",
    "\n",
    "**Exercice** : Donner les conditions d'optimalités (KKT) du problème\n",
    "<br/><br/>\n",
    "\\begin{array}{rl}\n",
    "    (P) \\ \\ \\ \n",
    "    \\displaystyle \\min_{x}\n",
    "    & \\tfrac{1}{2} x^{T} Q x + c^{T} x + d\\\\\n",
    "    s.t.\n",
    "    & A x = b\n",
    "\\end{array}\n",
    "<br/>\n",
    "sous la forme d'un système linéaire et en déduire la factorisation la plus adaptée si $Q$ est symétrique.\n",
    "\n",
    "Créer une structure en julia pour stocker le problème, et une fonction qui permet de le résoudre. Vérifier l'implémentation sur un exemple\n",
    "<br><br/>\n",
    "Anwser: \n",
    "$$ L(x,y) = \\frac{1}{2} x^T Q x + c^T + d + y^T (Ax-b) $$\n",
    "\n",
    "$$ \\nabla_x L(x, y) = Qx + c + A^T y $$\n",
    "\n",
    "$$ \\nabla_y L(x, y) = Ax - b $$\n",
    "\n",
    "\n",
    "We need to solve: \n",
    "$$\\left[ {\\begin{array}{cc}  Q & A^T \\\\ A & 0 \\\\ \\end{array} } \\right] \\left[ {\\begin{array}{cc}  x \\\\ y \\\\ \\end{array} } \\right] = \\left[ {\\begin{array}{cc}  -c \\\\ b \\\\ \\end{array} } \\right] \n"
   ]
  },
  {
   "cell_type": "code",
   "execution_count": 10,
   "id": "7eac1a2c",
   "metadata": {},
   "outputs": [
    {
     "data": {
      "text/plain": [
       "solve_model (generic function with 1 method)"
      ]
     },
     "metadata": {},
     "output_type": "display_data"
    }
   ],
   "source": [
    "using LinearAlgebra\n",
    "\n",
    "struct MyQuadraticModel{T} # utiliser mutable struct au lieu de struct si vous avez besoin de modifier des attributs\n",
    "    Q::Symmetric{T, Matrix{T}}\n",
    "    A::Matrix{T}\n",
    "    c::Vector{T}\n",
    "    b::Vector{T}\n",
    "    d::T\n",
    "    \n",
    "    # Constructor to init var and check dims\n",
    "    function MyQuadraticModel(Q::Symmetric{T, Matrix{T}}, A::Matrix, c::Vector{T}, b::Vector{T}, d::Real) where {T}\n",
    "        n = size(Q, 2)\n",
    "        @assert (size(Q,1) == n && size(A,2) == n && length(c) == n)\n",
    "        @assert (size(A, 1) == length(b))\n",
    "        return new{T}(Q, A, c, b, d)\n",
    "    end\n",
    "end\n",
    "\n",
    "function solve_model(qm::MyQuadraticModel{T}) where {T}\n",
    "    # Resolution\n",
    "    Q, A, c, b = qm.Q, qm.A, qm.c, qm.b\n",
    "    K = [Q A'; \n",
    "         A zeros(size(A, 1), size(A, 1))]\n",
    "    # Factorization\n",
    "    F = bunchkaufman(K)\n",
    "    sol = F \\ [-c; b]\n",
    "    x = sol[1:size(Q, 2)]\n",
    "    y = sol[size(Q, 2)+1: end]\n",
    "    x, y, x' * Q * x / 2 + c' * x + d\n",
    "\n",
    "end"
   ]
  },
  {
   "cell_type": "code",
   "execution_count": 11,
   "id": "64c826ec",
   "metadata": {},
   "outputs": [
    {
     "data": {
      "text/plain": [
       "([-1.2871114561053458, 0.7800816679222502, 0.3508089623801558, -1.2441987795077902, -0.5096090160367102, -0.5794221045260113, -0.6456359758762509, 1.9227023975605595, 0.7200770645727342, 0.9781605753397882], [-1.4408011399303098, 0.19683201076981172, -2.3317642809529326, -0.030338489237920985, -1.9553522476677594, 0.2581670984406992, -1.1762617007453824, 2.5035881782525347], 2.9394962184191615)"
      ]
     },
     "metadata": {},
     "output_type": "display_data"
    }
   ],
   "source": [
    "# Verification\n",
    "A1 = rand(10,10)\n",
    "Q = Symmetric(A1*A1', :L)\n",
    "c = rand(10)\n",
    "A = rand(8, 10)\n",
    "b = rand(8)\n",
    "d = 2.0\n",
    "qm = MyQuadraticModel(Q, A, c, b, d)\n",
    "sol = solve_model(qm)"
   ]
  },
  {
   "attachments": {},
   "cell_type": "markdown",
   "id": "14504c65",
   "metadata": {},
   "source": [
    "### 2)\n",
    "\n",
    "L'équation de Poisson $\\Delta u = f$ permet de modéliser différents phénomènes physiques comme le champ gravitationnel ou électrostatique causé par une densite de masse ou une distribution de charge. L'équation de Poisson en 2D et en coordonnées polaires est :\n",
    "$$\\frac{1}{r} \\frac{\\partial}{\\partial r} \\left( r \\frac{\\partial u(r, \\theta)}{\\partial r} \\right) + \\frac{1}{r^2} \\frac{\\partial^2 u(r, \\theta)}{\\partial \\theta^2} = f(r, \\theta),$$\n",
    "<br> <br/>\n",
    "$$(r,\\theta) \\in (0, R) \\times [0, 2\\pi),$$\n",
    "<br> <br/>\n",
    "$$u(R,\\theta) = g(R, \\theta), \\quad \\theta \\in [0, 2\\pi)$$\n",
    "<br> <br/>\n",
    "avec $R > 0$ le rayon du domaine, $f$ le terme de source et $g$ les conditions aux bornes."
   ]
  },
  {
   "cell_type": "code",
   "execution_count": null,
   "id": "83522d26",
   "metadata": {},
   "outputs": [],
   "source": [
    "# ]add Krylov, Plots, PlotlyJS, Test"
   ]
  },
  {
   "cell_type": "code",
   "execution_count": null,
   "id": "9918324d",
   "metadata": {},
   "outputs": [],
   "source": [
    "using Krylov, Printf, Plots, Test\n",
    "plotlyjs()\n",
    "\n",
    "krylov_path = joinpath(dirname(pathof(Krylov)), \"..\", \"test\")\n",
    "include(joinpath(krylov_path, \"test_utils.jl\"))\n",
    "\n",
    "function arrangement(x, n, m)\n",
    "    u = zeros(n, m)\n",
    "    for i = 1 : n\n",
    "        for j = 1 : m\n",
    "            u[i, j] = x[i + (j-1)*n]\n",
    "        end\n",
    "    end\n",
    "  return u\n",
    "end\n",
    "\n",
    "function meshgrid(r, θ)\n",
    "    lr = length(r)\n",
    "    lθ = length(θ)\n",
    "    rr = r' .* ones(lθ)\n",
    "    θθ = ones(lr)' .* θ \n",
    "    xx = rr .* cos.(θθ)\n",
    "    yy = rr .* sin.(θθ)\n",
    "    return xx, yy\n",
    "end"
   ]
  },
  {
   "cell_type": "code",
   "execution_count": null,
   "id": "01d9bb94",
   "metadata": {},
   "outputs": [],
   "source": [
    "m = 50   # Nombre de subdivision de [0, 2π[\n",
    "n = 50   # Nombre de subdivision de [O, R[\n",
    "R = 1.0  # Rayon du domaine\n",
    "\n",
    "f(r, θ) = -3.0 * cos(θ)  # terme de source\n",
    "g(r, θ) = 0.0            # conditions aux bornes du domaine\n",
    "\n",
    "# Discrétisation de l'équation différentielle avec des différences finies\n",
    "A, b = polar_poisson(n, m, f, g, R=R); # système linéaire de taille nm × nm\n",
    "\n",
    "Δr = 2 * R / (2*n + 1)\n",
    "Δθ = 2 * π / m\n",
    "\n",
    "r = zeros(n+1)\n",
    "for i = 1 : n+1\n",
    "    r[i] = (i - 1/2) * Δr\n",
    "end\n",
    "\n",
    "θ = zeros(m+1)\n",
    "for j = 1 : m+1\n",
    "  θ[j] = (j - 1) * Δθ\n",
    "end\n",
    "\n",
    "# Discrétisation du domaine\n",
    "xx, yy = meshgrid(r, θ)\n",
    "\n",
    "# Solution après discrétisation de l'EDP\n",
    "F = lu(A)\n",
    "x = F \\ b\n",
    "u = arrangement(x, n, m)\n",
    "u = u'\n",
    "u = [u; u[1,:]']   # u(r, 0) = u(r, 2π)\n",
    "u =[u zeros(m+1)]  # u(R, θ) = g(r, θ) = 0\n",
    "\n",
    "# Solution exacte u(r, θ) = r * (1-r) * cos(θ) \n",
    "u_star = [r[i] * (1.0 - r[i]) * cos(θ[j]) for i=1:m+1, j=1:n+1]'\n",
    "\n",
    "# Affichage de la solution\n",
    "surface(xx, yy, u)"
   ]
  },
  {
   "cell_type": "markdown",
   "id": "d04b0107",
   "metadata": {},
   "source": [
    "**Exercice** : Discrétiser l'équation de Poisson en coordonnées cartésiennes\n",
    "<br/><br/>\n",
    "$$\\frac{\\partial^2 u(x, y)}{\\partial x^2} + \\frac{\\partial^2 u(x, y)}{\\partial y^2} = f(x, y)$$\n",
    "<br/>\n",
    "à  l'aide de la méthode des différences finies sur le domaine $\\Omega$ = [0, 1] x [0, 1] avec $f(x,y) = -1$ pour $(x, y) \\in \\bar{\\Omega}$ et $u(x, y) = 0$ pour $(x, y) \\in \\partial \\Omega$.\n",
    "\n",
    "Résoudre le système linéaire et tracer la solution.\n",
    "<br/>"
   ]
  },
  {
   "cell_type": "markdown",
   "id": "e818dd93",
   "metadata": {},
   "source": [
    "**Indices** :\n",
    "<br/><br/>\n",
    "$$\\frac{\\partial^2 u(x_i, y_j)}{\\partial x^2} \\approx \\frac{u(x_{i-1},y_j) - 2 u(x_i, y_j) + u(x_{i+1}, y_j)}{(\\Delta x)^2}$$\n",
    "<br/>\n",
    "$$\\frac{\\partial^2 u(x_i, y_j)}{\\partial y^2} \\approx \\frac{u(x_i,y_{j-1}) - 2 u(x_i, y_j) + u(x_i, y_{j+1})}{(\\Delta y)^2}$$"
   ]
  },
  {
   "cell_type": "code",
   "execution_count": null,
   "id": "a28fefef",
   "metadata": {},
   "outputs": [],
   "source": [
    "function cartesian_poisson(n, m, f, g; dim_x=[0.0, 1.0], dim_y=[0.0, 1.0])\n",
    "  # Ω = ]xₗ,xᵣ[ × ]yₗ,yᵣ[\n",
    "  # Ω ∪ ∂Ω = [xₗ,xᵣ] × [yₗ,yᵣ]\n",
    "  xₗ = dim_x[1]\n",
    "  xᵣ = dim_x[2]\n",
    "\n",
    "  yₗ = dim_y[1]\n",
    "  yᵣ = dim_y[2]\n",
    "\n",
    "  # Uniform grid of Ω with n × m points\n",
    "  Δx = (xᵣ - xₗ) / (n + 1)\n",
    "  x = [xₗ + i * Δx for i = 1 : n]\n",
    "\n",
    "  Δy = (yᵣ - yₗ) / (m + 1)\n",
    "  y = [yₗ + j * Δy for j = 1 : m]\n",
    "\n",
    "  A = spzeros(n * m, n * m)\n",
    "  for i = 1 : n\n",
    "    for j = 1 : m\n",
    "      A[i + (j-1)*n, i + (j-1)*n] = - 2.0 / (Δx * Δx) - 2.0 / (Δy * Δy) \n",
    "      ### .... compléter avec le reste des valeurs de la ligne i + (j-1) * n\n",
    "    end\n",
    "  end\n",
    "\n",
    "  b = zeros(n * m)\n",
    "  for i = 1 : n\n",
    "    for j = 1 : m\n",
    "      b[i + (j-1)*n] = f(x[i], y[j])\n",
    "    end\n",
    "  end\n",
    "\n",
    "  return A, b\n",
    "end"
   ]
  },
  {
   "cell_type": "code",
   "execution_count": null,
   "id": "b51c4b8b",
   "metadata": {},
   "outputs": [],
   "source": [
    "function meshgrid2(x, y)\n",
    "    lx = length(x)\n",
    "    ly = length(y)\n",
    "    xx = x' .* ones(ly)\n",
    "    yy = ones(lx)' .* y \n",
    "    return xx, yy\n",
    "end"
   ]
  },
  {
   "cell_type": "code",
   "execution_count": null,
   "id": "7c41edd0",
   "metadata": {},
   "outputs": [],
   "source": [
    "n = 10\n",
    "m = 10\n",
    "g(x, y) = 0.0\n",
    "f(x, y) = -1.0\n",
    "\n",
    "A, b = cartesian_poisson(n, m, f, g, dim_x=[0.0, 1.0], dim_y=[0.0, 1.0])\n",
    "x = ldl(A) \\ b\n",
    "u = arrangement(x, m, n)\n",
    "\n",
    "# Uniform grid of Ω with n × m points\n",
    "Δx = 1 / (n + 1)\n",
    "x = [i * Δx for i = 1 : n]\n",
    "\n",
    "Δy = 1 / (m + 1)\n",
    "y = [j * Δy for j = 1 : m]\n",
    "\n",
    "xx, yy = meshgrid2(x, y)\n",
    "surface(xx, yy, u)"
   ]
  },
  {
   "cell_type": "code",
   "execution_count": null,
   "id": "3db0dbdc",
   "metadata": {},
   "outputs": [],
   "source": []
  }
 ],
 "metadata": {
  "kernelspec": {
   "display_name": "Julia 1.8.4",
   "language": "julia",
   "name": "julia-1.8"
  },
  "language_info": {
   "file_extension": ".jl",
   "mimetype": "application/julia",
   "name": "julia",
   "version": "1.8.4"
  }
 },
 "nbformat": 4,
 "nbformat_minor": 5
}
