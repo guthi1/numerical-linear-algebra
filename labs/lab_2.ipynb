{
 "cells": [
  {
   "cell_type": "markdown",
   "id": "6afa57bc",
   "metadata": {},
   "source": [
    "# MTH8211: Algèbre linéaire numérique appliquée"
   ]
  },
  {
   "cell_type": "markdown",
   "id": "e40f6bb6",
   "metadata": {},
   "source": [
    "### Laboratoire 2: Méthodes directes"
   ]
  },
  {
   "cell_type": "markdown",
   "id": "8de0196e",
   "metadata": {},
   "source": [
    "Alexis Montoison, Geoffroy Leconte "
   ]
  },
  {
   "cell_type": "markdown",
   "id": "34a6d0e5",
   "metadata": {},
   "source": [
    "## I) Revue et utilisation des principales factorisations matricielles"
   ]
  },
  {
   "cell_type": "markdown",
   "id": "32452fe0",
   "metadata": {},
   "source": [
    "Un système (S) de $m$ équations linéaires à $n$ inconnues $x_1$, $\\cdots$, $x_n$ :\n",
    "<br/><br/>\n",
    "$$(S) \\left\\{\\begin{matrix}\n",
    "a_{1,1}x_1 + \\dots + a_{1,n}x_n = b_1 \\\\\n",
    "\\phantom{a_{1,1}x_1 +} \\vdots \\phantom{\\dots + a_{1,n}x_n =} \\vdots \\\\\n",
    "a_{m,1}x_1 + \\dots + a_{m,n}x_n = b_m\\end{matrix}\\right.$$\n",
    "<br/>"
   ]
  },
  {
   "cell_type": "markdown",
   "id": "5b4e6f68",
   "metadata": {},
   "source": [
    "On peut reformuler (S) sous la forme d'une équation matricielle $Ax = b$ :\n",
    "<br/><br/>\n",
    "$$A=\\begin{pmatrix}\n",
    "a_{1,1} & \\cdots & a_{1,n} \\\\\n",
    "\\vdots & \\ddots & \\vdots \\\\\n",
    "a_{m,1} & \\cdots & a_{m,n} \\end{pmatrix}, \\quad x=\\begin{pmatrix} x_1 \\\\ \\vdots \\\\ x_n \\end{pmatrix}\\quad\\text{et}\\quad b=\\begin{pmatrix} b_1 \\\\ \\vdots \\\\ b_m \\end{pmatrix}$$\n",
    "<br/>"
   ]
  },
  {
   "cell_type": "markdown",
   "id": "361efeb8",
   "metadata": {},
   "source": [
    "Il existe différents types de systèmes linéaires:\n",
    "+ $Ax = b~~~~~$ Systèmes carrés\n",
    "<br/><br/>\n",
    "+ $\\begin{bmatrix} M & A \\\\ A^T & 0 \\end{bmatrix} \\begin{bmatrix} x \\\\ y \\end{bmatrix} = \\begin{bmatrix} b \\\\ c \\end{bmatrix}~~~~~$ Systèmes de point de selle ($M \\succ 0$)\n",
    "<br/><br/>\n",
    "+ $\\begin{bmatrix} M & \\phantom{-}A \\\\ A^T & -N \\end{bmatrix} \\begin{bmatrix} x \\\\ y \\end{bmatrix} = \\begin{bmatrix} b \\\\ c \\end{bmatrix}~~~~~$ Systèmes symétriques quasi-définis ($M \\succ 0$ et $N \\succ 0$)\n",
    "<br/><br/>\n",
    "+ $\\min\\limits_{x \\in \\mathbb{R}^n} \\|Ax - b\\|~~~~~$ Problèmes de moindres carrés\n",
    "<br/><br/>\n",
    "+ $\\min\\limits_{x \\in \\mathbb{R}^n} \\|x\\|~\\text{ s.c. }~Ax = b~~~~~$ Problèmes de moindre norme\n",
    "<br/><br/>\n",
    "+ $Ax = b ~~~~~\\text{et}~~~~~ A^T y = c~~~~~$ Systèmes adjoints"
   ]
  },
  {
   "cell_type": "markdown",
   "id": "a64ac451",
   "metadata": {},
   "source": [
    "En fonction du type de système linéaire que l'on va résoudre (problèmes de moindres carrés, problèmes de moindre norme, ...), de la structure (carré, rectangulaire, creux, dense, etc...) et des caractéristiques (symétrique, défini positif, ...) on va adapter la factorisation."
   ]
  },
  {
   "cell_type": "markdown",
   "id": "6ce67be2",
   "metadata": {},
   "source": [
    "**Question** : Est-ce que déterminer $A^{-1}$ et faire le produit $A^{-1} b$ est pertinent pour résoudre un système carré $Ax = b$ ?"
   ]
  },
  {
   "cell_type": "markdown",
   "id": "9f5e8130",
   "metadata": {},
   "source": [
    "**Remarque** : On a besoin de déterminer une décomposition de $A$ une seule fois même si on résout plusieurs systèmes."
   ]
  },
  {
   "cell_type": "markdown",
   "id": "65a3b6e4",
   "metadata": {},
   "source": [
    "### Factorisation LU"
   ]
  },
  {
   "cell_type": "markdown",
   "id": "020fbe66",
   "metadata": {},
   "source": [
    "Décomposition de A en un produit de deux matrices triangulaires $L$ et $U$.\n",
    "<br/><br/>\n",
    "$$A \\in \\mathbb{R}^{n \\times n},~L \\in \\mathbb{R}^{n \\times n} \\text{ et } U \\in \\mathbb{R}^{n \\times n}$$\n",
    "<br/><br/>\n",
    "$$L=\\begin{pmatrix}\n",
    "l_{1,1} & 0 & \\cdots & 0 \\\\\n",
    "\\vdots & \\ddots & \\ddots & \\vdots \\\\\n",
    "\\vdots & & \\ddots & 0 \\\\\n",
    "l_{n,1} & \\cdots & \\cdots & l_{n,n} \\end{pmatrix}\n",
    "\\quad\\text{et}\\quad\n",
    "U=\\begin{pmatrix}\n",
    "u_{1,1} & \\cdots & \\cdots & u_{1,n} \\\\\n",
    "0 & \\ddots & & \\vdots \\\\\n",
    "\\vdots & \\ddots & \\ddots & \\vdots \\\\\n",
    "0 & \\cdots & 0 & u_{n,n} \\end{pmatrix}$$\n",
    "<br/><br/>\n",
    "$$Ax = b \\Longleftrightarrow LU x = b \\Longleftrightarrow \\left\\{\\begin{matrix} Ly = b \\\\ Ux = y\\end{matrix}\\right.$$\n",
    "<br/><br/>\n",
    "La factorisation n'existe pas toujours sans permutation, même si $A$ est inversible. En pratique on fait la factorisation $PA = LU$ qui existe si $A$ est inversible."
   ]
  },
  {
   "cell_type": "code",
   "execution_count": null,
   "id": "0f583db4",
   "metadata": {},
   "outputs": [],
   "source": [
    "using LinearAlgebra"
   ]
  },
  {
   "cell_type": "code",
   "execution_count": null,
   "id": "d8f5a66f",
   "metadata": {},
   "outputs": [],
   "source": [
    "A = rand(10, 10)\n",
    "b = ones(10)\n",
    "F = lu(A);\n",
    "x = F \\ b;\n",
    "norm(A*x - b)"
   ]
  },
  {
   "cell_type": "markdown",
   "id": "cee77bd2",
   "metadata": {},
   "source": [
    "**Exercice** : À l'aide de la factoration $LU$ avec pivotage de $A$, décrire une méthode permettant de résoudre un système adjoint $Ax = b$ et $A^T y = c$."
   ]
  },
  {
   "cell_type": "markdown",
   "id": "7674cee6",
   "metadata": {},
   "source": [
    "### Factorisations de Cholesky, $\\mathbf{LDL^T}$ et de Bunch–Kaufman"
   ]
  },
  {
   "cell_type": "markdown",
   "id": "3b9a8d99",
   "metadata": {},
   "source": [
    "Lorsque $A$ est symétrique et définie positive alors on peut simplifier la factorisation afin d'obtenir $A=LL^T$. Il s'agit de la factorisation de _Cholesky_."
   ]
  },
  {
   "cell_type": "markdown",
   "id": "3fa4f052",
   "metadata": {},
   "source": [
    "**Exercice** : Est-ce que la factorisation $A=LL^T$ est un cas particulier de la décomposition $LU$ ? Est-ce que la complexité en temps et en mémoire est différente ?"
   ]
  },
  {
   "cell_type": "markdown",
   "id": "c3889985",
   "metadata": {},
   "source": [
    "Lorsque $A$ est symétrique et indéfinie, on fait la décomposition _$LDL^T$_ ($D$ est une matrice diagonale) ou de _Bunch–Kaufman_ ($D$ est une matrice bloc-diagonale)."
   ]
  },
  {
   "cell_type": "code",
   "execution_count": null,
   "id": "676e6069",
   "metadata": {},
   "outputs": [],
   "source": [
    "A = rand(10, 10)\n",
    "As = A' * A\n",
    "b = ones(10);"
   ]
  },
  {
   "cell_type": "markdown",
   "id": "1dd1bae2",
   "metadata": {},
   "source": [
    "**Question**: Pourquoi As est symétrique définie positive?"
   ]
  },
  {
   "cell_type": "code",
   "execution_count": null,
   "id": "bbb83ac4",
   "metadata": {},
   "outputs": [],
   "source": [
    "F = cholesky(As)\n",
    "println(norm(As * (F \\ b) - b))\n",
    "F = cholesky(Symmetric(As, :L))\n",
    "println(norm(As * (F \\ b) - b))\n",
    "F = cholesky(Symmetric(tril(As), :L)) # factorisation avec matrice d'entrée qui stocke uniquement le triangle inférieur\n",
    "println(norm(As * (F \\ b) - b))\n",
    "F"
   ]
  },
  {
   "cell_type": "code",
   "execution_count": null,
   "id": "9d909aae",
   "metadata": {},
   "outputs": [],
   "source": [
    "F = bunchkaufman(As)"
   ]
  },
  {
   "cell_type": "markdown",
   "id": "dcbe90da",
   "metadata": {},
   "source": [
    "### Factorisation QR"
   ]
  },
  {
   "cell_type": "markdown",
   "id": "780fecac",
   "metadata": {},
   "source": [
    "Décomposition de $A$ de rang plein en un produit d'une matrice orthogonale $Q$ et d'une matrice trapézoïdale supérieure $R$.\n",
    "<br/><br/>\n",
    "$$A \\in \\mathbb{R}^{m \\times n}~(m > n),~Q \\in \\mathbb{R}^{m \\times m} \\text{ et } R \\in \\mathbb{R}^{m \\times n}$$\n",
    "<br/><br/>\n",
    "$$QQ^T = Q^T Q = I_m \n",
    "\\quad\\text{et}\\quad\n",
    "R=\\begin{pmatrix} \\widetilde{R} \\\\ 0 \\end{pmatrix} \\quad\\text{avec}\\quad\n",
    "\\widetilde{R} = \\begin{pmatrix}\n",
    "r_{1,1} & \\cdots & \\cdots & r_{1,n} \\\\\n",
    "0 & \\ddots & & \\vdots \\\\\n",
    "\\vdots & \\ddots & \\ddots & \\vdots \\\\\n",
    "0 & \\cdots & 0 & r_{n,n} \\\\\n",
    "\\end{pmatrix}$$\n",
    "<br/><br/>\n",
    "$$\\min\\limits_{x \\in \\mathbb{R}^n} \\|Ax - b\\| \\Longleftrightarrow \\min\\limits_{x \\in \\mathbb{R}^n} \\|QRx - b\\| \\Longleftrightarrow \\min\\limits_{x \\in \\mathbb{R}^n} \\|Rx - Q^T b\\| \\Longleftrightarrow \\left\\{\\begin{matrix} z = Q^T b \\\\ \\widetilde{R}x = z_{1:n} \\end{matrix}\\right.$$"
   ]
  },
  {
   "cell_type": "code",
   "execution_count": null,
   "id": "8be7d85e",
   "metadata": {},
   "outputs": [],
   "source": [
    "A = rand(10, 8)\n",
    "F = qr(A)"
   ]
  },
  {
   "cell_type": "markdown",
   "id": "39a6776b",
   "metadata": {},
   "source": [
    "### Factorisation LQ"
   ]
  },
  {
   "cell_type": "markdown",
   "id": "b505891b",
   "metadata": {},
   "source": [
    "Décomposition de $A$ de rang plein en un produit d'une matrice trapézoïdale inférieure $L$ et d'une matrice orthogonale $Q$. On peut l'obtenir avec la factorisation $QR$ de $A^T$.\n",
    "<br/><br/>\n",
    "$$A \\in \\mathbb{R}^{m \\times n}~(m < n),~L \\in \\mathbb{R}^{m \\times n} \\text{ et } Q \\in \\mathbb{R}^{n \\times n}$$\n",
    "<br/><br/>\n",
    "$$L=\\begin{pmatrix} \\widetilde{L} & 0 \\end{pmatrix} \\quad\\text{avec}\\quad\n",
    "\\widetilde{L} =\\begin{pmatrix}\n",
    "l_{1,1} & 0 & \\cdots & 0 \\\\\n",
    "\\vdots & \\ddots & \\ddots & \\vdots \\\\\n",
    "\\vdots & & \\ddots & 0 \\\\\n",
    "l_{m,1} & \\cdots & \\cdots & l_{m,m} \\end{pmatrix}\n",
    "\\quad\\text{et}\\quad\n",
    "QQ^T = Q^T Q = I_n$$\n",
    "<br/><br/>\n",
    "$$\\min\\limits_{x \\in \\mathbb{R}^n} \\|x\\|~\\text{ s.c. }~Ax = b \\Longleftrightarrow \\min\\limits_{x \\in \\mathbb{R}^n} \\|x\\|~\\text{ s.c. }~LQx = b \\Longleftrightarrow \\left\\{\\begin{matrix} \\widetilde{L}~y_{1:m} = b \\\\ y_{m+1:n} = 0 \\\\ x = Q^T y \\end{matrix} \\right.$$"
   ]
  },
  {
   "cell_type": "code",
   "execution_count": null,
   "id": "9312cf83",
   "metadata": {},
   "outputs": [],
   "source": [
    "A = rand(8, 10)\n",
    "F = lq(A)"
   ]
  },
  {
   "cell_type": "markdown",
   "id": "cf32f3d0",
   "metadata": {},
   "source": [
    "**Exercice** : Trouver un moyen de faire une factorisation _QLP_ afin de résoudre le problème :\n",
    "<br/><br/>\n",
    "$$\\min\\limits_{x \\in \\mathbb{R}^n} \\|x\\|~\\text{ s.c. }~x \\in \\mathop{\\text{argmin}} \\|b- Ax\\|, \\quad A \\in \\mathbb{R}^{m \\times n}, \\quad m \\ge n.$$"
   ]
  },
  {
   "cell_type": "markdown",
   "id": "407f4620",
   "metadata": {},
   "source": [
    "### SVD"
   ]
  },
  {
   "cell_type": "markdown",
   "id": "bea9f315",
   "metadata": {},
   "source": [
    "$$A = U \\Sigma V^T, \\quad A \\in \\mathbb{R}^{m \\times n}, U \\in \\mathbb{R}^{n \\times n}, V \\in \\mathbb{R}^{m \\times m}, \\Sigma \\in \\mathbb{R}^{m \\times n}$$\n",
    "avec $U$ et $V$ orthogonales,\n",
    "    $$ \\Sigma = \\begin{bmatrix} \\tilde \\Sigma \\\\ 0 \\end{bmatrix}, \\quad \\tilde \\Sigma = \\mathrm{diag} ( \\sigma_1, ..., \\sigma_{\\min(m, n)}), \\quad \\sigma_i \\ge 0, \\quad  \\sigma_1 \\ge ... \\ge \\sigma_r > 0, \\quad \\sigma_{r+1} = ... = \\sigma_{\\min(m, n)} = 0, \\quad r = \\mathrm{rank}(A)$$\n",
    "    \n",
    "    \n",
    "$$\\min\\limits_{x \\in \\mathbb{R}^n} \\|Ax - b\\| \\Longleftrightarrow \\min\\limits_{x \\in \\mathbb{R}^n} \\|\\Sigma V^T x - U^T b\\| \n",
    "\\Longleftrightarrow \\min\\limits_{x \\in \\mathbb{R}^n} \\|\\Sigma y - U^T b\\|, \\quad y = V^T x$$\n",
    "\n",
    "$y_i = \\sigma_i^{-1} u_i^T b$, puis\n",
    "$$x = Vy = \\sum_{i=1}^n y_i v_i = \\sum_{i=1}^n \\sigma_i^{-1} v_i u_i^T b.$$"
   ]
  },
  {
   "cell_type": "code",
   "execution_count": 9,
   "id": "ca2b81e1",
   "metadata": {},
   "outputs": [
    {
     "data": {
      "text/plain": [
       "SVD{Float64, Float64, Matrix{Float64}, Vector{Float64}}\n",
       "U factor:\n",
       "10×8 Matrix{Float64}:\n",
       " -0.242059  -0.0293851   0.531923   …   0.271477   -0.486905   -0.190445\n",
       " -0.285346  -0.599753   -0.159575      -0.0688608  -0.151144    0.0864225\n",
       " -0.388911   0.433534   -0.400516       0.260638    0.296028   -0.128685\n",
       " -0.209389  -0.1441      0.195665      -0.242094    0.548978    0.295976\n",
       " -0.324654   0.167745    0.0826783     -0.431208   -0.0166781   0.33231\n",
       " -0.185005  -0.304066    0.363436   …   0.52338     0.49881    -0.0693413\n",
       " -0.405049  -0.376442   -0.378371      -0.190842   -0.0633023  -0.461611\n",
       " -0.428168   0.158369   -0.19256        0.405531   -0.290821    0.496404\n",
       " -0.300996   0.0514096   0.343003      -0.316064   -0.0903067   0.131387\n",
       " -0.295416   0.375085    0.23681       -0.18541     0.0723875  -0.509998\n",
       "singular values:\n",
       "8-element Vector{Float64}:\n",
       " 4.606349522891036\n",
       " 1.6081542221168053\n",
       " 0.9231126179046601\n",
       " 0.8246884747696293\n",
       " 0.7934435325230839\n",
       " 0.4310612829008902\n",
       " 0.1678273813404266\n",
       " 0.06543273615625979\n",
       "Vt factor:\n",
       "8×8 Matrix{Float64}:\n",
       " -0.416231   -0.280282   -0.437087  …  -0.394467   -0.30098   -0.274273\n",
       "  0.275005    0.20032     0.476795     -0.487523   -0.166904  -0.331608\n",
       " -0.0387462  -0.634155    0.286433      0.440315   -0.383748   0.158162\n",
       "  0.167111   -0.0552494   0.19998       0.426822    0.227368  -0.67816\n",
       "  0.437134    0.168692    0.108963     -0.0441223  -0.429332   0.412679\n",
       " -0.0683833   0.359855   -0.230411  …   0.293583    0.312686   0.249817\n",
       "  0.495865    0.113316   -0.597641      0.229288   -0.382862  -0.280321\n",
       "  0.5292     -0.552554   -0.193517     -0.299919    0.503899   0.13639"
      ]
     },
     "execution_count": 9,
     "metadata": {},
     "output_type": "execute_result"
    }
   ],
   "source": [
    "A = rand(10, 8)\n",
    "F = svd(A)"
   ]
  },
  {
   "cell_type": "markdown",
   "id": "7357e466",
   "metadata": {},
   "source": [
    "### II) Librairies numériques pour les factorisations"
   ]
  },
  {
   "cell_type": "markdown",
   "id": "3295e106",
   "metadata": {},
   "source": [
    "Dans le langage Julia, les opérations d'algèbre linéaire dense sont basées sur la bibliothèque LAPACK, qui à son tour exploite la librairie d'algèbre linéaire de base connus sous le nom de BLAS. Il existe des implémentations hautement optimisées de BLAS, dévelopées pour tirer profit de l'architecture du processeur.\n",
    "\n",
    "LinearAlgebra.BLAS et LinearAlgebra.LAPACK fournissent une interface directe aux fonctions de BLAS et LAPACK. Les fonctions de BLAS ou LAPACK ont généralement quatre méthodes associées aux types Float32, Float64, ComplexF32 et ComplexF64.\n",
    "\n",
    "Pour les opérations d'algèbre linéaire creuse, Julia utilise les algorithmes de [SuiteSparse](https://people.engr.tamu.edu/davis/suitesparse.html), on peut notamment citer **UMFPACK** et **CHOLMOD**, fonctions permettant respectivement de faire les factorisations $LU$ et $LL^T$ des matrices creuses.\n",
    "\n",
    "Il existe d'autres logiciels permettant la résolution de systèmes linéaires denses et creux, la plupart possède des interfaces en Julia ([HSL.jl](https://github.com/JuliaSmoothOptimizers/HSL.jl), [Pardiso.jl](https://github.com/JuliaSparse/Pardiso.jl), [MUMPS.jl](https://github.com/JuliaSmoothOptimizers/MUMPS.jl), etc...) ou une implémentation en Julia ([LDLFactorizations.jl](https://github.com/JuliaSmoothOptimizers/LDLFactorizations.jl))."
   ]
  },
  {
   "cell_type": "markdown",
   "id": "8bad09c3",
   "metadata": {},
   "source": [
    "**Exemple de factorisation creuse avec LDLFactorizations.jl**"
   ]
  },
  {
   "cell_type": "code",
   "execution_count": null,
   "id": "bbe1878b",
   "metadata": {},
   "outputs": [],
   "source": [
    "# ]add LDLFactorizations"
   ]
  },
  {
   "cell_type": "code",
   "execution_count": null,
   "id": "3699d894",
   "metadata": {},
   "outputs": [],
   "source": [
    "using LDLFactorizations, SparseArrays\n",
    "A = sprand(10, 10, 0.2)\n",
    "As = A' * A + I\n",
    "b = rand(10);"
   ]
  },
  {
   "cell_type": "code",
   "execution_count": null,
   "id": "f75a9ced",
   "metadata": {},
   "outputs": [],
   "source": [
    "Au = Symmetric(triu(As), :U) # optimisé avec matrice symétrique où seul le triangle supérieur est stocké"
   ]
  },
  {
   "cell_type": "code",
   "execution_count": null,
   "id": "66142000",
   "metadata": {},
   "outputs": [],
   "source": [
    "F = ldl(Au)\n",
    "println(norm(Au * (F \\ b) - b))"
   ]
  },
  {
   "cell_type": "code",
   "execution_count": null,
   "id": "dfd0f4d0",
   "metadata": {},
   "outputs": [],
   "source": [
    "# fonction ldiv! : résout Au x = b et stocke le résultat dans un x préalloué\n",
    "x = zeros(10)\n",
    "ldiv!(x, F, b)\n",
    "println(norm(Au * x - b))"
   ]
  },
  {
   "cell_type": "markdown",
   "id": "250eb6a8",
   "metadata": {},
   "source": [
    "### III) Collection de systèmes linéaires"
   ]
  },
  {
   "cell_type": "markdown",
   "id": "048df29a",
   "metadata": {},
   "source": [
    "La [Suite Sparse Matrix Collection](https://sparse.tamu.edu/) (anciennement UFL collection) regroupe environ 3000 problèmes venant de multiples domaines et de tailles diverses. La collection est couramment utilisée comme référence dans les articles scientifiques. Elle permet de facilement tester de nouvelles implémentations de méthodes directes ou itératives.\n",
    "<br/><br/>\n",
    "Chaque problème est stocké dans le format *MatrixMarket* (.mtx), *MAT* (.mat) et *Rutherford-Boeing* (.rb). Une interface directe à la SSMC existe en Julia."
   ]
  },
  {
   "cell_type": "code",
   "execution_count": null,
   "id": "b54d2868",
   "metadata": {},
   "outputs": [],
   "source": [
    "# ]add SuiteSparseMatrixCollection, HarwellRutherfordBoeing, MatrixMarket, MAT"
   ]
  },
  {
   "cell_type": "code",
   "execution_count": null,
   "id": "7dc6e17f",
   "metadata": {},
   "outputs": [],
   "source": [
    "using SuiteSparseMatrixCollection\n",
    "using HarwellRutherfordBoeing\n",
    "using MatrixMarket\n",
    "using MAT"
   ]
  },
  {
   "cell_type": "code",
   "execution_count": null,
   "id": "7f786167",
   "metadata": {},
   "outputs": [],
   "source": [
    "# Matrices réelles symétriques et définies positives de taille 100 au maximum\n",
    "ssmc = ssmc_db()\n",
    "tiny = ssmc[(ssmc.numerical_symmetry .== 1) .& (ssmc.positive_definite.== true) .& \n",
    "            (ssmc.real .== true) .& (ssmc.nrows .≤ 100), :]\n",
    "\n",
    "# Téléchargement des matrices au format MatrixMarket \n",
    "paths = fetch_ssmc(tiny, format=\"MM\") # \"mat\" et \"RB\" pour les autres formats\n",
    "downloaded_matrices = installed_ssmc()\n",
    "\n",
    "# Informations sur les matrices\n",
    "tiny[!, [:name, :nrows, :ncols, :positive_definite, :lower_bandwidth]]"
   ]
  },
  {
   "cell_type": "code",
   "execution_count": null,
   "id": "353a551f",
   "metadata": {},
   "outputs": [],
   "source": [
    "paths[1]"
   ]
  },
  {
   "cell_type": "code",
   "execution_count": null,
   "id": "e64a9ae5",
   "metadata": {},
   "outputs": [],
   "source": [
    "# Informations sur la matrice dwt_592\n",
    "pb = ssmc_matrices(tiny, \"\", \"LFAT5\")\n",
    "\n",
    "# Téléchargement de la matrice dwt_592\n",
    "path2 = fetch_ssmc(pb, format=\"MM\")\n",
    "\n",
    "# Emplacement de la matrice dwt_592\n",
    "path_mtx = path2[1]\n",
    "\n",
    "# Lecture de la matrice\n",
    "dwt_592 = MatrixMarket.mmread(joinpath(path_mtx, \"LFAT5.mtx\"))"
   ]
  },
  {
   "cell_type": "markdown",
   "id": "b50fd9c8",
   "metadata": {},
   "source": [
    "### IV) Heuristiques de renumérotation de degrés de liberté pour limiter le remplissage"
   ]
  },
  {
   "cell_type": "markdown",
   "id": "9839825b",
   "metadata": {},
   "source": [
    "Les méthodes directes ont deux principaux défauts. La complexité temporelle est le premier défaut avec $\\mathcal{O}(n^3)$ opérations pour des matrices carrées denses où $n$ est la dimension de la matrice. Le second défaut est le coût mémoire nécessaire au stockage des facteurs de la décomposition. Ces derniers peuvent être denses même si la matrice est creuse. Afin de limiter ce phénomène de \"fill-in\" on utilise des heuristiques de renumérotation de degrés de liberté qui ont pour but de réduire la largeur de bande de la matrice (Cuthill–McKee ou Reverse Cuthill–McKee) ou le nombre de coefficients non nuls lors d'une factorisation (AMD, COLAMD, METIS, etc...)."
   ]
  },
  {
   "cell_type": "code",
   "execution_count": null,
   "id": "a4e5067c",
   "metadata": {},
   "outputs": [],
   "source": [
    "# ]add AMD, Metis, SymRCM, UnicodePlots"
   ]
  },
  {
   "cell_type": "code",
   "execution_count": null,
   "id": "3270bd96",
   "metadata": {},
   "outputs": [],
   "source": [
    "using AMD\n",
    "using Metis\n",
    "using SymRCM\n",
    "using UnicodePlots"
   ]
  },
  {
   "cell_type": "code",
   "execution_count": null,
   "id": "4560d8ab",
   "metadata": {},
   "outputs": [],
   "source": [
    "M = dwt_592 * dwt_592'\n",
    "F = lu(Matrix(M), Val(false))\n",
    "spy(M)"
   ]
  },
  {
   "cell_type": "code",
   "execution_count": null,
   "id": "20370759",
   "metadata": {},
   "outputs": [],
   "source": [
    "spy(sparse(F.L))"
   ]
  },
  {
   "cell_type": "code",
   "execution_count": null,
   "id": "5849e7df",
   "metadata": {},
   "outputs": [],
   "source": [
    "p1 = amd(M)\n",
    "F1 = lu(Matrix(M[p1, p1]), Val(false))\n",
    "spy(M[p1, p1])"
   ]
  },
  {
   "cell_type": "code",
   "execution_count": null,
   "id": "a8edce85",
   "metadata": {},
   "outputs": [],
   "source": [
    "spy(sparse(F1.L))"
   ]
  },
  {
   "cell_type": "code",
   "execution_count": null,
   "id": "b4ecfb6b",
   "metadata": {},
   "outputs": [],
   "source": [
    "p2 = symrcm(M)\n",
    "F2 = lu(Matrix(M[p2, p2]), Val(false))\n",
    "spy(M[p2, p2])"
   ]
  },
  {
   "cell_type": "code",
   "execution_count": null,
   "id": "c782e170",
   "metadata": {},
   "outputs": [],
   "source": [
    "spy(sparse(F2.L))"
   ]
  },
  {
   "cell_type": "code",
   "execution_count": null,
   "id": "25153281",
   "metadata": {},
   "outputs": [],
   "source": [
    "p3, _ = Metis.permutation(M)\n",
    "F3 = lu(Matrix(M[p3, p3]), Val(false))\n",
    "spy(M[p3, p3])"
   ]
  },
  {
   "cell_type": "code",
   "execution_count": null,
   "id": "619b8a9a",
   "metadata": {},
   "outputs": [],
   "source": [
    "spy(sparse(F3.L))"
   ]
  },
  {
   "cell_type": "markdown",
   "id": "872cd7ea",
   "metadata": {},
   "source": [
    "### V) Analyse symbolique pour les factorisations de matrices creuses"
   ]
  },
  {
   "cell_type": "markdown",
   "id": "6d24a13a",
   "metadata": {},
   "source": [
    "On peut souvent décomposer les factorisations creuses en deux étapes:\n",
    "\n",
    "- Une étape qui va déterminer la position des éléments non nuls sur les facteurs (analyse symbolique)\n",
    "- Une étape qui va déterminer la valeur des éléments non nuls sur les facteurs\n",
    "\n",
    "Avantage: Si deux matrices ont des éléments non nuls au même endroit (mais pas forcément avec des valeurs indentiques), on peut effectuer une seule fois l'analyse symbolique pour ces deux matrices.\n",
    "\n",
    "**Exemple avec LDLFactorizations**"
   ]
  },
  {
   "cell_type": "code",
   "execution_count": null,
   "id": "e8ccb703",
   "metadata": {},
   "outputs": [],
   "source": [
    "A = sprand(10, 10, 0.2)\n",
    "As = A' * A + I\n",
    "Asu = Symmetric(triu(As), :U) # même matrice que As mais avec le triangle supérieur seul et dans le \"wrapper\" Symmetric\n",
    "Asu.data # matrice triangulaire supérieur à l'intérieur du \"wrapper\""
   ]
  },
  {
   "cell_type": "code",
   "execution_count": null,
   "id": "b4a884c9",
   "metadata": {},
   "outputs": [],
   "source": [
    "F = ldl_analyze(Asu)\n",
    "F.L # F contient des entrées non nuls initialisées à une valeur arbitraire"
   ]
  },
  {
   "cell_type": "code",
   "execution_count": null,
   "id": "5b4b0344",
   "metadata": {},
   "outputs": [],
   "source": [
    "ldl_factorize!(Asu, F)\n",
    "display(F.L)\n",
    "display(F.D)"
   ]
  },
  {
   "cell_type": "code",
   "execution_count": null,
   "id": "7ba5c946",
   "metadata": {},
   "outputs": [],
   "source": [
    "# motifications de la matrice Asu sans changer la position des éléments non nuls\n",
    "Asu2 = copy(Asu)\n",
    "Asu2.data.nzval[1] = 10.0\n",
    "Asu2.data"
   ]
  },
  {
   "cell_type": "code",
   "execution_count": null,
   "id": "903d4713",
   "metadata": {},
   "outputs": [],
   "source": [
    "ldl_factorize!(Asu2, F) # ici on n'a pas fait l'analyse symbolique\n",
    "display(F.L)\n",
    "display(F.D)"
   ]
  },
  {
   "cell_type": "markdown",
   "id": "2f380247",
   "metadata": {},
   "source": [
    "### V) Applications"
   ]
  },
  {
   "cell_type": "markdown",
   "id": "efc5ecf5",
   "metadata": {},
   "source": [
    "### 1)\n",
    "\n",
    "**Exercice** : Donner les conditions d'optimalités (KKT) du problème\n",
    "<br/><br/>\n",
    "\\begin{array}{rl}\n",
    "    (P) \\ \\ \\ \n",
    "    \\displaystyle \\min_{x}\n",
    "    & \\tfrac{1}{2} x^{T} Q x + c^{T} x + d\\\\\n",
    "    s.t.\n",
    "    & A x = b\n",
    "\\end{array}\n",
    "<br/>\n",
    "sous la forme d'un système linéaire et en déduire la factorisation la plus adaptée si $Q$ est symétrique.\n",
    "\n",
    "Créer une structure en julia pour stocker le problème, et une fonction qui permet de le résoudre. Vérifier l'implémentation sur un exemple"
   ]
  },
  {
   "cell_type": "code",
   "execution_count": null,
   "id": "7eac1a2c",
   "metadata": {},
   "outputs": [],
   "source": [
    "struct MyQuadraticModel{T} # utiliser mutable struct au lieu de struct si vous avez besoin de modifier des attributs\n",
    "    Q::Symmetric{T, Matrix{T}}\n",
    "    # compléter\n",
    "    # ...\n",
    "end\n",
    "\n",
    "function solve_model(qm::MyQuadraticModel{T}) where {T}\n",
    "    # former la matrice du système à résoudre\n",
    "end"
   ]
  },
  {
   "cell_type": "code",
   "execution_count": null,
   "id": "64c826ec",
   "metadata": {},
   "outputs": [],
   "source": [
    "# vérification"
   ]
  },
  {
   "cell_type": "markdown",
   "id": "14504c65",
   "metadata": {},
   "source": [
    "### 2)\n",
    "\n",
    "L'équation de Poisson $\\Delta u = f$ permet de modéliser différents phénomènes physiques comme le champ gravitationnel ou électrostatique causé par une densite de masse ou une distribution de charge. L'équation de Poisson en 2D et en coordonnées polaires est :\n",
    "$$\\frac{1}{r} \\frac{\\partial}{\\partial r} \\left( r \\frac{\\partial u(r, \\theta)}{\\partial r} \\right) + \\frac{1}{r^2} \\frac{\\partial^2 u(r, \\theta)}{\\partial \\theta^2} = f(r, \\theta),$$\n",
    "<br/>\n",
    "$$(r,\\theta) \\in (0, R) \\times [0, 2\\pi),$$\n",
    "<br/>\n",
    "$$u(R,\\theta) = g(R, \\theta), \\quad \\theta \\in [0, 2\\pi)$$\n",
    "<br/>\n",
    "avec $R > 0$ le rayon du domaine, $f$ le terme de source et $g$ les conditions aux bornes."
   ]
  },
  {
   "cell_type": "code",
   "execution_count": null,
   "id": "83522d26",
   "metadata": {},
   "outputs": [],
   "source": [
    "# ]add Krylov, Plots, PlotlyJS, Test"
   ]
  },
  {
   "cell_type": "code",
   "execution_count": null,
   "id": "9918324d",
   "metadata": {},
   "outputs": [],
   "source": [
    "using Krylov, Printf, Plots, Test\n",
    "plotlyjs()\n",
    "\n",
    "krylov_path = joinpath(dirname(pathof(Krylov)), \"..\", \"test\")\n",
    "include(joinpath(krylov_path, \"test_utils.jl\"))\n",
    "\n",
    "function arrangement(x, n, m)\n",
    "    u = zeros(n, m)\n",
    "    for i = 1 : n\n",
    "        for j = 1 : m\n",
    "            u[i, j] = x[i + (j-1)*n]\n",
    "        end\n",
    "    end\n",
    "  return u\n",
    "end\n",
    "\n",
    "function meshgrid(r, θ)\n",
    "    lr = length(r)\n",
    "    lθ = length(θ)\n",
    "    rr = r' .* ones(lθ)\n",
    "    θθ = ones(lr)' .* θ \n",
    "    xx = rr .* cos.(θθ)\n",
    "    yy = rr .* sin.(θθ)\n",
    "    return xx, yy\n",
    "end"
   ]
  },
  {
   "cell_type": "code",
   "execution_count": null,
   "id": "01d9bb94",
   "metadata": {},
   "outputs": [],
   "source": [
    "m = 50   # Nombre de subdivision de [0, 2π[\n",
    "n = 50   # Nombre de subdivision de [O, R[\n",
    "R = 1.0  # Rayon du domaine\n",
    "\n",
    "f(r, θ) = -3.0 * cos(θ)  # terme de source\n",
    "g(r, θ) = 0.0            # conditions aux bornes du domaine\n",
    "\n",
    "# Discrétisation de l'équation différentielle avec des différences finies\n",
    "A, b = polar_poisson(n, m, f, g, R=R); # système linéaire de taille nm × nm\n",
    "\n",
    "Δr = 2 * R / (2*n + 1)\n",
    "Δθ = 2 * π / m\n",
    "\n",
    "r = zeros(n+1)\n",
    "for i = 1 : n+1\n",
    "    r[i] = (i - 1/2) * Δr\n",
    "end\n",
    "\n",
    "θ = zeros(m+1)\n",
    "for j = 1 : m+1\n",
    "  θ[j] = (j - 1) * Δθ\n",
    "end\n",
    "\n",
    "# Discrétisation du domaine\n",
    "xx, yy = meshgrid(r, θ)\n",
    "\n",
    "# Solution après discrétisation de l'EDP\n",
    "F = lu(A)\n",
    "x = F \\ b\n",
    "u = arrangement(x, n, m)\n",
    "u = u'\n",
    "u = [u; u[1,:]']   # u(r, 0) = u(r, 2π)\n",
    "u =[u zeros(m+1)]  # u(R, θ) = g(r, θ) = 0\n",
    "\n",
    "# Solution exacte u(r, θ) = r * (1-r) * cos(θ) \n",
    "u_star = [r[i] * (1.0 - r[i]) * cos(θ[j]) for i=1:m+1, j=1:n+1]'\n",
    "\n",
    "# Affichage de la solution\n",
    "surface(xx, yy, u)"
   ]
  },
  {
   "cell_type": "markdown",
   "id": "d04b0107",
   "metadata": {},
   "source": [
    "**Exercice** : Discrétiser l'équation de Poisson en coordonnées cartésiennes\n",
    "<br/><br/>\n",
    "$$\\frac{\\partial^2 u(x, y)}{\\partial x^2} + \\frac{\\partial^2 u(x, y)}{\\partial y^2} = f(x, y)$$\n",
    "<br/>\n",
    "à  l'aide de la méthode des différences finies sur le domaine $\\Omega$ = [0, 1] x [0, 1] avec $f(x,y) = -1$ pour $(x, y) \\in \\bar{\\Omega}$ et $u(x, y) = 0$ pour $(x, y) \\in \\partial \\Omega$.\n",
    "\n",
    "Résoudre le système linéaire et tracer la solution.\n",
    "<br/>"
   ]
  },
  {
   "cell_type": "markdown",
   "id": "e818dd93",
   "metadata": {},
   "source": [
    "**Indices** :\n",
    "<br/><br/>\n",
    "$$\\frac{\\partial^2 u(x_i, y_j)}{\\partial x^2} \\approx \\frac{u(x_{i-1},y_j) - 2 u(x_i, y_j) + u(x_{i+1}, y_j)}{(\\Delta x)^2}$$\n",
    "<br/>\n",
    "$$\\frac{\\partial^2 u(x_i, y_j)}{\\partial y^2} \\approx \\frac{u(x_i,y_{j-1}) - 2 u(x_i, y_j) + u(x_i, y_{j+1})}{(\\Delta y)^2}$$"
   ]
  },
  {
   "cell_type": "code",
   "execution_count": null,
   "id": "a28fefef",
   "metadata": {},
   "outputs": [],
   "source": [
    "function cartesian_poisson(n, m, f, g; dim_x=[0.0, 1.0], dim_y=[0.0, 1.0])\n",
    "  # Ω = ]xₗ,xᵣ[ × ]yₗ,yᵣ[\n",
    "  # Ω ∪ ∂Ω = [xₗ,xᵣ] × [yₗ,yᵣ]\n",
    "  xₗ = dim_x[1]\n",
    "  xᵣ = dim_x[2]\n",
    "\n",
    "  yₗ = dim_y[1]\n",
    "  yᵣ = dim_y[2]\n",
    "\n",
    "  # Uniform grid of Ω with n × m points\n",
    "  Δx = (xᵣ - xₗ) / (n + 1)\n",
    "  x = [xₗ + i * Δx for i = 1 : n]\n",
    "\n",
    "  Δy = (yᵣ - yₗ) / (m + 1)\n",
    "  y = [yₗ + j * Δy for j = 1 : m]\n",
    "\n",
    "  A = spzeros(n * m, n * m)\n",
    "  for i = 1 : n\n",
    "    for j = 1 : m\n",
    "      A[i + (j-1)*n, i + (j-1)*n] = - 2.0 / (Δx * Δx) - 2.0 / (Δy * Δy) \n",
    "      ### .... compléter avec le reste des valeurs de la ligne i + (j-1) * n\n",
    "    end\n",
    "  end\n",
    "\n",
    "  b = zeros(n * m)\n",
    "  for i = 1 : n\n",
    "    for j = 1 : m\n",
    "      b[i + (j-1)*n] = f(x[i], y[j])\n",
    "    end\n",
    "  end\n",
    "\n",
    "  return A, b\n",
    "end"
   ]
  },
  {
   "cell_type": "code",
   "execution_count": null,
   "id": "b51c4b8b",
   "metadata": {},
   "outputs": [],
   "source": [
    "function meshgrid2(x, y)\n",
    "    lx = length(x)\n",
    "    ly = length(y)\n",
    "    xx = x' .* ones(ly)\n",
    "    yy = ones(lx)' .* y \n",
    "    return xx, yy\n",
    "end"
   ]
  },
  {
   "cell_type": "code",
   "execution_count": null,
   "id": "7c41edd0",
   "metadata": {},
   "outputs": [],
   "source": [
    "n = 10\n",
    "m = 10\n",
    "g(x, y) = 0.0\n",
    "f(x, y) = -1.0\n",
    "\n",
    "A, b = cartesian_poisson(n, m, f, g, dim_x=[0.0, 1.0], dim_y=[0.0, 1.0])\n",
    "x = ldl(A) \\ b\n",
    "u = arrangement(x, m, n)\n",
    "\n",
    "# Uniform grid of Ω with n × m points\n",
    "Δx = 1 / (n + 1)\n",
    "x = [i * Δx for i = 1 : n]\n",
    "\n",
    "Δy = 1 / (m + 1)\n",
    "y = [j * Δy for j = 1 : m]\n",
    "\n",
    "xx, yy = meshgrid2(x, y)\n",
    "surface(xx, yy, u)"
   ]
  },
  {
   "cell_type": "code",
   "execution_count": null,
   "id": "3db0dbdc",
   "metadata": {},
   "outputs": [],
   "source": []
  }
 ],
 "metadata": {
  "kernelspec": {
   "display_name": "Julia 1.8.2",
   "language": "julia",
   "name": "julia-1.8"
  },
  "language_info": {
   "file_extension": ".jl",
   "mimetype": "application/julia",
   "name": "julia",
   "version": "1.8.2"
  }
 },
 "nbformat": 4,
 "nbformat_minor": 5
}
