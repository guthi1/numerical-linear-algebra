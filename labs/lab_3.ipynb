{
 "cells": [
  {
   "cell_type": "markdown",
   "id": "328956f8",
   "metadata": {},
   "source": [
    " # MTH8211 : Algèbre linéaire numérique appliquée\n",
    " ## Laboratoire 3 : Application de la SVD, discussions sur la performance, systèmes de point de selle\n",
    " \n",
    "Geoffroy Leconte\n",
    "\n",
    "Source images, signaux bruités: http://www.imm.dtu.dk/~pcha/HNO/ (Matrices, Spectra, and Filtering\n",
    "Per Christian Hansen, James G. Nagy, and Dianne P. O'Leary)"
   ]
  },
  {
   "cell_type": "markdown",
   "id": "8b9c49e5",
   "metadata": {},
   "source": [
    "## I) Application de la SVD: débruitage d'images"
   ]
  },
  {
   "cell_type": "code",
   "execution_count": null,
   "id": "22fcc582",
   "metadata": {},
   "outputs": [],
   "source": [
    "# ]add Images, ToeplitzMatrices"
   ]
  },
  {
   "cell_type": "code",
   "execution_count": null,
   "id": "dd42c965",
   "metadata": {},
   "outputs": [],
   "source": [
    "using Images, LinearAlgebra, ToeplitzMatrices"
   ]
  },
  {
   "cell_type": "markdown",
   "id": "7e015e20",
   "metadata": {},
   "source": [
    "$X \\in \\mathbb{R}^{m \\times n}$ représente l'image désirée.\n",
    "\n",
    "$B \\in \\mathbb{R}^{m \\times n}$ représente l'image bruitée.\n",
    "\n",
    "Si le bruitage des lignes est indépendant de celui des colonnes, il existe $A_c \\in \\mathbb{R}^{m \\times m}$ et $A_r \\in \\mathbb{R}^{n \\times n}$.\n",
    "\n",
    "$$A_c X A_r^T = B$$.\n",
    "\n",
    "L'implémentation naive consiste à calculer:\n",
    "\n",
    "$$X_{\\textrm{naive}} = A_c^{-1} B A_r^{-T}$$"
   ]
  },
  {
   "cell_type": "code",
   "execution_count": null,
   "id": "e09a3ead",
   "metadata": {},
   "outputs": [],
   "source": [
    "function challenge1(m,n,noise)\n",
    "    X = zeros(m,n)\n",
    "    I = Int(round(m/5)):Int(round(3*m/5))\n",
    "    J = Int(round(n/5)):Int(round(3*n/5))\n",
    "    X[I,J] .= 0.5\n",
    "    for i=1:m\n",
    "     for j=1:n\n",
    "       if (i - round(3 * m / 5))^2 + (j - round(5 * n / 8))^2 < round(max(m, n) / 5)^2\n",
    "          X[i,j] = 1\n",
    "       end\n",
    "     end\n",
    "    end\n",
    "    c = zeros(m)\n",
    "    c[1:5] .= 5:-1:1 ./ 15\n",
    "    Ac = SymmetricToeplitz(c)\n",
    "    c = zeros(n)\n",
    "    c[1:5] .= 5:-1:1 ./ 15\n",
    "    r = zeros(n)\n",
    "    r[1:10] .= 5:-0.5:0.5 ./ 15\n",
    "    Ar = Toeplitz(c, r)\n",
    "    B = Ac * X * Ar' + noise * randn(m,n)\n",
    "    return B, Ac, Ar, X\n",
    "end\n",
    "m = n = 256\n",
    "noise = 0.01\n",
    "B, Ac, Ar, X = challenge1(m, n, noise);"
   ]
  },
  {
   "cell_type": "markdown",
   "id": "759a7719",
   "metadata": {},
   "source": [
    "1) Calculer $X_{\\textrm{naive}}$."
   ]
  },
  {
   "cell_type": "code",
   "execution_count": null,
   "id": "12000928",
   "metadata": {},
   "outputs": [],
   "source": [
    "Xnaive = (Ar \\ (Ac \\ B)')'\n",
    "Gray.(Xnaive)\n",
    "# Ac \\ B / Ar'"
   ]
  },
  {
   "cell_type": "markdown",
   "id": "f077bc3d",
   "metadata": {},
   "source": [
    "2) Soit $E$ le bruit. $X_{\\textrm{naive}} = X + A_c^{-1} E A_r^{-T}$. Calculez le bruit inversé $  A_c^{-1} E A_r^{-T}$ et comparez avec la valeur de $B$."
   ]
  },
  {
   "cell_type": "code",
   "execution_count": null,
   "id": "ef2eb99d",
   "metadata": {},
   "outputs": [],
   "source": [
    "E = B - X\n",
    "NoiseInv = (Ar \\ (Ac \\ E)')'\n",
    "norm(NoiseInv) / norm(B)"
   ]
  },
  {
   "cell_type": "markdown",
   "id": "8f91ebf8",
   "metadata": {},
   "source": [
    "3) Effectuez une décomposition en valeurs singulières de $A_c$ et $A_r$. Utilisez la décomposition en valeur singulières pour réduire la contribution du bruit. Calculez l'image débruitée et comparez avez la solution exacte."
   ]
  },
  {
   "cell_type": "code",
   "execution_count": null,
   "id": "aad2af40",
   "metadata": {},
   "outputs": [],
   "source": [
    "Fc = svd(Matrix(Ac))\n",
    "Fr = svd(Matrix(Ar))\n",
    "n_svd = sum(abs.(Fc.S) .≥ 0.1)\n",
    "X_debruit = Fc.V[1:end, 1:n_svd] * Diagonal(1 ./ Fc.S[1:n_svd]) * Fc.U[1:end, 1:n_svd]' * \n",
    "    B *\n",
    "    Fr.U[1:end, 1:n_svd] * Diagonal(1 ./ Fr.S[1:n_svd]) * Fr.V[1:end, 1:n_svd]'\n",
    "Gray.(X_debruit)"
   ]
  },
  {
   "cell_type": "code",
   "execution_count": null,
   "id": "46e4c28e",
   "metadata": {},
   "outputs": [],
   "source": [
    "Gray.(X)"
   ]
  },
  {
   "cell_type": "markdown",
   "id": "63c4404e",
   "metadata": {},
   "source": [
    "## II) Retour plus en détail sur la performance et les fonctions de BLAS et LAPACK \n",
    "\n",
    "BLAS (Basic Linear Algebra Subprograms) est une suite de routines pour effectuer des opérations vectorielles/matricielles. Elles sont optimisées spécifiquement pour divers types de plateformes, ce qui les rend particulièrement performantes."
   ]
  },
  {
   "cell_type": "code",
   "execution_count": null,
   "id": "d9eee10b",
   "metadata": {},
   "outputs": [],
   "source": [
    "# ]add BenchmarkTools"
   ]
  },
  {
   "cell_type": "code",
   "execution_count": null,
   "id": "e44e6441",
   "metadata": {},
   "outputs": [],
   "source": [
    "using BenchmarkTools"
   ]
  },
  {
   "cell_type": "code",
   "execution_count": null,
   "id": "dd57bf5f",
   "metadata": {},
   "outputs": [],
   "source": [
    "T = Float64\n",
    "n = 10000\n",
    "a = rand(T, n)\n",
    "b = rand(T, n)\n",
    "c = rand(T, n);"
   ]
  },
  {
   "cell_type": "code",
   "execution_count": null,
   "id": "31ff54f1",
   "metadata": {},
   "outputs": [],
   "source": [
    "@benchmark dot($a, $b) # interpoler a et b avec $ pour éviter le problème du benchmark avec des variables globales"
   ]
  },
  {
   "cell_type": "code",
   "execution_count": null,
   "id": "53a301c0",
   "metadata": {},
   "outputs": [],
   "source": [
    "function my_custom_dot(a::Vector{T}, b::Vector{T}) where {T}\n",
    "    res = zero(T)\n",
    "    n = length(a)\n",
    "    @assert n == length(b)\n",
    "    for i=1:n\n",
    "        res += a[i] * b[i]\n",
    "    end\n",
    "    return res \n",
    "end"
   ]
  },
  {
   "cell_type": "code",
   "execution_count": null,
   "id": "c37bd4cb",
   "metadata": {},
   "outputs": [],
   "source": [
    "@benchmark my_custom_dot($a, $b)"
   ]
  },
  {
   "cell_type": "code",
   "execution_count": null,
   "id": "3230aa7e",
   "metadata": {},
   "outputs": [],
   "source": [
    "@code_lowered dot(a, b) # appel à BLAS.dot"
   ]
  },
  {
   "cell_type": "markdown",
   "id": "18c2f8f0",
   "metadata": {},
   "source": [
    "Les fonctions de BLAS ne gèrent pas tous les types:"
   ]
  },
  {
   "cell_type": "code",
   "execution_count": null,
   "id": "1e48e6c5",
   "metadata": {},
   "outputs": [],
   "source": [
    "# ]add DoubleFloats"
   ]
  },
  {
   "cell_type": "code",
   "execution_count": null,
   "id": "ac3b396b",
   "metadata": {},
   "outputs": [],
   "source": [
    "using DoubleFloats"
   ]
  },
  {
   "cell_type": "code",
   "execution_count": null,
   "id": "fa438e9f",
   "metadata": {},
   "outputs": [],
   "source": [
    "T = Double64 # plus précis que Float64\n",
    "n = 10000\n",
    "a = rand(T, n)\n",
    "b = rand(T, n)\n",
    "c = rand(T, n);"
   ]
  },
  {
   "cell_type": "code",
   "execution_count": null,
   "id": "ad9959bf",
   "metadata": {},
   "outputs": [],
   "source": [
    "@code_lowered dot(a, b) # retourne à l'implémentation en pur julia car non implémenté avec BLAS"
   ]
  },
  {
   "cell_type": "code",
   "execution_count": null,
   "id": "cf8761bb",
   "metadata": {},
   "outputs": [],
   "source": [
    "@benchmark BLAS.dot($a, $b)"
   ]
  },
  {
   "cell_type": "code",
   "execution_count": null,
   "id": "465eb996",
   "metadata": {},
   "outputs": [],
   "source": [
    "@benchmark dot($a, $b)"
   ]
  },
  {
   "cell_type": "code",
   "execution_count": null,
   "id": "ad57e858",
   "metadata": {},
   "outputs": [],
   "source": [
    "@benchmark my_custom_dot($a, $b)"
   ]
  },
  {
   "cell_type": "markdown",
   "id": "878c2236",
   "metadata": {},
   "source": [
    "Julia utilise d'autres opérations de BLAS qui sont utilisées à travers d'autres fonctions courantes.\n",
    "\n",
    "Les opérations d'algèbre linéaire dense sont effectuées avec la bibliothèque LAPACK, qui elle-même utilise BLAS.\n",
    "Cette bibliothèque ne fonctionne qu'avec les types `Float32, Float64, ComplexF32, ComplexF64`.\n",
    "\n",
    "Les fonction de LAPACK disponibles dans la [documentation de Julia](https://docs.julialang.org/en/v1/stdlib/LinearAlgebra/#LAPACK-functions) ne sont pas vouées à être utilisées directement. Elle seront appelées par d'autres fonctions de plus haut niveau, afin de pouvoir utiliser le \"dispatch multiple\" suivant le type d'entrées fournies.\n",
    "\n",
    "Exemple avec la factorisation LU:"
   ]
  },
  {
   "cell_type": "code",
   "execution_count": null,
   "id": "850852c5",
   "metadata": {},
   "outputs": [],
   "source": [
    "T = Float64\n",
    "n = 1000\n",
    "A = rand(T, n, n)\n",
    "@code_typed lu(A) # on voit l'appel à LinearAlgebra.LAPACK.getrf!"
   ]
  },
  {
   "cell_type": "code",
   "execution_count": null,
   "id": "51da5752",
   "metadata": {},
   "outputs": [],
   "source": [
    "T = Double64\n",
    "n = 1000\n",
    "A = rand(T, n, n)\n",
    "@code_typed lu(A) # ici, appel à generic_lufact! pour les types non supportés par LAPACK."
   ]
  },
  {
   "cell_type": "markdown",
   "id": "95314931",
   "metadata": {},
   "source": [
    "**Exercice:**\n",
    "Résolvez un système `Ax=b` dense aléatoire de taille 1000 où `A` est définie positive avec une factorisation de Cholesky en utilisant `cholesky` pour la factorisation et `ldiv!` pour la résolution du système.\n",
    "Comparez les vitesses d'exécution de chaque fonction en `Float64` et `Float32` avec `@benchmark`, et mesurez les résidus obtenus. \n"
   ]
  },
  {
   "cell_type": "code",
   "execution_count": null,
   "id": "00ba5c86",
   "metadata": {},
   "outputs": [],
   "source": [
    "T = Float64\n",
    "n = 1000\n",
    "A = rand(T, n, n)\n",
    "A = A' * A + I\n",
    "b = rand(T, n)\n",
    "x = similar(b);"
   ]
  },
  {
   "cell_type": "code",
   "execution_count": null,
   "id": "409c5467",
   "metadata": {},
   "outputs": [],
   "source": [
    "@benchmark cholesky($A)"
   ]
  },
  {
   "cell_type": "code",
   "execution_count": null,
   "id": "bbc71cfd",
   "metadata": {},
   "outputs": [],
   "source": [
    "F = cholesky(A)\n",
    "@benchmark ldiv!($x, $F, $b)"
   ]
  },
  {
   "cell_type": "code",
   "execution_count": null,
   "id": "c300a4a5",
   "metadata": {},
   "outputs": [],
   "source": [
    "ldiv!(x, F, b)\n",
    "norm(A * x - b)"
   ]
  },
  {
   "cell_type": "code",
   "execution_count": null,
   "id": "df10b00c",
   "metadata": {},
   "outputs": [],
   "source": [
    "T = Float32\n",
    "n = 1000\n",
    "A = rand(T, n, n)\n",
    "A = A' * A + I\n",
    "b = rand(T, n)\n",
    "x = similar(b);"
   ]
  },
  {
   "cell_type": "code",
   "execution_count": null,
   "id": "04cc17a3",
   "metadata": {},
   "outputs": [],
   "source": [
    "@benchmark cholesky($A)"
   ]
  },
  {
   "cell_type": "code",
   "execution_count": null,
   "id": "b331fc4d",
   "metadata": {},
   "outputs": [],
   "source": [
    "F = cholesky(A)\n",
    "@benchmark ldiv!($x, $F, $b)"
   ]
  },
  {
   "cell_type": "code",
   "execution_count": null,
   "id": "ec9dcf22",
   "metadata": {},
   "outputs": [],
   "source": [
    "ldiv!(x, F, b)\n",
    "Float64(norm(A * x - b))"
   ]
  },
  {
   "cell_type": "markdown",
   "id": "26def3bd",
   "metadata": {},
   "source": [
    "## III) Résolution de systèmes de point de selle par méthodes directes\n",
    "\n",
    "Dans cette partie, on va voir comment résoudre différents problèmes menant à la résolution d'un système de point de selle en utilisant des factorisations."
   ]
  },
  {
   "cell_type": "markdown",
   "id": "bf5035db",
   "metadata": {},
   "source": [
    "Rappel: un système de point de selle s'écrit sous la forme\n",
    "\n",
    "$$\\begin{bmatrix} M & A^T \\\\ A & 0 \\end{bmatrix}\\begin{bmatrix} x \\\\ y \\end{bmatrix} = \\begin{bmatrix} b \\\\ c \\end{bmatrix},$$\n",
    "où $M \\succ 0$."
   ]
  },
  {
   "cell_type": "markdown",
   "id": "ec2d9e7e",
   "metadata": {},
   "source": [
    "1) Ecrire les conditions d'optimalité du problème\n",
    "\n",
    "$$\\arg \\min_x \\tfrac{1}{2}\\|Ax-b\\|_2^2, \\quad A \\in \\mathbb{R}^{m \\times n}, m \\ge n$$.\n",
    "\n",
    "Reformuler ces conditions d'optimalité sous la forme d'un système de point de selle.\n",
    "Comparer le temps de résolution du système de point de selle (en utilisant une factorisation appropriée) avec le temps de résolution du problème de moindre carrés en utilisant la factorisation $QR$. "
   ]
  },
  {
   "cell_type": "markdown",
   "id": "d1f20805",
   "metadata": {},
   "source": [
    "**Solution**: les conditions d'optimalité sont:\n",
    "$$A^T A x = A^T b.$$\n",
    "\n",
    "Avec $r = b - Ax$, on a pour conditions d'optimalité:\n",
    "\n",
    "$$\\begin{bmatrix} I & A \\\\ A^T & 0 \\end{bmatrix} \\begin{bmatrix} r \\\\ x \\end{bmatrix} = \\begin{bmatrix} b \\\\ 0 \\end{bmatrix}$$"
   ]
  },
  {
   "cell_type": "code",
   "execution_count": null,
   "id": "dc1e5d96",
   "metadata": {},
   "outputs": [],
   "source": [
    "m, n = 1000, 800\n",
    "A = rand(m, n)\n",
    "b = rand(m);"
   ]
  },
  {
   "cell_type": "code",
   "execution_count": null,
   "id": "80c22d21",
   "metadata": {},
   "outputs": [],
   "source": [
    "function solve_saddle_pt(A, b)\n",
    "    m, n = size(A)\n",
    "    K = [I A;\n",
    "         A' zeros(n, n)]\n",
    "    rhs = [b; zeros(n)]\n",
    "    F = bunchkaufman(K)\n",
    "    sol = F \\ rhs\n",
    "    return sol[1:m], sol[m+1:end]\n",
    "end\n",
    "r1, x1 = solve_saddle_pt(A, b)\n",
    "println(norm(b- A * x1 - r1))"
   ]
  },
  {
   "cell_type": "code",
   "execution_count": null,
   "id": "ce72ffbe",
   "metadata": {},
   "outputs": [],
   "source": [
    "function solve_qr(A, b)\n",
    "    m, n = size(A)\n",
    "    F = qr(A)\n",
    "    x = F \\ b # résout min ||Rx - Qᵀb|| en interne \n",
    "    return b - A *x, x\n",
    "end\n",
    "r2, x2 = solve_qr(A, b)\n",
    "println(norm(b - A * x2 - r2))"
   ]
  },
  {
   "cell_type": "code",
   "execution_count": null,
   "id": "115ca192",
   "metadata": {},
   "outputs": [],
   "source": [
    "println(norm(x2 - x1))\n",
    "println(norm(r2 - r1))"
   ]
  },
  {
   "cell_type": "code",
   "execution_count": null,
   "id": "c363e17d",
   "metadata": {},
   "outputs": [],
   "source": [
    "@benchmark solve_saddle_pt($A, $b)"
   ]
  },
  {
   "cell_type": "code",
   "execution_count": null,
   "id": "37156f83",
   "metadata": {},
   "outputs": [],
   "source": [
    "@benchmark solve_qr($A, $b)"
   ]
  },
  {
   "cell_type": "markdown",
   "id": "c2ef534a",
   "metadata": {},
   "source": [
    "Verdict: QR est plus rapide! Mais pourquoi cet exercice alors?\n",
    "\n",
    "Parce que certains systèmes structurés peuvent se reformuler comme un problème d'optimisation qui est beaucoup plus rapide à résoudre."
   ]
  },
  {
   "cell_type": "markdown",
   "id": "51d30944",
   "metadata": {},
   "source": [
    "### IV) Pour aller plus loin: réduire les allocations pour un code plus performant\n",
    "\n",
    "La plus grande source d'allocations lorsqu'on fait de l'algèbre linéaire numérique est souvent la création de vecteurs ou de matrices.\n",
    "Si on utilise une boucle `for` ou `while` avec des allocations à chaque itérations de la boucle, cela peut ralentir beaucoup le code.\n",
    "\n",
    "On peut mesurer le nombre d'allocations avec la macro `@allocated`.\n",
    "\n",
    "NOTE: au premier appel d'une fonction, elle est compilée et cela entraine un plus grand temps d'éxécution et des allocations. Les appels suivants ne souffrent pas de ce problème.\n",
    "\n",
    "Le \"broadcasting\" est souvent un moyen simple de réduire le nombre d'allocations.\n",
    "Au lieu de par exemple sommer deux vecteurs et de stocker le résultat dans un nouveau vecteur, on utilise `.=` et `.+` (ou alors `@.` avant les opérations souhaitées) pour effectuer les opérations éléments par éléments et les stocker dans un vecteur pré-alloué. \n"
   ]
  },
  {
   "cell_type": "code",
   "execution_count": null,
   "id": "2b3c089d",
   "metadata": {},
   "outputs": [],
   "source": [
    "@allocated ones(100)"
   ]
  },
  {
   "cell_type": "code",
   "execution_count": null,
   "id": "c56d4e7f",
   "metadata": {},
   "outputs": [],
   "source": [
    "n = 1000\n",
    "a, b, c = rand(n), rand(n), rand(n);"
   ]
  },
  {
   "cell_type": "code",
   "execution_count": null,
   "id": "f4da2ebc",
   "metadata": {},
   "outputs": [],
   "source": [
    "@allocated d = a + b"
   ]
  },
  {
   "cell_type": "code",
   "execution_count": null,
   "id": "de30f531",
   "metadata": {},
   "outputs": [],
   "source": [
    "@allocated c .= a .+ b"
   ]
  },
  {
   "cell_type": "code",
   "execution_count": null,
   "id": "98280d96",
   "metadata": {},
   "outputs": [],
   "source": [
    "@allocated @. c = a + b"
   ]
  },
  {
   "cell_type": "code",
   "execution_count": null,
   "id": "320db74c",
   "metadata": {},
   "outputs": [],
   "source": [
    "@benchmark @. $c = $a + $b"
   ]
  },
  {
   "cell_type": "markdown",
   "id": "7309ed23",
   "metadata": {},
   "source": [
    "Le broadcasting dans le cas précédent est une manière plus pratique d'écrire la fonction:"
   ]
  },
  {
   "cell_type": "code",
   "execution_count": null,
   "id": "b78b75e9",
   "metadata": {},
   "outputs": [],
   "source": [
    "function my_custom_sum!(c, a, b)\n",
    "    n = length(c)\n",
    "    @assert n == length(a) == length(b)\n",
    "    for i=1:n\n",
    "        c[i] = a[i] + b[i]\n",
    "    end\n",
    "    return c\n",
    "end"
   ]
  },
  {
   "cell_type": "markdown",
   "id": "c6db8526",
   "metadata": {},
   "source": [
    "Une deuxième source d'allocations qu'il est souvent facile d'éviter et l'usage de matrices/ vecteurs construits à partir d'autres matrices/vecteurs.\n",
    "La fonction `view` et la macro `@views` permettent de contourner ce problème."
   ]
  },
  {
   "cell_type": "code",
   "execution_count": null,
   "id": "acf98b32",
   "metadata": {},
   "outputs": [],
   "source": [
    "@allocated dot(a[1:100], b[1:100])"
   ]
  },
  {
   "cell_type": "code",
   "execution_count": null,
   "id": "ed732aa7",
   "metadata": {},
   "outputs": [],
   "source": [
    "@allocated dot(view(a, 1:100), view(b, 1:100))"
   ]
  },
  {
   "cell_type": "code",
   "execution_count": null,
   "id": "ebcda992",
   "metadata": {},
   "outputs": [],
   "source": [
    "@allocated @views dot(a[1:100], b[1:100])"
   ]
  },
  {
   "cell_type": "markdown",
   "id": "4d85f2bf",
   "metadata": {},
   "source": [
    "NOTE: `view` et `@views` ne créent pas un nouveau vecteur contenant `a[1:100]`. Si vous avez besoin de `a[1:100]` sous forme de vecteur par la suite, alors il ne faut pas les utiliser, et privilégier une copie."
   ]
  },
  {
   "cell_type": "markdown",
   "id": "dea7c503",
   "metadata": {},
   "source": [
    "**Attention**: même si réduire le nombre d'allocations dans les boucles permet souvent de réduire les temps de calculs, dans certains cas il peut être préférable de garder un code qui alloue. La manière la plus sûre de regarder si la dimininution du nombre d'allocations a un effet positif est de mesurer le temps d'exécution de votre code, avec `@benchmark` par exemple."
   ]
  },
  {
   "cell_type": "code",
   "execution_count": null,
   "id": "a0eddfd3",
   "metadata": {},
   "outputs": [],
   "source": []
  }
 ],
 "metadata": {
  "kernelspec": {
   "display_name": "Julia 1.8.2",
   "language": "julia",
   "name": "julia-1.8"
  },
  "language_info": {
   "file_extension": ".jl",
   "mimetype": "application/julia",
   "name": "julia",
   "version": "1.8.2"
  }
 },
 "nbformat": 4,
 "nbformat_minor": 5
}