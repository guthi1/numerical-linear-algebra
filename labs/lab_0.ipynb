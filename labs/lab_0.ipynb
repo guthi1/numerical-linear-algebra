{
 "cells": [
  {
   "cell_type": "markdown",
   "id": "72185069",
   "metadata": {},
   "source": [
    "# MTH8211: Algèbre linéaire numérique appliquée\n",
    "\n",
    "## Laboratoire 0: introduction à Julia\n",
    "Alexis Montoison, Geoffroy Leconte, Dominique Orban"
   ]
  },
  {
   "cell_type": "markdown",
   "id": "057cfb65",
   "metadata": {},
   "source": [
    "### 1) Types de base, affichage"
   ]
  },
  {
   "cell_type": "code",
   "execution_count": null,
   "id": "d9aecd01",
   "metadata": {},
   "outputs": [
    {
     "name": "stdout",
     "output_type": "stream",
     "text": [
      "bonjour\n",
      "bonjour bonjour\n"
     ]
    }
   ],
   "source": [
    "# chaine de caractères\n",
    "str = \"bonjour\"\n",
    "println(str) # affichage d'une chaine de caractères\n",
    "str2 = \" bonjour\"\n",
    "println(str, str2) # affichage de deux chaines de caractères"
   ]
  },
  {
   "cell_type": "code",
   "execution_count": 8,
   "id": "a7d7d481",
   "metadata": {},
   "outputs": [
    {
     "name": "stdout",
     "output_type": "stream",
     "text": [
      "str est un String\n"
     ]
    }
   ],
   "source": [
    "println(\"str est un \", typeof(str))"
   ]
  },
  {
   "cell_type": "code",
   "execution_count": 1,
   "id": "51fa287f",
   "metadata": {},
   "outputs": [
    {
     "name": "stdout",
     "output_type": "stream",
     "text": [
      "x est un Int64\n"
     ]
    }
   ],
   "source": [
    "x = 1 # entier\n",
    "println(\"x est un \", typeof(x))"
   ]
  },
  {
   "cell_type": "code",
   "execution_count": 2,
   "id": "c7fc24a7",
   "metadata": {},
   "outputs": [
    {
     "name": "stdout",
     "output_type": "stream",
     "text": [
      "x est un Float64\n"
     ]
    }
   ],
   "source": [
    "x = 1.0 # réel\n",
    "println(\"x est un \", typeof(x))"
   ]
  },
  {
   "cell_type": "code",
   "execution_count": 10,
   "id": "3fb8a169",
   "metadata": {},
   "outputs": [
    {
     "name": "stdout",
     "output_type": "stream",
     "text": [
      "1.0 + 2.0im\n",
      "x est un ComplexF64\n"
     ]
    }
   ],
   "source": [
    "x = 1.0 + 2.0 * im # complexe\n",
    "println(x)\n",
    "println(\"x est un \", typeof(x))"
   ]
  },
  {
   "cell_type": "code",
   "execution_count": 12,
   "id": "1528f673",
   "metadata": {},
   "outputs": [
    {
     "name": "stdout",
     "output_type": "stream",
     "text": [
      "x est un Bool\n",
      "y est un Bool\n"
     ]
    }
   ],
   "source": [
    "# booléens\n",
    "x = true\n",
    "y = false\n",
    "println(\"x est un \", typeof(x))\n",
    "println(\"y est un \", typeof(y))"
   ]
  },
  {
   "cell_type": "code",
   "execution_count": 28,
   "id": "2328ef8a",
   "metadata": {},
   "outputs": [
    {
     "name": "stdout",
     "output_type": "stream",
     "text": [
      "true\n",
      "true\n",
      "false\n"
     ]
    }
   ],
   "source": [
    "# test de l'égalité de deux booléens\n",
    "x = true\n",
    "y = false\n",
    "println(x == true)\n",
    "println(x != false)\n",
    "println(x == y)"
   ]
  },
  {
   "cell_type": "code",
   "execution_count": 65,
   "id": "9db429d2",
   "metadata": {},
   "outputs": [
    {
     "name": "stdout",
     "output_type": "stream",
     "text": [
      "false\n",
      "true\n",
      "true\n"
     ]
    }
   ],
   "source": [
    "# tests entre deux nombres\n",
    "x = 1\n",
    "y = 2\n",
    "println(x == y)\n",
    "println(x <= y)\n",
    "println(x < y)"
   ]
  },
  {
   "cell_type": "code",
   "execution_count": 94,
   "id": "817f56f6",
   "metadata": {},
   "outputs": [
    {
     "name": "stdout",
     "output_type": "stream",
     "text": [
      "true\n",
      "false\n",
      "true\n",
      "false\n"
     ]
    }
   ],
   "source": [
    "# opérateurs pour les booléens\n",
    "println(true && true) # ET\n",
    "println(true && false)\n",
    "println(true || false) # OU\n",
    "println(false || false)"
   ]
  },
  {
   "cell_type": "code",
   "execution_count": 19,
   "id": "0cabcf64",
   "metadata": {},
   "outputs": [
    {
     "name": "stdout",
     "output_type": "stream",
     "text": [
      "x est un Rational{Int64}\n"
     ]
    }
   ],
   "source": [
    "# rationnels\n",
    "x = 3//2\n",
    "println(\"x est un \", typeof(x))"
   ]
  },
  {
   "cell_type": "code",
   "execution_count": 24,
   "id": "b999a6bc",
   "metadata": {},
   "outputs": [
    {
     "name": "stdout",
     "output_type": "stream",
     "text": [
      "x est un Vector{Int64}\n",
      "x = [1, 2, 3]\n"
     ]
    }
   ],
   "source": [
    "# vecteurs\n",
    "x = [1; 2; 3]\n",
    "println(\"x est un \", typeof(x))\n",
    "println(\"x = \", x)"
   ]
  },
  {
   "cell_type": "code",
   "execution_count": 23,
   "id": "df8946e6",
   "metadata": {},
   "outputs": [
    {
     "name": "stdout",
     "output_type": "stream",
     "text": [
      "x est un Vector{Int64}\n",
      "x = [1, 2, 3]\n"
     ]
    }
   ],
   "source": [
    "x = [1, 2, 3]\n",
    "println(\"x est un \", typeof(x))\n",
    "println(\"x = \", x)"
   ]
  },
  {
   "cell_type": "code",
   "execution_count": 32,
   "id": "023c00d7",
   "metadata": {},
   "outputs": [
    {
     "name": "stdout",
     "output_type": "stream",
     "text": [
      "x est un Vector{Float64}\n",
      "x = [1.0, 2.0, 3.0]\n"
     ]
    }
   ],
   "source": [
    "x = [1.0; 2.0; 3.0]\n",
    "println(\"x est un \", typeof(x))\n",
    "println(\"x = \", x)"
   ]
  },
  {
   "cell_type": "code",
   "execution_count": 26,
   "id": "b633339d",
   "metadata": {},
   "outputs": [
    {
     "name": "stdout",
     "output_type": "stream",
     "text": [
      "x est un Tuple{Int64, Int64, Int64}\n",
      "x = (1, 2, 3)\n"
     ]
    }
   ],
   "source": [
    "# tuples\n",
    "x = (1, 2, 3)\n",
    "println(\"x est un \", typeof(x))\n",
    "println(\"x = \", x)"
   ]
  },
  {
   "cell_type": "code",
   "execution_count": 27,
   "id": "177cd87a",
   "metadata": {},
   "outputs": [
    {
     "name": "stdout",
     "output_type": "stream",
     "text": [
      "x est un Tuple{Int64, String, Float64}\n",
      "x = (1, \"abc\", 3.0)\n"
     ]
    }
   ],
   "source": [
    "x = (1, \"abc\", 3.0)\n",
    "println(\"x est un \", typeof(x))\n",
    "println(\"x = \", x)"
   ]
  },
  {
   "cell_type": "code",
   "execution_count": 95,
   "id": "c4ea003d",
   "metadata": {},
   "outputs": [
    {
     "data": {
      "text/plain": [
       "2.220446049250313e-16"
      ]
     },
     "execution_count": 95,
     "metadata": {},
     "output_type": "execute_result"
    }
   ],
   "source": [
    "# précision machine\n",
    "eps()"
   ]
  },
  {
   "cell_type": "markdown",
   "id": "f0a46727",
   "metadata": {},
   "source": [
    "## 2) Opérations de base"
   ]
  },
  {
   "cell_type": "code",
   "execution_count": 52,
   "id": "107db7df",
   "metadata": {},
   "outputs": [
    {
     "data": {
      "text/plain": [
       "5"
      ]
     },
     "execution_count": 52,
     "metadata": {},
     "output_type": "execute_result"
    }
   ],
   "source": [
    "a = 3 + 2"
   ]
  },
  {
   "cell_type": "code",
   "execution_count": 59,
   "id": "ee6fe834",
   "metadata": {},
   "outputs": [
    {
     "data": {
      "text/plain": [
       "7"
      ]
     },
     "execution_count": 59,
     "metadata": {},
     "output_type": "execute_result"
    }
   ],
   "source": [
    "a = 5\n",
    "a += 2\n",
    "a"
   ]
  },
  {
   "cell_type": "code",
   "execution_count": 57,
   "id": "37cd1955",
   "metadata": {},
   "outputs": [
    {
     "data": {
      "text/plain": [
       "1"
      ]
     },
     "execution_count": 57,
     "metadata": {},
     "output_type": "execute_result"
    }
   ],
   "source": [
    "a = 3 - 2"
   ]
  },
  {
   "cell_type": "code",
   "execution_count": 53,
   "id": "45328cc6",
   "metadata": {},
   "outputs": [
    {
     "data": {
      "text/plain": [
       "1.5"
      ]
     },
     "execution_count": 53,
     "metadata": {},
     "output_type": "execute_result"
    }
   ],
   "source": [
    "a = 3 / 2"
   ]
  },
  {
   "cell_type": "code",
   "execution_count": 54,
   "id": "92ad08ee",
   "metadata": {},
   "outputs": [
    {
     "data": {
      "text/plain": [
       "6"
      ]
     },
     "execution_count": 54,
     "metadata": {},
     "output_type": "execute_result"
    }
   ],
   "source": [
    "a = 3 * 2"
   ]
  },
  {
   "cell_type": "code",
   "execution_count": 55,
   "id": "044a51af",
   "metadata": {},
   "outputs": [
    {
     "data": {
      "text/plain": [
       "6.0"
      ]
     },
     "execution_count": 55,
     "metadata": {},
     "output_type": "execute_result"
    }
   ],
   "source": [
    "a = 3.0 * 2.0"
   ]
  },
  {
   "cell_type": "code",
   "execution_count": 56,
   "id": "5ec1116f",
   "metadata": {},
   "outputs": [
    {
     "data": {
      "text/plain": [
       "6.0"
      ]
     },
     "execution_count": 56,
     "metadata": {},
     "output_type": "execute_result"
    }
   ],
   "source": [
    "a = 3 * 2.0"
   ]
  },
  {
   "cell_type": "code",
   "execution_count": 96,
   "id": "83627950",
   "metadata": {},
   "outputs": [
    {
     "data": {
      "text/plain": [
       "1.4142135623730951"
      ]
     },
     "execution_count": 96,
     "metadata": {},
     "output_type": "execute_result"
    }
   ],
   "source": [
    "sqrt(2.0)"
   ]
  },
  {
   "cell_type": "code",
   "execution_count": 100,
   "id": "8e42707a",
   "metadata": {},
   "outputs": [
    {
     "data": {
      "text/plain": [
       "9.0"
      ]
     },
     "execution_count": 100,
     "metadata": {},
     "output_type": "execute_result"
    }
   ],
   "source": [
    "a = 3.0^2"
   ]
  },
  {
   "cell_type": "code",
   "execution_count": 101,
   "id": "da4ff19a",
   "metadata": {},
   "outputs": [
    {
     "data": {
      "text/plain": [
       "3.0"
      ]
     },
     "execution_count": 101,
     "metadata": {},
     "output_type": "execute_result"
    }
   ],
   "source": [
    "a = abs(-3.0)"
   ]
  },
  {
   "cell_type": "markdown",
   "id": "230d22c6",
   "metadata": {},
   "source": [
    "## 3) Boucles"
   ]
  },
  {
   "cell_type": "code",
   "execution_count": 60,
   "id": "c6fa2f50",
   "metadata": {},
   "outputs": [
    {
     "data": {
      "text/plain": [
       "10"
      ]
     },
     "execution_count": 60,
     "metadata": {},
     "output_type": "execute_result"
    }
   ],
   "source": [
    "a = 0\n",
    "for i=1:10\n",
    "    a += 1\n",
    "end\n",
    "a"
   ]
  },
  {
   "cell_type": "code",
   "execution_count": 62,
   "id": "be1a8dd9",
   "metadata": {},
   "outputs": [
    {
     "data": {
      "text/plain": [
       "5.0"
      ]
     },
     "execution_count": 62,
     "metadata": {},
     "output_type": "execute_result"
    }
   ],
   "source": [
    "a = 0.0\n",
    "i = 0\n",
    "while i < 10\n",
    "    a += 0.5\n",
    "    i += 1\n",
    "end\n",
    "a"
   ]
  },
  {
   "cell_type": "code",
   "execution_count": 68,
   "id": "17a5370e",
   "metadata": {},
   "outputs": [
    {
     "name": "stdout",
     "output_type": "stream",
     "text": [
      "troisième cas, a = 0.8997507485748018\n"
     ]
    }
   ],
   "source": [
    "a = rand() # nombre aléatoire entre 0 et 1\n",
    "if 0.0 <= a < 0.3\n",
    "    println(\"premier cas, a = $a\") # pareil que d'écrire println(\"premier cas, a = \", a) \n",
    "elseif 0.3 <= a < 0.8\n",
    "    println(\"deuxième cas, a = $a\")\n",
    "else\n",
    "     println(\"troisième cas, a = $a\")\n",
    "end"
   ]
  },
  {
   "cell_type": "markdown",
   "id": "1669241f",
   "metadata": {},
   "source": [
    "## 4) Fonctions"
   ]
  },
  {
   "cell_type": "code",
   "execution_count": 71,
   "id": "9ce1b5de",
   "metadata": {},
   "outputs": [
    {
     "data": {
      "text/plain": [
       "2"
      ]
     },
     "execution_count": 71,
     "metadata": {},
     "output_type": "execute_result"
    }
   ],
   "source": [
    "function add1(x)\n",
    "    return x + 1\n",
    "end\n",
    "x = 1\n",
    "y = add1(x)"
   ]
  },
  {
   "cell_type": "code",
   "execution_count": 72,
   "id": "29de0d4c",
   "metadata": {},
   "outputs": [
    {
     "data": {
      "text/plain": [
       "3"
      ]
     },
     "execution_count": 72,
     "metadata": {},
     "output_type": "execute_result"
    }
   ],
   "source": [
    "# return facultatif: renvoie la dernière instruction\n",
    "function add2(x)\n",
    "    x + 2\n",
    "end\n",
    "x = 1\n",
    "y = add2(x)"
   ]
  },
  {
   "cell_type": "code",
   "execution_count": 73,
   "id": "92763201",
   "metadata": {},
   "outputs": [
    {
     "data": {
      "text/plain": [
       "4"
      ]
     },
     "execution_count": 73,
     "metadata": {},
     "output_type": "execute_result"
    }
   ],
   "source": [
    "# définition en une ligne\n",
    "add3(x) = x + 3\n",
    "x = 1\n",
    "y = add3(x)"
   ]
  },
  {
   "cell_type": "code",
   "execution_count": 75,
   "id": "8232e41a",
   "metadata": {},
   "outputs": [
    {
     "name": "stdout",
     "output_type": "stream",
     "text": [
      "# 2 methods for generic function \"mysum\":\n",
      "[1] mysum(a::Int64, b::Int64) in Main at In[75]:6\n",
      "[2] mysum(a::Real, b::Real) in Main at In[75]:2\n",
      "4.0\n",
      "4\n"
     ]
    }
   ],
   "source": [
    "# dispatch multiple\n",
    "function mysum(a::Real, b::Real)\n",
    "    return a + b\n",
    "end\n",
    "\n",
    "function mysum(a::Int, b::Int)\n",
    "    return a + b\n",
    "end\n",
    "println(methods(mysum))\n",
    "println(mysum(1.0, 3.0))\n",
    "println(mysum(1, 3))"
   ]
  },
  {
   "cell_type": "code",
   "execution_count": 77,
   "id": "76db3fe9",
   "metadata": {},
   "outputs": [
    {
     "data": {
      "text/plain": [
       "15"
      ]
     },
     "execution_count": 77,
     "metadata": {},
     "output_type": "execute_result"
    }
   ],
   "source": [
    "# arguments facultatifs\n",
    "function p(x, y; a=1, b=0)\n",
    "    a * x * y + b\n",
    "end\n",
    "p(2, 3)\n",
    "p(2, 3, a=2, b=3)"
   ]
  },
  {
   "cell_type": "markdown",
   "id": "bca5a6c0",
   "metadata": {},
   "source": [
    "On utilise . pour vectoriser des fonctions (appliquer une fonction à chaque élément d'un vecteur)"
   ]
  },
  {
   "cell_type": "code",
   "execution_count": 98,
   "id": "f7b82ad2",
   "metadata": {},
   "outputs": [
    {
     "name": "stdout",
     "output_type": "stream",
     "text": [
      "[4, 5, 6]\n",
      "[0.1411200080598672, -0.7568024953079282, -0.9589242746631385]\n",
      "[1.7320508075688772, 2.0, 2.23606797749979]\n",
      "[9, 16, 25]\n",
      "[6, 8, 10]\n",
      "[3, 8, 15]\n",
      "[3.0, 2.0, 1.6666666666666667]\n"
     ]
    }
   ],
   "source": [
    "a = [3; 4; 5]\n",
    "println(a .+ 1)\n",
    "println(sin.(a))\n",
    "println(sqrt.(a))\n",
    "println(a .^2)\n",
    "println(a .* 2)\n",
    "\n",
    "b = [1, 2, 3]\n",
    "println(a .* b)\n",
    "println(a ./ b)"
   ]
  },
  {
   "cell_type": "markdown",
   "id": "35b73d18",
   "metadata": {},
   "source": [
    "Lorsqu'au moins un argument de la fonction est modifié, on ajoute un ! à la fin de la fonction par convention."
   ]
  },
  {
   "cell_type": "code",
   "execution_count": 87,
   "id": "b62cfde2",
   "metadata": {},
   "outputs": [
    {
     "data": {
      "text/plain": [
       "2-element Vector{Int64}:\n",
       " 5\n",
       " 5"
      ]
     },
     "execution_count": 87,
     "metadata": {},
     "output_type": "execute_result"
    }
   ],
   "source": [
    "y = [3, 3]\n",
    "function g!(y)\n",
    "    y .+= 2\n",
    "    return y\n",
    "end\n",
    "g!(y)\n",
    "y"
   ]
  },
  {
   "cell_type": "markdown",
   "id": "ed301479",
   "metadata": {},
   "source": [
    "## 5) Caractères unicode"
   ]
  },
  {
   "cell_type": "code",
   "execution_count": 92,
   "id": "3bb85fa4",
   "metadata": {},
   "outputs": [
    {
     "data": {
      "text/plain": [
       "3"
      ]
     },
     "execution_count": 92,
     "metadata": {},
     "output_type": "execute_result"
    }
   ],
   "source": [
    "β = 20 # on tape \\beta puis TAB\n",
    "Ω = 3  # on tape \\Omega puis TAB"
   ]
  },
  {
   "cell_type": "code",
   "execution_count": null,
   "id": "029a4314",
   "metadata": {},
   "outputs": [],
   "source": []
  }
 ],
 "metadata": {
  "kernelspec": {
   "display_name": "Julia 1.6.2",
   "language": "julia",
   "name": "julia-1.6"
  },
  "language_info": {
   "file_extension": ".jl",
   "mimetype": "application/julia",
   "name": "julia",
   "version": "1.8.2"
  }
 },
 "nbformat": 4,
 "nbformat_minor": 5
}
