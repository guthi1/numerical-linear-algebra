{
 "cells": [
  {
   "cell_type": "code",
   "execution_count": null,
   "metadata": {},
   "outputs": [],
   "source": []
  },
  {
   "attachments": {},
   "cell_type": "markdown",
   "metadata": {},
   "source": [
    "### MTH8211 - Lab 2\n",
    "\n",
    "Par: Guillaume Thibault - 1948612\n",
    "\n",
    "<br><br/>\n",
    "\n",
    "Implementation de la factorisation $$ A = LDL* $$ d'une matric carrée hermitienne\n",
    "\n",
    "* L : triangulaire inférieur unitaire (diagonale est composée que de 1)\n",
    "* D est diagonale"
   ]
  },
  {
   "cell_type": "code",
   "execution_count": 15,
   "metadata": {},
   "outputs": [],
   "source": [
    "using Distributions, LinearAlgebra\n",
    "using SparseArrays"
   ]
  },
  {
   "cell_type": "code",
   "execution_count": 9,
   "metadata": {},
   "outputs": [
    {
     "data": {
      "text/plain": [
       "3×3 Matrix{Float64}:\n",
       " 1.71087   0.101429  0.509012\n",
       " 0.101429  1.67452   0.562713\n",
       " 0.509012  0.562713  1.40175"
      ]
     },
     "metadata": {},
     "output_type": "display_data"
    }
   ],
   "source": [
    "# Hermitian matrix: complex square matrix that is equal to its own conjugate transpose\n",
    "A = Matrix(Hermitian(rand(3,3) + I))\n",
    "@assert ishermitian(A)\n",
    "display(A)"
   ]
  },
  {
   "attachments": {},
   "cell_type": "markdown",
   "metadata": {},
   "source": [
    "#### Partie 1.\n",
    "Si A est définie posotive, on peut garantir l'exsitence de la factorisation, cela est équivalent à la factorisation de Cholesky"
   ]
  },
  {
   "attachments": {},
   "cell_type": "markdown",
   "metadata": {},
   "source": [
    "1. Dans ce cas de figure, expliquer pourquoi 𝐷 sera également définie positive \n",
    "\n",
    "<br> <br/>\n",
    "\n",
    "    Reponse\n",
    "\n",
    "\n",
    "2. Algorithme pour a décomposition\n",
    "\n",
    "    Avec \n",
    "\n",
    "    $$ A = \\left[ {\\begin{array}{cc}  a & b & c \\\\ b & * & * \\\\ c & * & * \\end{array} } \\right] $$\n",
    "\n",
    "    Nous pouvons trouver la matrice suivante pour enlever l'élément de la première colonne\n",
    "\n",
    "    $$ L_1 = \\left[ {\\begin{array}{cc}  1 & 0 & 0 \\\\ -b/a & 1 & 0 \\\\ -c/a & 0 & 1 \\end{array} } \\right] $$\n",
    "\n",
    "    Comme ça, on peut utiliser $ L_1^T $ pour enlever les éléments de la première ligne.\n",
    "\n",
    "\n",
    "    Avec $ A_1 = L_1 A L_2^T $, on applique la même procédure pour trouver $ A_2 = L_2 A_1 L_2^T = (L_2 L_1) A (L_2^T L_1^T) $. On continue ainsi jusqu'à la dernière ligne/colonne et on obtient $ D = A_{n-1} = (L_{n-1} ... L_1) A_0 (L_{n-1}^T ... L_1^T) $.\n",
    "\n",
    "    Enfin, en fixant $ L = (L_{n-1}^T ... L_1^T)^{-1} $ on trouve la factorisation : $A=LDL^T$.\n",
    "\n",
    "    "
   ]
  },
  {
   "attachments": {},
   "cell_type": "markdown",
   "metadata": {},
   "source": [
    "3. Read the documentation on $Symmetric$ and $Hermitian$"
   ]
  },
  {
   "attachments": {},
   "cell_type": "markdown",
   "metadata": {},
   "source": [
    "4. Implementation of the algo"
   ]
  },
  {
   "cell_type": "code",
   "execution_count": 10,
   "metadata": {},
   "outputs": [
    {
     "data": {
      "text/plain": [
       "5×5 Hermitian{Complex{Int64}, Matrix{Complex{Int64}}}:\n",
       " 1+0im  0+0im  2+2im  0+0im  3-3im\n",
       " 0+0im  4+0im  0+0im  5+0im  0+0im\n",
       " 2-2im  0+0im  7+0im  0+0im  8+8im\n",
       " 0+0im  5+0im  0+0im  1+0im  0+0im\n",
       " 3+3im  0+0im  8-8im  0+0im  4+0im"
      ]
     },
     "metadata": {},
     "output_type": "display_data"
    }
   ],
   "source": [
    "A = [1 0 2+2im 0 3-3im; 0 4 0 5 0; 6-6im 0 7 0 8+8im; 0 9 0 1 0; 2+2im 0 3-3im 0 4];\n",
    "A = Hermitian(A)"
   ]
  },
  {
   "cell_type": "markdown",
   "metadata": {},
   "source": []
  },
  {
   "cell_type": "code",
   "execution_count": 57,
   "metadata": {},
   "outputs": [
    {
     "data": {
      "text/plain": [
       "ldl (generic function with 1 method)"
      ]
     },
     "metadata": {},
     "output_type": "display_data"
    }
   ],
   "source": [
    "function ldl(A)\n",
    "    D = copy(A)\n",
    "    L  = zeros(size(A)) + I\n",
    "    m, n = size(A)\n",
    "    for i in 1:m\n",
    "        # Lₙ matrix for this it\n",
    "        Lₙ = zeros(size(A)) + I\n",
    "\n",
    "        # Find the elements that will cancel the row\n",
    "        for j in i+1:n\n",
    "            # Populate Lₙ\n",
    "            Lₙ[j, i] = - D[j, i] / D[i, i]\n",
    "            # Fill L\n",
    "            L[j, i] = - Lₙ[j, i]\n",
    "        end\n",
    "        # Find matrix for next iteration Lₙ D Lₙᵀ \n",
    "        D = Lₙ * D * Lₙ'\n",
    "    end\n",
    "    return L, D\n",
    "end"
   ]
  },
  {
   "cell_type": "code",
   "execution_count": 66,
   "metadata": {},
   "outputs": [
    {
     "data": {
      "text/plain": [
       "3×3 Symmetric{Int64, Matrix{Int64}}:\n",
       " 1  2  2\n",
       " 2  1  2\n",
       " 2  2  1"
      ]
     },
     "metadata": {},
     "output_type": "display_data"
    },
    {
     "data": {
      "text/plain": [
       "3×3 Matrix{Float64}:\n",
       " 1.0  2.0  2.0\n",
       " 2.0  1.0  2.0\n",
       " 2.0  2.0  1.0"
      ]
     },
     "metadata": {},
     "output_type": "display_data"
    }
   ],
   "source": [
    "# Sample case\n",
    "A = [1 2 2; 2 1 2; 2 2 1];\n",
    "A = Symmetric(A); # triangle supérieur\n",
    "display(A);\n",
    "\n",
    "L, D = ldl(A);\n",
    "\n",
    "display(L * D * L');"
   ]
  },
  {
   "cell_type": "code",
   "execution_count": 71,
   "metadata": {},
   "outputs": [
    {
     "data": {
      "text/plain": [
       "5×5 Symmetric{Float64, Matrix{Float64}}:\n",
       " 2.33957  1.36591   2.11782  1.0656    1.424\n",
       " 1.36591  1.01627   1.36782  0.724459  0.936727\n",
       " 2.11782  1.36782   2.33414  1.02533   1.22831\n",
       " 1.0656   0.724459  1.02533  0.620863  0.75731\n",
       " 1.424    0.936727  1.22831  0.75731   1.00359"
      ]
     },
     "metadata": {},
     "output_type": "display_data"
    },
    {
     "data": {
      "text/plain": [
       "5×5 Matrix{Float64}:\n",
       " 2.33957  1.36591   2.11782  1.0656    1.424\n",
       " 1.36591  1.01627   1.36782  0.724459  0.936727\n",
       " 2.11782  1.36782   2.33414  1.02533   1.22831\n",
       " 1.0656   0.724459  1.02533  0.620863  0.75731\n",
       " 1.424    0.936727  1.22831  0.75731   1.00359"
      ]
     },
     "metadata": {},
     "output_type": "display_data"
    }
   ],
   "source": [
    "# Using triangular sup matrix \n",
    "# A = Symmetric(tril(A' * A), :L); # triangle inférieur\n",
    "A = rand(5, 5);\n",
    "A = Symmetric(triu(A' * A));\n",
    "display(A);\n",
    "L, D = ldl(A);\n",
    "display(L * D * L');\n"
   ]
  },
  {
   "cell_type": "code",
   "execution_count": 73,
   "metadata": {},
   "outputs": [
    {
     "data": {
      "text/plain": [
       "5×5 Symmetric{Float64, Matrix{Float64}}:\n",
       " 1.20408   1.36096   0.51908   1.31658   0.781784\n",
       " 1.36096   1.9062    0.821708  1.69749   1.17583\n",
       " 0.51908   0.821708  0.854454  1.14531   0.760853\n",
       " 1.31658   1.69749   1.14531   2.32492   0.981834\n",
       " 0.781784  1.17583   0.760853  0.981834  1.04611"
      ]
     },
     "metadata": {},
     "output_type": "display_data"
    },
    {
     "data": {
      "text/plain": [
       "5×5 Matrix{Float64}:\n",
       " 1.20408   1.36096   0.51908   1.31658   0.781784\n",
       " 1.36096   1.9062    0.821708  1.69749   1.17583\n",
       " 0.51908   0.821708  0.854454  1.14531   0.760853\n",
       " 1.31658   1.69749   1.14531   2.32492   0.981834\n",
       " 0.781784  1.17583   0.760853  0.981834  1.04611"
      ]
     },
     "metadata": {},
     "output_type": "display_data"
    }
   ],
   "source": [
    "A = rand(5, 5);\n",
    "A = Symmetric(tril(A' * A), :L); # triangle inférieur\n",
    "display(A);\n",
    "L, D = ldl(A);\n",
    "display(L * D * L');"
   ]
  },
  {
   "cell_type": "code",
   "execution_count": 67,
   "metadata": {},
   "outputs": [
    {
     "data": {
      "text/plain": [
       "5×5 Hermitian{Complex{Int64}, Matrix{Complex{Int64}}}:\n",
       " 1+0im  0+0im  2+2im  0+0im  3-3im\n",
       " 0+0im  4+0im  0+0im  5+0im  0+0im\n",
       " 2-2im  0+0im  7+0im  0+0im  8+8im\n",
       " 0+0im  5+0im  0+0im  1+0im  0+0im\n",
       " 3+3im  0+0im  8-8im  0+0im  4+0im"
      ]
     },
     "metadata": {},
     "output_type": "display_data"
    },
    {
     "ename": "InexactError",
     "evalue": "InexactError: Float64(-2.0 + 2.0im)",
     "output_type": "error",
     "traceback": [
      "InexactError: Float64(-2.0 + 2.0im)\n",
      "\n",
      "Stacktrace:\n",
      " [1] Real\n",
      "   @ ./complex.jl:44 [inlined]\n",
      " [2] convert\n",
      "   @ ./number.jl:7 [inlined]\n",
      " [3] setindex!\n",
      "   @ ./array.jl:968 [inlined]\n",
      " [4] ldl(A::Hermitian{Complex{Int64}, Matrix{Complex{Int64}}})\n",
      "   @ Main ~/Documents/repo/numerical-linear-algebra/homeworks/lab_homework/mini-devoir2.ipynb:12\n",
      " [5] top-level scope\n",
      "   @ ~/Documents/repo/numerical-linear-algebra/homeworks/lab_homework/mini-devoir2.ipynb:5"
     ]
    }
   ],
   "source": [
    "A = [1 0 2+2im 0 3-3im; 0 4 0 5 0; 6-6im 0 7 0 8+8im; 0 9 0 1 0; 2+2im 0 3-3im 0 4];\n",
    "A = Hermitian(A);\n",
    "display(A);\n",
    "\n",
    "L, D = ldl(A);\n",
    "\n",
    "display(L * D * L');"
   ]
  },
  {
   "cell_type": "code",
   "execution_count": 18,
   "metadata": {},
   "outputs": [
    {
     "data": {
      "text/plain": [
       "8.13514888312351"
      ]
     },
     "metadata": {},
     "output_type": "display_data"
    }
   ],
   "source": [
    "using Distributions\n",
    "\n",
    "μ = 10\n",
    "σ = 2\n",
    "\n",
    "m = Normal(μ, σ)\n",
    "rand(m)"
   ]
  },
  {
   "cell_type": "code",
   "execution_count": 39,
   "metadata": {},
   "outputs": [
    {
     "ename": "ErrorException",
     "evalue": "syntax: missing comma or ) in argument list",
     "output_type": "error",
     "traceback": [
      "syntax: missing comma or ) in argument list\n",
      "\n",
      "Stacktrace:\n",
      " [1] top-level scope\n",
      "   @ ~/Documents/repo/numerical-linear-algebra/homeworks/lab_homework/mini-devoir2.ipynb:1"
     ]
    }
   ],
   "source": []
  },
  {
   "cell_type": "code",
   "execution_count": null,
   "metadata": {},
   "outputs": [],
   "source": []
  }
 ],
 "metadata": {
  "kernelspec": {
   "display_name": "Julia 1.8.4",
   "language": "julia",
   "name": "julia-1.8"
  },
  "language_info": {
   "file_extension": ".jl",
   "mimetype": "application/julia",
   "name": "julia",
   "version": "1.8.4"
  },
  "orig_nbformat": 4
 },
 "nbformat": 4,
 "nbformat_minor": 2
}
