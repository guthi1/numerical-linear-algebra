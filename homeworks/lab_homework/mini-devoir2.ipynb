{
 "cells": [
  {
   "attachments": {},
   "cell_type": "markdown",
   "metadata": {},
   "source": [
    "### MTH8211 - Lab 2\n",
    "\n",
    "Par: Guillaume Thibault - 1948612\n",
    "\n",
    "<br><br/>\n",
    "\n",
    "Implementation de la factorisation $$ A = LDL* $$ d'une matric carrée hermitienne\n",
    "\n",
    "* L : triangulaire inférieur unitaire (diagonale est composée que de 1)\n",
    "* D est diagonale"
   ]
  },
  {
   "cell_type": "code",
   "execution_count": 23,
   "metadata": {},
   "outputs": [],
   "source": [
    "using Distributions, LinearAlgebra\n",
    "using SparseArrays"
   ]
  },
  {
   "cell_type": "code",
   "execution_count": 24,
   "metadata": {},
   "outputs": [
    {
     "data": {
      "text/plain": [
       "3×3 Matrix{Float64}:\n",
       " 1.27564   0.276557  0.301389\n",
       " 0.276557  1.54877   0.475295\n",
       " 0.301389  0.475295  1.48424"
      ]
     },
     "metadata": {},
     "output_type": "display_data"
    }
   ],
   "source": [
    "# Hermitian matrix: complex square matrix that is equal to its own conjugate transpose\n",
    "A = Matrix(Hermitian(rand(3,3) + I))\n",
    "@assert ishermitian(A)\n",
    "display(A)"
   ]
  },
  {
   "attachments": {},
   "cell_type": "markdown",
   "metadata": {},
   "source": [
    "#### Partie 1.\n",
    "Si A est définie posotive, on peut garantir l'exsitence de la factorisation, cela est équivalent à la factorisation de Cholesky"
   ]
  },
  {
   "attachments": {},
   "cell_type": "markdown",
   "metadata": {},
   "source": [
    "1. Dans ce cas de figure, expliquer pourquoi 𝐷 sera également définie positive \n",
    "\n",
    "<br> <br/>\n",
    "\n",
    "    Reponse\n",
    "\n",
    "\n",
    "2. Algorithme pour a décomposition\n",
    "\n",
    "    Avec \n",
    "\n",
    "    $$ A = \\left[ {\\begin{array}{cc}  a & b & c \\\\ b & * & * \\\\ c & * & * \\end{array} } \\right] $$\n",
    "\n",
    "    Nous pouvons trouver la matrice suivante pour enlever l'élément de la première colonne\n",
    "\n",
    "    $$ L_1 = \\left[ {\\begin{array}{cc}  1 & 0 & 0 \\\\ -b/a & 1 & 0 \\\\ -c/a & 0 & 1 \\end{array} } \\right] $$\n",
    "\n",
    "    Comme ça, on peut utiliser $ L_1^T $ pour enlever les éléments de la première ligne.\n",
    "\n",
    "\n",
    "    Avec $ A_1 = L_1 A L_2^T $, on applique la même procédure pour trouver $ A_2 = L_2 A_1 L_2^T = (L_2 L_1) A (L_2^T L_1^T) $. On continue ainsi jusqu'à la dernière ligne/colonne et on obtient $ D = A_{n-1} = (L_{n-1} ... L_1) A_0 (L_{n-1}^T ... L_1^T) $.\n",
    "\n",
    "    Enfin, en fixant $ L = (L_{n-1}^T ... L_1^T)^{-1} $ on trouve la factorisation : $A=LDL^T$.\n",
    "\n",
    "    "
   ]
  },
  {
   "attachments": {},
   "cell_type": "markdown",
   "metadata": {},
   "source": [
    "3. Read the documentation on $Symmetric$ and $Hermitian$"
   ]
  },
  {
   "attachments": {},
   "cell_type": "markdown",
   "metadata": {},
   "source": [
    "4. Implementation of the algo"
   ]
  },
  {
   "cell_type": "code",
   "execution_count": 26,
   "metadata": {},
   "outputs": [
    {
     "data": {
      "text/plain": [
       "ldl (generic function with 1 method)"
      ]
     },
     "metadata": {},
     "output_type": "display_data"
    }
   ],
   "source": [
    "function ldl(A)\n",
    "    D = copy(A)\n",
    "    L = triu(zeros(ComplexF32, size(A)) + I)\n",
    "    m, n = size(A)\n",
    "    for i in 1:m\n",
    "        # Lₙ matrix for this it\n",
    "        Lₙ = zeros(ComplexF32, size(A)) + I\n",
    "        # Find the elements that will cancel the row\n",
    "        for j in i+1:n\n",
    "            # Populate Lₙ\n",
    "            Lₙ[j, i] = -D[j, i] / D[i, i]\n",
    "            # Fill L\n",
    "            L[j, i] = -Lₙ[j, i]\n",
    "        end\n",
    "        # Find matrix for next iteration Lₙ D Lₙᵀ \n",
    "        D = Lₙ * D * Lₙ'\n",
    "    end\n",
    "    return L, D\n",
    "end"
   ]
  },
  {
   "attachments": {},
   "cell_type": "markdown",
   "metadata": {},
   "source": [
    "Tests:"
   ]
  },
  {
   "cell_type": "code",
   "execution_count": 27,
   "metadata": {},
   "outputs": [
    {
     "data": {
      "text/plain": [
       "3×3 Symmetric{Int64, Matrix{Int64}}:\n",
       " 1  2  2\n",
       " 2  1  2\n",
       " 2  2  1"
      ]
     },
     "metadata": {},
     "output_type": "display_data"
    },
    {
     "data": {
      "text/plain": [
       "3×3 Matrix{ComplexF32}:\n",
       " 1.0+0.0im  2.0+0.0im  2.0+0.0im\n",
       " 2.0+0.0im  1.0+0.0im  2.0+0.0im\n",
       " 2.0+0.0im  2.0+0.0im  1.0+0.0im"
      ]
     },
     "metadata": {},
     "output_type": "display_data"
    }
   ],
   "source": [
    "# Sample case\n",
    "A = [1 2 2; 2 1 2; 2 2 1];\n",
    "A = Symmetric(A); # triangle supérieur\n",
    "display(A);\n",
    "\n",
    "L, D = ldl(A);\n",
    "\n",
    "display(L * D * L');"
   ]
  },
  {
   "cell_type": "code",
   "execution_count": 28,
   "metadata": {},
   "outputs": [
    {
     "data": {
      "text/plain": [
       "5×5 Symmetric{Float64, Matrix{Float64}}:\n",
       " 2.15395  1.91469  1.19778   1.71641   1.03463\n",
       " 1.91469  1.766    1.04323   1.57839   1.03206\n",
       " 1.19778  1.04323  0.785903  0.863777  0.706922\n",
       " 1.71641  1.57839  0.863777  1.63471   0.927483\n",
       " 1.03463  1.03206  0.706922  0.927483  1.03176"
      ]
     },
     "metadata": {},
     "output_type": "display_data"
    },
    {
     "data": {
      "text/plain": [
       "5×5 Matrix{ComplexF64}:\n",
       " 2.15395+0.0im  1.91469+0.0im   1.19778+0.0im   1.71641+0.0im   1.03463+0.0im\n",
       " 1.91469+0.0im    1.766+0.0im   1.04323+0.0im   1.57839+0.0im   1.03206+0.0im\n",
       " 1.19778+0.0im  1.04323+0.0im  0.785903+0.0im  0.863777+0.0im  0.706922+0.0im\n",
       " 1.71641+0.0im  1.57839+0.0im  0.863777+0.0im   1.63471+0.0im  0.927483+0.0im\n",
       " 1.03463+0.0im  1.03206+0.0im  0.706922+0.0im  0.927483+0.0im   1.03176+0.0im"
      ]
     },
     "metadata": {},
     "output_type": "display_data"
    }
   ],
   "source": [
    "# Using triangular sup matrix \n",
    "# A = Symmetric(tril(A' * A), :L); # triangle inférieur\n",
    "A = rand(5, 5);\n",
    "A = Symmetric(triu(A' * A));\n",
    "display(A);\n",
    "L, D = ldl(A);\n",
    "display(L * D * L');\n"
   ]
  },
  {
   "cell_type": "code",
   "execution_count": 29,
   "metadata": {},
   "outputs": [
    {
     "data": {
      "text/plain": [
       "5×5 Symmetric{Float64, Matrix{Float64}}:\n",
       " 1.60656   1.5708    1.82164   0.890977  0.760883\n",
       " 1.5708    1.96261   1.50156   0.785956  0.95811\n",
       " 1.82164   1.50156   2.28994   1.00324   0.793074\n",
       " 0.890977  0.785956  1.00324   0.755041  0.27338\n",
       " 0.760883  0.95811   0.793074  0.27338   0.740055"
      ]
     },
     "metadata": {},
     "output_type": "display_data"
    },
    {
     "data": {
      "text/plain": [
       "5×5 Matrix{ComplexF64}:\n",
       "  1.60656+0.0im    1.5708+0.0im  …  0.890977+0.0im  0.760883+0.0im\n",
       "   1.5708+0.0im   1.96261+0.0im     0.785956+0.0im   0.95811+0.0im\n",
       "  1.82164+0.0im   1.50156+0.0im      1.00324+0.0im  0.793074+0.0im\n",
       " 0.890977+0.0im  0.785956+0.0im     0.755041+0.0im   0.27338+0.0im\n",
       " 0.760883+0.0im   0.95811+0.0im      0.27338+0.0im  0.740055+0.0im"
      ]
     },
     "metadata": {},
     "output_type": "display_data"
    }
   ],
   "source": [
    "A = rand(5, 5);\n",
    "A = Symmetric(tril(A' * A), :L); # triangle inférieur\n",
    "display(A);\n",
    "L, D = ldl(A);\n",
    "display(L * D * L');"
   ]
  },
  {
   "cell_type": "code",
   "execution_count": 30,
   "metadata": {},
   "outputs": [
    {
     "data": {
      "text/plain": [
       "5×5 Hermitian{Complex{Int64}, Matrix{Complex{Int64}}}:\n",
       " 1+0im  0+0im  2+2im  0+0im  3-3im\n",
       " 0+0im  4+0im  0+0im  5+0im  0+0im\n",
       " 2-2im  0+0im  7+0im  0+0im  8+8im\n",
       " 0+0im  5+0im  0+0im  1+0im  0+0im\n",
       " 3+3im  0+0im  8-8im  0+0im  4+0im"
      ]
     },
     "metadata": {},
     "output_type": "display_data"
    },
    {
     "data": {
      "text/plain": [
       "5×5 Matrix{ComplexF32}:\n",
       " 1.0+0.0im  0.0+0.0im  2.0+2.0im  0.0+0.0im  3.0-3.0im\n",
       " 0.0+0.0im  4.0+0.0im  0.0+0.0im  5.0+0.0im  0.0+0.0im\n",
       " 2.0-2.0im  0.0+0.0im  7.0+0.0im  0.0+0.0im  8.0+8.0im\n",
       " 0.0+0.0im  5.0+0.0im  0.0+0.0im  1.0+0.0im  0.0+0.0im\n",
       " 3.0+3.0im  0.0+0.0im  8.0-8.0im  0.0+0.0im  4.0+0.0im"
      ]
     },
     "metadata": {},
     "output_type": "display_data"
    }
   ],
   "source": [
    "A = [1 0 2+2im 0 3-3im; 0 4 0 5 0; 6-6im 0 7 0 8+8im; 0 9 0 1 0; 2+2im 0 3-3im 0 4];\n",
    "A = Hermitian(A);\n",
    "display(A);\n",
    "\n",
    "L, D = ldl(A);\n",
    "\n",
    "display(L * D * L');"
   ]
  },
  {
   "attachments": {},
   "cell_type": "markdown",
   "metadata": {},
   "source": [
    "5. Function solve to solve `x = solve(L, D, b)`"
   ]
  },
  {
   "cell_type": "code",
   "execution_count": 31,
   "metadata": {},
   "outputs": [
    {
     "data": {
      "text/plain": [
       "solve (generic function with 1 method)"
      ]
     },
     "metadata": {},
     "output_type": "display_data"
    }
   ],
   "source": [
    "function solve(L, D, b)\n",
    "    # Solve Ly = b \n",
    "    y = L \\ b\n",
    "    # Then DL' x = y\n",
    "    x = D * L' \\ y\n",
    "    \n",
    "    return x\n",
    "end"
   ]
  },
  {
   "attachments": {},
   "cell_type": "markdown",
   "metadata": {},
   "source": [
    "Tests:"
   ]
  },
  {
   "cell_type": "code",
   "execution_count": 32,
   "metadata": {},
   "outputs": [
    {
     "name": "stdout",
     "output_type": "stream",
     "text": [
      "[1.4000000000000001, 0.4, -0.6]\n"
     ]
    },
    {
     "data": {
      "text/plain": [
       "3-element Vector{ComplexF32}:\n",
       "        1.4f0 + 0.0f0im\n",
       " 0.40000004f0 + 0.0f0im\n",
       "       -0.6f0 - 0.0f0im"
      ]
     },
     "metadata": {},
     "output_type": "display_data"
    }
   ],
   "source": [
    "A = [1 2 2; 2 1 2; 2 2 1];\n",
    "A = Symmetric(A);\n",
    "b = [1; 2; 3]\n",
    "x = A \\ b\n",
    "println(x)\n",
    "\n",
    "L, D = ldl(A)\n",
    "\n",
    "solve(L, D, b)"
   ]
  },
  {
   "cell_type": "code",
   "execution_count": 36,
   "metadata": {},
   "outputs": [
    {
     "name": "stdout",
     "output_type": "stream",
     "text": [
      "ComplexF64[0.508888888888889 - 0.21555555555555558im, 0.8571428571428571 - 0.0im, 0.20000000000000004 + 0.09777777777777785im, -0.2857142857142857 - 0.0im, 0.11111111111111109 - 0.015555555555555545im]\n"
     ]
    },
    {
     "data": {
      "text/plain": [
       "5-element Vector{ComplexF32}:\n",
       "  0.5088889f0 - 0.21555579f0im\n",
       " 0.85714287f0 + 0.0f0im\n",
       " 0.20000005f0 + 0.09777784f0im\n",
       " -0.2857143f0 + 0.0f0im\n",
       " 0.11111111f0 - 0.015555556f0im"
      ]
     },
     "metadata": {},
     "output_type": "display_data"
    }
   ],
   "source": [
    "A = [1 0 2+2im 0 3-3im; 0 4 0 5 0; 6-6im 0 7 0 8+8im; 0 9 0 1 0; 2+2im 0 3-3im 0 4];\n",
    "A = Hermitian(A);\n",
    "b = [1, 2, 3, 4, 5]\n",
    "\n",
    "x = A \\ b\n",
    "println(x)\n",
    "\n",
    "L, D = ldl(A)\n",
    "\n",
    "solve(L, D, b)"
   ]
  },
  {
   "attachments": {},
   "cell_type": "markdown",
   "metadata": {},
   "source": [
    "## Part 2\n",
    "\n",
    "Factorization on\n",
    "\n",
    " $$ A = \\left[ {\\begin{array}{cc}  M & A^* \\\\ A & -N \\end{array} } \\right] $$\n",
    "\n",
    "Where 𝑀 and 𝑁 are positive definite Hermitian and 𝐴 is arbitrary (𝐴 can be rectangular).\n",
    "\n",
    "Test your implementation on\n",
    "quasi definite systems"
   ]
  },
  {
   "cell_type": "code",
   "execution_count": 43,
   "metadata": {},
   "outputs": [
    {
     "data": {
      "text/plain": [
       "10×10 Matrix{ComplexF64}:\n",
       "  0.455247+0.0im        0.190538+0.4716im    …    0.228847+0.0im\n",
       "  0.190538-0.4716im     0.451102+0.0im            0.468642+0.0im\n",
       "  0.383211-0.415402im   0.582927-0.995947im       0.233833+0.0im\n",
       "   0.96662-0.532535im   0.767335-0.698466im       0.729057+0.0im\n",
       "  0.135843-0.985474im   0.481892-0.480955im       0.677768+0.0im\n",
       " 0.0471384-0.362081im   0.226423-0.639292im  …    0.338006+0.0im\n",
       "   0.16316+0.0im       0.0305836+0.0im           -0.924134-0.316373im\n",
       "  0.494637+0.0im        0.643694+0.0im           -0.712896-0.997439im\n",
       "  0.883533+0.0im        0.512021+0.0im           -0.358076-0.452619im\n",
       "  0.228847+0.0im        0.468642+0.0im          -0.0997231+0.0im"
      ]
     },
     "metadata": {},
     "output_type": "display_data"
    },
    {
     "data": {
      "text/plain": [
       "10×10 Matrix{ComplexF64}:\n",
       "  0.455247+0.0im          …    0.228847+2.64698e-23im\n",
       "  0.190538-0.4716im            0.468642-5.55112e-17im\n",
       "  0.383211-0.415402im          0.233833+4.44089e-16im\n",
       "   0.96662-0.532535im          0.729057+0.0im\n",
       "  0.135843-0.985474im          0.677768-4.44089e-16im\n",
       " 0.0471384-0.362081im     …    0.338006+4.71845e-16im\n",
       "   0.16316-9.92617e-24im      -0.924134-0.316373im\n",
       "  0.494637+0.0im              -0.712896-0.997439im\n",
       "  0.883533-1.32349e-23im      -0.358076-0.452619im\n",
       "  0.228847+2.64698e-23im     -0.0997231-0.0im"
      ]
     },
     "metadata": {},
     "output_type": "display_data"
    }
   ],
   "source": [
    "# Create a positive definite Hermitian matrix\n",
    "M = Hermitian(rand(Complex{Float64}, 6, 6));\n",
    "N = -Hermitian(rand(Complex{Float64}, 4, 4));\n",
    "A = rand(4, 6)\n",
    "\n",
    "bloc_matrix = [M A'; A N]\n",
    "display(bloc_matrix);\n",
    "\n",
    "\n",
    "L, D = ldl(bloc_matrix)\n",
    "display(L * D * L');\n"
   ]
  },
  {
   "attachments": {},
   "cell_type": "markdown",
   "metadata": {},
   "source": [
    "## Part 3\n",
    "\n",
    "implementation in place of LDL `LD!(A)`"
   ]
  },
  {
   "cell_type": "code",
   "execution_count": null,
   "metadata": {},
   "outputs": [],
   "source": [
    "function LD!(A)\n",
    "    \n",
    "end"
   ]
  }
 ],
 "metadata": {
  "kernelspec": {
   "display_name": "Julia 1.8.4",
   "language": "julia",
   "name": "julia-1.8"
  },
  "language_info": {
   "file_extension": ".jl",
   "mimetype": "application/julia",
   "name": "julia",
   "version": "1.8.4"
  },
  "orig_nbformat": 4
 },
 "nbformat": 4,
 "nbformat_minor": 2
}
