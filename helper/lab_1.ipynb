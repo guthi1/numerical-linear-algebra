{
 "cells": [
  {
   "cell_type": "markdown",
   "id": "56e726cf",
   "metadata": {},
   "source": [
    "# MTH8211: Algèbre linéaire numérique appliquée\n",
    "\n",
    "## Laboratoire 1: introduction à Julia pour l'algèbre linéaire\n",
    "Alexis Montoison, Dominique Orban"
   ]
  },
  {
   "cell_type": "code",
   "execution_count": 57,
   "id": "017ad960",
   "metadata": {},
   "outputs": [],
   "source": [
    "# la commande suivant sert uniquement à installer le module LinearAlgebra.\n",
    "# Une fois exécutée, le module est installé dans l'environnement actuel.\n",
    "# vous pouvez commenter cette commande une fois le module installé.\n",
    "\n",
    "# ]add LinearAlgebra"
   ]
  },
  {
   "cell_type": "code",
   "execution_count": 58,
   "id": "3a3c31a8",
   "metadata": {},
   "outputs": [],
   "source": [
    "using LinearAlgebra # importe le module LinearAlgebra"
   ]
  },
  {
   "cell_type": "markdown",
   "id": "5a7f2d37",
   "metadata": {},
   "source": [
    "### **a) Création des vecteurs**"
   ]
  },
  {
   "cell_type": "code",
   "execution_count": null,
   "id": "14e5a5c8",
   "metadata": {},
   "outputs": [],
   "source": [
    "v = [1; 2; 3]  # Vecteur de longueur 3\n",
    "v = [1, 2, 3]  # Vecteur de longueur 3"
   ]
  },
  {
   "cell_type": "code",
   "execution_count": null,
   "id": "ba6c1bc3",
   "metadata": {},
   "outputs": [],
   "source": [
    "v = 1:2:21  # Entiers allant de 1 à 21 avec un pas de 2"
   ]
  },
  {
   "cell_type": "code",
   "execution_count": null,
   "id": "285d818c",
   "metadata": {},
   "outputs": [],
   "source": [
    "v = range(1, 5, length = 100)  # Vecteur de 100 points équidistants entre 1 et 5"
   ]
  },
  {
   "cell_type": "markdown",
   "id": "aadb3593",
   "metadata": {},
   "source": [
    "### b) Création des matrices"
   ]
  },
  {
   "cell_type": "code",
   "execution_count": 6,
   "id": "14b10e66",
   "metadata": {},
   "outputs": [
    {
     "name": "stdout",
     "output_type": "stream",
     "text": [
      "M est un Matrix{Float64}\n"
     ]
    },
    {
     "data": {
      "text/plain": [
       "2×3 Matrix{Float64}:\n",
       " 1.0  2.0  3.0\n",
       " 4.0  5.0  6.0"
      ]
     },
     "metadata": {},
     "output_type": "display_data"
    }
   ],
   "source": [
    "M = [1.0 2.0 3.0; \n",
    "    4.0 5.0 6.0]\n",
    "println(\"M est un \", typeof(M))\n",
    "display(M)"
   ]
  },
  {
   "cell_type": "code",
   "execution_count": 8,
   "id": "dcefc913",
   "metadata": {},
   "outputs": [
    {
     "data": {
      "text/plain": [
       "2×3 Matrix{Float64}:\n",
       " 0.0  0.0  0.0\n",
       " 0.0  0.0  0.0"
      ]
     },
     "execution_count": 8,
     "metadata": {},
     "output_type": "execute_result"
    }
   ],
   "source": [
    "M = zeros(2, 3) # Matrice contenant que des 0 de taille 2 x 3"
   ]
  },
  {
   "cell_type": "code",
   "execution_count": 9,
   "id": "cb8ec151",
   "metadata": {},
   "outputs": [
    {
     "data": {
      "text/plain": [
       "2×3 Matrix{Float64}:\n",
       " 1.0  1.0  1.0\n",
       " 1.0  1.0  1.0"
      ]
     },
     "execution_count": 9,
     "metadata": {},
     "output_type": "execute_result"
    }
   ],
   "source": [
    "M = ones(2, 3)  # Matrice contenant que des 1 de taille 2 x 3"
   ]
  },
  {
   "cell_type": "code",
   "execution_count": 10,
   "id": "138b77a3",
   "metadata": {},
   "outputs": [
    {
     "data": {
      "text/plain": [
       "UniformScaling{Bool}\n",
       "true*I"
      ]
     },
     "execution_count": 10,
     "metadata": {},
     "output_type": "execute_result"
    }
   ],
   "source": [
    "M = I  # Matrice identité dont la dimension s'adapte aux opérations"
   ]
  },
  {
   "cell_type": "code",
   "execution_count": 11,
   "id": "978f74d7",
   "metadata": {},
   "outputs": [
    {
     "data": {
      "text/plain": [
       "3×3 Matrix{Float64}:\n",
       " 1.0  0.0  0.0\n",
       " 0.0  1.0  0.0\n",
       " 0.0  0.0  1.0"
      ]
     },
     "execution_count": 11,
     "metadata": {},
     "output_type": "execute_result"
    }
   ],
   "source": [
    "M = Matrix(1.0*I, 3, 3) # Construction de la matrice identité 3 x 3 au format dense"
   ]
  },
  {
   "cell_type": "code",
   "execution_count": 13,
   "id": "b33fcf11",
   "metadata": {},
   "outputs": [],
   "source": [
    "# ]add SparseArrays"
   ]
  },
  {
   "cell_type": "code",
   "execution_count": 14,
   "id": "c3d05a7d",
   "metadata": {},
   "outputs": [],
   "source": [
    "using SparseArrays"
   ]
  },
  {
   "cell_type": "code",
   "execution_count": 15,
   "id": "933cadba",
   "metadata": {},
   "outputs": [
    {
     "data": {
      "text/plain": [
       "1"
      ]
     },
     "execution_count": 15,
     "metadata": {},
     "output_type": "execute_result"
    }
   ],
   "source": [
    "M = spzeros(2, 2)  # Création d'une matrice creuse de taille 2 x 2\n",
    "M[1, 2] = 4\n",
    "M[2, 2] = 1"
   ]
  },
  {
   "cell_type": "code",
   "execution_count": 16,
   "id": "873be9c4",
   "metadata": {},
   "outputs": [
    {
     "data": {
      "text/plain": [
       "4×4 Tridiagonal{Int64, Vector{Int64}}:\n",
       " 4  8  ⋅   ⋅\n",
       " 1  5  9   ⋅\n",
       " ⋅  2  6  10\n",
       " ⋅  ⋅  3   7"
      ]
     },
     "execution_count": 16,
     "metadata": {},
     "output_type": "execute_result"
    }
   ],
   "source": [
    "x = [1, 2, 3]\n",
    "y = [4, 5, 6, 7]\n",
    "z = [8, 9, 10]\n",
    "M = Tridiagonal(x, y, z)  # Création d'une matrice tridiagonale"
   ]
  },
  {
   "cell_type": "code",
   "execution_count": 17,
   "id": "3d22704c",
   "metadata": {},
   "outputs": [
    {
     "data": {
      "text/plain": [
       "4×4 Bidiagonal{Int64, Vector{Int64}}:\n",
       " 4  ⋅  ⋅  ⋅\n",
       " 1  5  ⋅  ⋅\n",
       " ⋅  2  6  ⋅\n",
       " ⋅  ⋅  3  7"
      ]
     },
     "execution_count": 17,
     "metadata": {},
     "output_type": "execute_result"
    }
   ],
   "source": [
    "M = Bidiagonal(y, x, :L)  # Création d'une matrice bidiagonale inférieure"
   ]
  },
  {
   "cell_type": "code",
   "execution_count": 18,
   "id": "c439d43b",
   "metadata": {},
   "outputs": [
    {
     "data": {
      "text/plain": [
       "4×4 Matrix{Int64}:\n",
       "  1   2   3   4\n",
       "  5   6   7   8\n",
       "  9  10  11  12\n",
       " 13  14  15  16"
      ]
     },
     "execution_count": 18,
     "metadata": {},
     "output_type": "execute_result"
    }
   ],
   "source": [
    "M = [1 2 3 4; 5 6 7 8; 9 10 11 12; 13 14 15 16]\n",
    "M = [1 2 3 4;\n",
    "    5 6 7 8;\n",
    "    9 10 11 12;\n",
    "    13 14 15 16]"
   ]
  },
  {
   "cell_type": "code",
   "execution_count": 19,
   "id": "3285ab83",
   "metadata": {},
   "outputs": [
    {
     "data": {
      "text/plain": [
       "4×4 LowerTriangular{Int64, Matrix{Int64}}:\n",
       "  1   ⋅   ⋅   ⋅\n",
       "  5   6   ⋅   ⋅\n",
       "  9  10  11   ⋅\n",
       " 13  14  15  16"
      ]
     },
     "execution_count": 19,
     "metadata": {},
     "output_type": "execute_result"
    }
   ],
   "source": [
    "LowerTriangular(M)  # Triangle inférieur de M"
   ]
  },
  {
   "cell_type": "code",
   "execution_count": 65,
   "id": "efccdd9b",
   "metadata": {},
   "outputs": [
    {
     "data": {
      "text/plain": [
       "4×4 Matrix{Float64}:\n",
       " 0.572287   0.0       0.0       0.0\n",
       " 0.0329479  0.370313  0.0       0.0\n",
       " 0.800345   0.925085  0.706034  0.0\n",
       " 0.841534   0.749641  0.848604  0.446105"
      ]
     },
     "execution_count": 65,
     "metadata": {},
     "output_type": "execute_result"
    }
   ],
   "source": [
    "tril(M)"
   ]
  },
  {
   "cell_type": "code",
   "execution_count": 20,
   "id": "19dc7859",
   "metadata": {},
   "outputs": [
    {
     "data": {
      "text/plain": [
       "4×4 UpperTriangular{Int64, Matrix{Int64}}:\n",
       " 1  2   3   4\n",
       " ⋅  6   7   8\n",
       " ⋅  ⋅  11  12\n",
       " ⋅  ⋅   ⋅  16"
      ]
     },
     "execution_count": 20,
     "metadata": {},
     "output_type": "execute_result"
    }
   ],
   "source": [
    "UpperTriangular(M)  # Triangle supérieur de M"
   ]
  },
  {
   "cell_type": "code",
   "execution_count": 66,
   "id": "921f16c5",
   "metadata": {},
   "outputs": [
    {
     "data": {
      "text/plain": [
       "4×4 Matrix{Float64}:\n",
       " 0.572287  0.00109098  0.824707   0.981351\n",
       " 0.0       0.370313    0.0422158  0.522937\n",
       " 0.0       0.0         0.706034   0.0547024\n",
       " 0.0       0.0         0.0        0.446105"
      ]
     },
     "execution_count": 66,
     "metadata": {},
     "output_type": "execute_result"
    }
   ],
   "source": [
    "triu(M)"
   ]
  },
  {
   "cell_type": "code",
   "execution_count": 21,
   "id": "ad60e47e",
   "metadata": {},
   "outputs": [
    {
     "data": {
      "text/plain": [
       "4×4 UnitLowerTriangular{Int64, Matrix{Int64}}:\n",
       "  1   ⋅   ⋅  ⋅\n",
       "  5   1   ⋅  ⋅\n",
       "  9  10   1  ⋅\n",
       " 13  14  15  1"
      ]
     },
     "execution_count": 21,
     "metadata": {},
     "output_type": "execute_result"
    }
   ],
   "source": [
    "UnitLowerTriangular(M)  # Triangle strictement inférieur de M avec diagonale unitaire"
   ]
  },
  {
   "cell_type": "code",
   "execution_count": 22,
   "id": "60d39bd3",
   "metadata": {},
   "outputs": [
    {
     "data": {
      "text/plain": [
       "4×4 UnitUpperTriangular{Int64, Matrix{Int64}}:\n",
       " 1  2  3   4\n",
       " ⋅  1  7   8\n",
       " ⋅  ⋅  1  12\n",
       " ⋅  ⋅  ⋅   1"
      ]
     },
     "execution_count": 22,
     "metadata": {},
     "output_type": "execute_result"
    }
   ],
   "source": [
    "UnitUpperTriangular(M)  # Triangle strictement supérieur de M avec diagonale unitaire"
   ]
  },
  {
   "cell_type": "code",
   "execution_count": 23,
   "id": "dc119845",
   "metadata": {},
   "outputs": [
    {
     "data": {
      "text/plain": [
       "4×4 Matrix{Complex{Int64}}:\n",
       "  1+1im   2+1im   3+1im   4+1im\n",
       "  5+1im   6+1im   7+1im   8+1im\n",
       "  9+1im  10+1im  11+1im  12+1im\n",
       " 13+1im  14+1im  15+1im  16+1im"
      ]
     },
     "execution_count": 23,
     "metadata": {},
     "output_type": "execute_result"
    }
   ],
   "source": [
    "M = M + ones(Int64, 4,4) * im"
   ]
  },
  {
   "cell_type": "code",
   "execution_count": 24,
   "id": "83e83955",
   "metadata": {},
   "outputs": [
    {
     "data": {
      "text/plain": [
       "4×4 Symmetric{Complex{Int64}, Matrix{Complex{Int64}}}:\n",
       "  1+1im   5+1im   9+1im  13+1im\n",
       "  5+1im   6+1im  10+1im  14+1im\n",
       "  9+1im  10+1im  11+1im  15+1im\n",
       " 13+1im  14+1im  15+1im  16+1im"
      ]
     },
     "execution_count": 24,
     "metadata": {},
     "output_type": "execute_result"
    }
   ],
   "source": [
    "S = Symmetric(M, :L)  # Matrice symétrique basée sur le triangle inférieur de M"
   ]
  },
  {
   "cell_type": "code",
   "execution_count": 25,
   "id": "377f74e7",
   "metadata": {},
   "outputs": [
    {
     "data": {
      "text/plain": [
       "4×4 Hermitian{Complex{Int64}, Matrix{Complex{Int64}}}:\n",
       "  1+0im   5-1im   9-1im  13-1im\n",
       "  5+1im   6+0im  10-1im  14-1im\n",
       "  9+1im  10+1im  11+0im  15-1im\n",
       " 13+1im  14+1im  15+1im  16+0im"
      ]
     },
     "execution_count": 25,
     "metadata": {},
     "output_type": "execute_result"
    }
   ],
   "source": [
    "H = Hermitian(M, :L)  # Matrice hermitienne basée sur le triangle inférieur de M"
   ]
  },
  {
   "cell_type": "code",
   "execution_count": 26,
   "id": "7de01d85",
   "metadata": {},
   "outputs": [
    {
     "data": {
      "text/plain": [
       "5×5 SparseMatrixCSC{Float64, Int64} with 9 stored entries:\n",
       " 0.159416   ⋅          ⋅         ⋅          ⋅ \n",
       "  ⋅        0.0950322   ⋅         ⋅          ⋅ \n",
       "  ⋅         ⋅          ⋅        0.030655   0.350292\n",
       "  ⋅         ⋅         0.703414  0.479501    ⋅ \n",
       "  ⋅         ⋅         0.740317  0.0158525  0.654424"
      ]
     },
     "execution_count": 26,
     "metadata": {},
     "output_type": "execute_result"
    }
   ],
   "source": [
    "M1 = sprand(2, 2, 0.5)  # Matrice aléatoire de taille 2 x 2 avec une densité moyenne de 0.5\n",
    "M2 = sprand(3, 3, 0.7)  # Matrice aléatoire de taille 3 x 3 avec une densité moyenne de 0.7\n",
    "BM = blockdiag(M1, M2)  # Matrice bloc diagonale"
   ]
  },
  {
   "cell_type": "markdown",
   "id": "84729cbb",
   "metadata": {},
   "source": [
    "### c) Manipulation des vecteurs et des matrices"
   ]
  },
  {
   "cell_type": "code",
   "execution_count": 27,
   "id": "46440eec",
   "metadata": {},
   "outputs": [
    {
     "data": {
      "text/plain": [
       "2×2 Matrix{Complex{Int64}}:\n",
       "  1+1im  2-1im\n",
       " -1-1im  3+2im"
      ]
     },
     "execution_count": 27,
     "metadata": {},
     "output_type": "execute_result"
    }
   ],
   "source": [
    "M = [1+im 2-im; -1-im 3+2im]"
   ]
  },
  {
   "cell_type": "code",
   "execution_count": 28,
   "id": "d357e494",
   "metadata": {},
   "outputs": [
    {
     "data": {
      "text/plain": [
       "2×2 transpose(::Matrix{Complex{Int64}}) with eltype Complex{Int64}:\n",
       " 1+1im  -1-1im\n",
       " 2-1im   3+2im"
      ]
     },
     "execution_count": 28,
     "metadata": {},
     "output_type": "execute_result"
    }
   ],
   "source": [
    "transpose(M)  # Matrice transposéee Mᵀ"
   ]
  },
  {
   "cell_type": "code",
   "execution_count": 29,
   "id": "96c0378f",
   "metadata": {},
   "outputs": [
    {
     "data": {
      "text/plain": [
       "2×2 adjoint(::Matrix{Complex{Int64}}) with eltype Complex{Int64}:\n",
       " 1-1im  -1+1im\n",
       " 2+1im   3-2im"
      ]
     },
     "execution_count": 29,
     "metadata": {},
     "output_type": "execute_result"
    }
   ],
   "source": [
    "M'\n",
    "adjoint(M)  # Matrice adjointe Mᴴ (transposée de la matrice conjuguée)"
   ]
  },
  {
   "cell_type": "code",
   "execution_count": 30,
   "id": "593b8c09",
   "metadata": {},
   "outputs": [
    {
     "data": {
      "text/plain": [
       "1×4 Matrix{Int64}:\n",
       " 1  2  1  2"
      ]
     },
     "execution_count": 30,
     "metadata": {},
     "output_type": "execute_result"
    }
   ],
   "source": [
    "M = [[1 2] [1 2]]  # Concaténation horizontale\n",
    "M = hcat([1 2], [1 2])"
   ]
  },
  {
   "cell_type": "code",
   "execution_count": 31,
   "id": "1fb65292",
   "metadata": {},
   "outputs": [
    {
     "data": {
      "text/plain": [
       "2×2 Matrix{Int64}:\n",
       " 1  2\n",
       " 1  2"
      ]
     },
     "execution_count": 31,
     "metadata": {},
     "output_type": "execute_result"
    }
   ],
   "source": [
    "M = [[1 2]; [1 2]]  #  Concaténation verticale\n",
    "M = vcat([1 2], [1 2])"
   ]
  },
  {
   "cell_type": "code",
   "execution_count": 32,
   "id": "c0540c50",
   "metadata": {},
   "outputs": [
    {
     "data": {
      "text/plain": [
       "3×4 reshape(::UnitRange{Int64}, 3, 4) with eltype Int64:\n",
       " 1  4  7  10\n",
       " 2  5  8  11\n",
       " 3  6  9  12"
      ]
     },
     "execution_count": 32,
     "metadata": {},
     "output_type": "execute_result"
    }
   ],
   "source": [
    "v = 1:12  # Équivalent à 1:1:12\n",
    "M = reshape(v, 3, 4)  # Redimensionnement d'un vecteur en une matrice 3 x 4"
   ]
  },
  {
   "cell_type": "code",
   "execution_count": 33,
   "id": "a13f2e4e",
   "metadata": {},
   "outputs": [
    {
     "data": {
      "text/plain": [
       "12-element Vector{Int64}:\n",
       "  1\n",
       "  2\n",
       "  3\n",
       "  4\n",
       "  5\n",
       "  6\n",
       "  7\n",
       "  8\n",
       "  9\n",
       " 10\n",
       " 11\n",
       " 12"
      ]
     },
     "execution_count": 33,
     "metadata": {},
     "output_type": "execute_result"
    }
   ],
   "source": [
    "M[:]  # Conversion d'une matrice en un vecteur"
   ]
  },
  {
   "cell_type": "code",
   "execution_count": 34,
   "id": "3aad1203",
   "metadata": {},
   "outputs": [
    {
     "data": {
      "text/plain": [
       "3×4 Matrix{Int64}:\n",
       " 3  6  9  12\n",
       " 2  5  8  11\n",
       " 1  4  7  10"
      ]
     },
     "execution_count": 34,
     "metadata": {},
     "output_type": "execute_result"
    }
   ],
   "source": [
    "reverse(M, dims = 1)  # Permutation des lignes"
   ]
  },
  {
   "cell_type": "code",
   "execution_count": 35,
   "id": "4308ac67",
   "metadata": {},
   "outputs": [
    {
     "data": {
      "text/plain": [
       "3×4 Matrix{Int64}:\n",
       " 10  7  4  1\n",
       " 11  8  5  2\n",
       " 12  9  6  3"
      ]
     },
     "execution_count": 35,
     "metadata": {},
     "output_type": "execute_result"
    }
   ],
   "source": [
    "reverse(M, dims = 2)  # Permutation des colonnes"
   ]
  },
  {
   "cell_type": "code",
   "execution_count": 36,
   "id": "c0d12d73",
   "metadata": {},
   "outputs": [
    {
     "data": {
      "text/plain": [
       "6×8 Matrix{Int64}:\n",
       " 1  2  1  2  1  2  1  2\n",
       " 3  4  3  4  3  4  3  4\n",
       " 1  2  1  2  1  2  1  2\n",
       " 3  4  3  4  3  4  3  4\n",
       " 1  2  1  2  1  2  1  2\n",
       " 3  4  3  4  3  4  3  4"
      ]
     },
     "execution_count": 36,
     "metadata": {},
     "output_type": "execute_result"
    }
   ],
   "source": [
    "A = [1 2; 3 4]\n",
    "repeat(A, 3, 4)  # Répétion de A, 3 fois dans la dimension des lignes et 4 fois dans la dimension des colonnes"
   ]
  },
  {
   "cell_type": "code",
   "execution_count": 37,
   "id": "89916bef",
   "metadata": {},
   "outputs": [
    {
     "data": {
      "text/plain": [
       "2×2 Matrix{Float64}:\n",
       " 1.32068e-315  1.32068e-315\n",
       " 1.32068e-315  1.32068e-315"
      ]
     },
     "execution_count": 37,
     "metadata": {},
     "output_type": "execute_result"
    }
   ],
   "source": [
    "M = rand(4, 4)\n",
    "A = similar(M) # Construction d'une matrice similaire à M (type / dimensions)\n",
    "A = similar(M, 2, 2) # Contruction d'une matrice similaire à M avec des dimensions différentes"
   ]
  },
  {
   "cell_type": "markdown",
   "id": "c2d803ca",
   "metadata": {},
   "source": [
    "### d) Accès aux composants d'un vecteur ou d'une matrice"
   ]
  },
  {
   "cell_type": "code",
   "execution_count": 38,
   "id": "0a202c49",
   "metadata": {},
   "outputs": [
    {
     "data": {
      "text/plain": [
       "0.37031338495258415"
      ]
     },
     "execution_count": 38,
     "metadata": {},
     "output_type": "execute_result"
    }
   ],
   "source": [
    "M[2, 2]  # Accès au coefficient (2, 2) de M"
   ]
  },
  {
   "cell_type": "code",
   "execution_count": 39,
   "id": "b94db2f1",
   "metadata": {},
   "outputs": [
    {
     "data": {
      "text/plain": [
       "2×4 Matrix{Float64}:\n",
       " 0.572287   0.00109098  0.824707   0.981351\n",
       " 0.0329479  0.370313    0.0422158  0.522937"
      ]
     },
     "execution_count": 39,
     "metadata": {},
     "output_type": "execute_result"
    }
   ],
   "source": [
    "M[1:2, :]  # Accès aux lignes 1 à 2 de M"
   ]
  },
  {
   "cell_type": "code",
   "execution_count": 40,
   "id": "a01ec714",
   "metadata": {},
   "outputs": [
    {
     "data": {
      "text/plain": [
       "4×3 Matrix{Float64}:\n",
       " 0.572287   0.00109098  0.824707\n",
       " 0.0329479  0.370313    0.0422158\n",
       " 0.800345   0.925085    0.706034\n",
       " 0.841534   0.749641    0.848604"
      ]
     },
     "execution_count": 40,
     "metadata": {},
     "output_type": "execute_result"
    }
   ],
   "source": [
    "M[:, 1:3]  # Accès aux colonnes 1 à 3 de M"
   ]
  },
  {
   "cell_type": "code",
   "execution_count": 41,
   "id": "ec6379ef",
   "metadata": {},
   "outputs": [
    {
     "data": {
      "text/plain": [
       "4-element Vector{Float64}:\n",
       " 0.5722871380885932\n",
       " 0.37031338495258415\n",
       " 0.7060336564808224\n",
       " 0.44610514538205415"
      ]
     },
     "execution_count": 41,
     "metadata": {},
     "output_type": "execute_result"
    }
   ],
   "source": [
    "D = diag(M)  # Vecteur contenant la diagonale de la matrice M"
   ]
  },
  {
   "cell_type": "code",
   "execution_count": 42,
   "id": "b59a8d62",
   "metadata": {},
   "outputs": [
    {
     "data": {
      "text/plain": [
       "(4, 4)"
      ]
     },
     "execution_count": 42,
     "metadata": {},
     "output_type": "execute_result"
    }
   ],
   "source": [
    "nrow, ncol = size(M)  # Dimensions de la matrice M "
   ]
  },
  {
   "cell_type": "code",
   "execution_count": 43,
   "id": "1c448aec",
   "metadata": {},
   "outputs": [
    {
     "data": {
      "text/plain": [
       "3"
      ]
     },
     "execution_count": 43,
     "metadata": {},
     "output_type": "execute_result"
    }
   ],
   "source": [
    "v = rand(3)\n",
    "nvec = length(v) # Taille du vecteur v"
   ]
  },
  {
   "cell_type": "markdown",
   "id": "39cba82d",
   "metadata": {},
   "source": [
    "### e) Opérations mathématiques"
   ]
  },
  {
   "cell_type": "code",
   "execution_count": 44,
   "id": "f1a3fa0a",
   "metadata": {},
   "outputs": [
    {
     "data": {
      "text/plain": [
       "2×2 Matrix{Int64}:\n",
       " 5  6\n",
       " 7  8"
      ]
     },
     "execution_count": 44,
     "metadata": {},
     "output_type": "execute_result"
    }
   ],
   "source": [
    "A = [1 2; 3 4]\n",
    "B = [5 6; 7 8]"
   ]
  },
  {
   "cell_type": "code",
   "execution_count": 45,
   "id": "b3ae2bad",
   "metadata": {},
   "outputs": [
    {
     "data": {
      "text/plain": [
       "70"
      ]
     },
     "execution_count": 45,
     "metadata": {},
     "output_type": "execute_result"
    }
   ],
   "source": [
    "A ⋅ B  # Produit scalaire de A et B\n",
    "dot(A, B) # trace(AᵀB)"
   ]
  },
  {
   "cell_type": "code",
   "execution_count": 46,
   "id": "e26f4f36",
   "metadata": {},
   "outputs": [
    {
     "data": {
      "text/plain": [
       "2×2 Matrix{Int64}:\n",
       " 19  22\n",
       " 43  50"
      ]
     },
     "execution_count": 46,
     "metadata": {},
     "output_type": "execute_result"
    }
   ],
   "source": [
    "A * B  # Produit matriciel de A et B"
   ]
  },
  {
   "cell_type": "code",
   "execution_count": 47,
   "id": "5e73e3b9",
   "metadata": {},
   "outputs": [
    {
     "data": {
      "text/plain": [
       "2-element Vector{Int64}:\n",
       "  50\n",
       " 110"
      ]
     },
     "execution_count": 47,
     "metadata": {},
     "output_type": "execute_result"
    }
   ],
   "source": [
    "x = [10, 20]\n",
    "y = similar(x)\n",
    "mul!(y, A, x) # Produit matrice-vecteur en place"
   ]
  },
  {
   "cell_type": "code",
   "execution_count": 48,
   "id": "40628665",
   "metadata": {},
   "outputs": [
    {
     "data": {
      "text/plain": [
       "2×2 Matrix{Int64}:\n",
       "  5  12\n",
       " 21  32"
      ]
     },
     "execution_count": 48,
     "metadata": {},
     "output_type": "execute_result"
    }
   ],
   "source": [
    "A .* B  # Produit des coefficients termes à termes"
   ]
  },
  {
   "cell_type": "code",
   "execution_count": 49,
   "id": "191ffd84",
   "metadata": {},
   "outputs": [
    {
     "data": {
      "text/plain": [
       "2×2 Matrix{Int64}:\n",
       "  7  10\n",
       " 15  22"
      ]
     },
     "execution_count": 49,
     "metadata": {},
     "output_type": "execute_result"
    }
   ],
   "source": [
    "A^2  # Puissance d'une matrice (A * A)"
   ]
  },
  {
   "cell_type": "code",
   "execution_count": 50,
   "id": "70fa0736",
   "metadata": {},
   "outputs": [
    {
     "data": {
      "text/plain": [
       "2×2 Matrix{Int64}:\n",
       " 1   4\n",
       " 9  16"
      ]
     },
     "execution_count": 50,
     "metadata": {},
     "output_type": "execute_result"
    }
   ],
   "source": [
    "A.^2  # Puissance d'une matrice, coefficient par coefficient (A .* A)"
   ]
  },
  {
   "cell_type": "code",
   "execution_count": 51,
   "id": "92949360",
   "metadata": {},
   "outputs": [
    {
     "data": {
      "text/plain": [
       "2×2 Matrix{Float64}:\n",
       " -2.0   1.0\n",
       "  1.5  -0.5"
      ]
     },
     "execution_count": 51,
     "metadata": {},
     "output_type": "execute_result"
    }
   ],
   "source": [
    "inv(A)  # Inverse d'une matrice"
   ]
  },
  {
   "cell_type": "code",
   "execution_count": 52,
   "id": "6d86bb96",
   "metadata": {},
   "outputs": [
    {
     "data": {
      "text/plain": [
       "-2.0"
      ]
     },
     "execution_count": 52,
     "metadata": {},
     "output_type": "execute_result"
    }
   ],
   "source": [
    "det(A)  # Déterminant d'une matrice"
   ]
  },
  {
   "cell_type": "code",
   "execution_count": 53,
   "id": "da365f40",
   "metadata": {},
   "outputs": [
    {
     "data": {
      "text/plain": [
       "5"
      ]
     },
     "execution_count": 53,
     "metadata": {},
     "output_type": "execute_result"
    }
   ],
   "source": [
    "tr(A)  # Trace d'une matrice"
   ]
  },
  {
   "cell_type": "code",
   "execution_count": 54,
   "id": "27bd6c2b",
   "metadata": {},
   "outputs": [
    {
     "data": {
      "text/plain": [
       "Eigen{Float64, Float64, Matrix{Float64}, Vector{Float64}}\n",
       "values:\n",
       "2-element Vector{Float64}:\n",
       " -0.3722813232690143\n",
       "  5.372281323269014\n",
       "vectors:\n",
       "2×2 Matrix{Float64}:\n",
       " -0.824565  -0.415974\n",
       "  0.565767  -0.909377"
      ]
     },
     "execution_count": 54,
     "metadata": {},
     "output_type": "execute_result"
    }
   ],
   "source": [
    "val, vec = eigen(A)  # Valeurs propres et vecteurs propres de A"
   ]
  },
  {
   "cell_type": "code",
   "execution_count": 55,
   "id": "1ec26f46",
   "metadata": {},
   "outputs": [
    {
     "data": {
      "text/plain": [
       "5.477225575051661"
      ]
     },
     "execution_count": 55,
     "metadata": {},
     "output_type": "execute_result"
    }
   ],
   "source": [
    "norm(A)  # Norme euclienne"
   ]
  },
  {
   "cell_type": "code",
   "execution_count": 56,
   "id": "222c7fd0",
   "metadata": {},
   "outputs": [
    {
     "data": {
      "text/plain": [
       "2-element Vector{Float64}:\n",
       " 0.9999999999999997\n",
       " 1.0000000000000002"
      ]
     },
     "execution_count": 56,
     "metadata": {},
     "output_type": "execute_result"
    }
   ],
   "source": [
    "b = A * ones(2)\n",
    "x = A \\ b  # Résolution du système linéaire Ax = b"
   ]
  },
  {
   "cell_type": "markdown",
   "id": "0002a3ba",
   "metadata": {},
   "source": [
    "### f) Stockage de matrices creuses\n",
    "Les gifs utilisés dans la suite du notebook proviennent de https://matteding.github.io/."
   ]
  },
  {
   "cell_type": "markdown",
   "id": "3994c1f2",
   "metadata": {},
   "source": [
    "À l'opposé des matrices denses on peut se limiter au stockage des coefficients non nuls (*nnz*) pour les matrices creuses. On peut alors accélerer les opérations et réduire l'utilisation de la mémoire. Il existe différents formats de stockage pour les matrices creuses. Dans le cadre du cours on va se limiter aux formats COO, CSC et CSR."
   ]
  },
  {
   "cell_type": "markdown",
   "id": "9547342a",
   "metadata": {},
   "source": [
    "![label_image](https://matteding.github.io/images/sparse_dense.gif)"
   ]
  },
  {
   "cell_type": "markdown",
   "id": "9fc00147",
   "metadata": {},
   "source": [
    "__Format COO__\n",
    "\n",
    "Il s'agit du format le plus facile à comprendre. Il utilise trois vecteurs pour stocker les lignes, les colonnes et les valeurs des coefficients non nuls.\n",
    "Ce format est très pratique pour ajouter des coefficients à la matrices."
   ]
  },
  {
   "cell_type": "markdown",
   "id": "e9b54ca7",
   "metadata": {},
   "source": [
    "![label_image](https://matteding.github.io/images/coo.gif)"
   ]
  },
  {
   "cell_type": "markdown",
   "id": "8eaae6b4",
   "metadata": {},
   "source": [
    "__Formats CSC et CSR__\n",
    "\n",
    "Le format COO est adapté à la construction des matrices creuses mais ce n'est pas le format le plus performant pour les opérations. On préfére les formats compressés pour la lecture des données afin de limiter les accès en mémoire."
   ]
  },
  {
   "cell_type": "markdown",
   "id": "a5b288c6",
   "metadata": {},
   "source": [
    "![label_image](https://matteding.github.io/images/csc.gif)"
   ]
  },
  {
   "cell_type": "code",
   "execution_count": 61,
   "id": "3e17fb73",
   "metadata": {},
   "outputs": [
    {
     "data": {
      "text/plain": [
       "5×7 SparseMatrixCSC{Float64, Int64} with 5 stored entries:\n",
       "  ⋅         ⋅        0.350009   ⋅    ⋅         ⋅    ⋅ \n",
       " 0.272558   ⋅         ⋅         ⋅    ⋅         ⋅    ⋅ \n",
       "  ⋅         ⋅         ⋅         ⋅   0.890583   ⋅    ⋅ \n",
       "  ⋅        0.372237  0.578266   ⋅    ⋅         ⋅    ⋅ \n",
       "  ⋅         ⋅         ⋅         ⋅    ⋅         ⋅    ⋅ "
      ]
     },
     "execution_count": 61,
     "metadata": {},
     "output_type": "execute_result"
    }
   ],
   "source": [
    "A = sprand(Float64, 5, 7, 0.3)"
   ]
  },
  {
   "cell_type": "code",
   "execution_count": 63,
   "id": "c557467d",
   "metadata": {},
   "outputs": [
    {
     "name": "stdout",
     "output_type": "stream",
     "text": [
      "pointeurs = [1, 2, 3, 5, 5, 6, 6, 6]\n",
      "indices de lignes = [2, 4, 1, 4, 3]\n",
      "valeurs correspondantes = [0.27255801441988936, 0.3722370253628997, 0.35000919004440767, 0.5782661078747937, 0.8905826677747116]\n"
     ]
    }
   ],
   "source": [
    "println(\"pointeurs = \", A.colptr)\n",
    "println(\"indices de lignes = \", A.rowval)\n",
    "println(\"valeurs correspondantes = \", A.nzval)"
   ]
  },
  {
   "cell_type": "markdown",
   "id": "fde2e7df",
   "metadata": {},
   "source": [
    "La différence entre le format COO et CSC / CSR est que les colonnes / lignes sont compressées à l'aide d'un vecteur représentant des pointeurs."
   ]
  },
  {
   "cell_type": "markdown",
   "id": "89a9746e",
   "metadata": {},
   "source": [
    "![label_image](https://matteding.github.io/images/csr.gif)"
   ]
  },
  {
   "cell_type": "markdown",
   "id": "b9ae59db",
   "metadata": {},
   "source": [
    "Le format CSR fonctionne de même manière analogue au format CSC. En fonction de la structure de la matrice, un des deux formats nécessite moins de mémoire.\n",
    "En Julia les matrices creuses sont stockées au format CSC."
   ]
  },
  {
   "cell_type": "code",
   "execution_count": null,
   "id": "6b80da3b",
   "metadata": {},
   "outputs": [],
   "source": []
  }
 ],
 "metadata": {
  "kernelspec": {
   "display_name": "Julia 1.8.2",
   "language": "julia",
   "name": "julia-1.8"
  },
  "language_info": {
   "file_extension": ".jl",
   "mimetype": "application/julia",
   "name": "julia",
   "version": "1.8.2"
  }
 },
 "nbformat": 4,
 "nbformat_minor": 5
}
